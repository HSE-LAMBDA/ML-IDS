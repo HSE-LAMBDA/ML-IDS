{
  "cells": [
    {
      "cell_type": "markdown",
      "metadata": {
        "id": "2c29FMgtjgOv"
      },
      "source": [
        "# Transformers for time-series processing\n",
        "\n",
        "In this notebook, we continue to play with the Jena Climate dataset [1] presented on the topic of Recurrent Neural Nets. We focus on a single-variable (univariate) time series and pick the temperature reading for building a forecasting model. We start with a recap of the RNN model as a baseline and then proceed to design basic transformer architecture suitable for time-series forecasting. There are usually many hyperparameters one needs to be aware of to unleash its' powers. Thus, the practical tasks would focus on tweaking those parameters and altering the architecture until the results astound you.\n",
        "\n",
        "\n",
        "__References__\n",
        "1. Jena Climate Dataset, https://www.kaggle.com/datasets/mnassrib/jena-climate\n"
      ]
    },
    {
      "cell_type": "code",
      "execution_count": null,
      "metadata": {
        "id": "P5YLZlCpjgOx"
      },
      "outputs": [],
      "source": [
        "# PyTorch Lightning\n",
        "try:\n",
        "    import pytorch_lightning as pl\n",
        "    assert pl.__version__ == '1.9.4', \"old version\"\n",
        "except Exception: # Google Colab does not have PyTorch Lightning\n",
        "                            # installed by default.\n",
        "                            # Hence, we do it here if necessary\n",
        "    !pip install pytorch-lightning==1.9.4\n",
        "    import pytorch_lightning as pl"
      ]
    },
    {
      "cell_type": "code",
      "execution_count": null,
      "metadata": {
        "id": "8eZD4DubjgOy"
      },
      "outputs": [],
      "source": [
        "import math\n",
        "from time import time\n",
        "from tqdm.auto import tqdm\n",
        "\n",
        "import numpy as np\n",
        "import pandas as pd\n",
        "pd.options.display.float_format = '{:,.3f}'.format\n",
        "from IPython.display import display\n",
        "\n",
        "# Sklearn & stats tools\n",
        "from sklearn.model_selection import train_test_split\n",
        "from sklearn.preprocessing import StandardScaler\n",
        "from sklearn.linear_model import LinearRegression\n",
        "from sklearn.ensemble import RandomForestRegressor, GradientBoostingRegressor\n",
        "from statsmodels.tsa.seasonal import seasonal_decompose\n",
        "from sklearn.metrics import mean_absolute_error as mae\n",
        "from sklearn.metrics import mean_squared_error as mse\n",
        "\n",
        "# Neural Networks\n",
        "import torch\n",
        "import torch.nn as nn\n",
        "from torch.utils.data import Dataset, DataLoader\n",
        "import torchmetrics\n",
        "\n",
        "import pytorch_lightning as pl\n",
        "from pytorch_lightning import Trainer, seed_everything\n",
        "from pytorch_lightning.loggers.csv_logs import CSVLogger\n",
        "# from pytorch_lightning.callbacks import EarlyStopping, LearningRateMonitor\n",
        "from pytorch_lightning.callbacks.early_stopping import EarlyStopping\n",
        "\n",
        "\n",
        "# Plotting\n",
        "%matplotlib inline\n",
        "import matplotlib.pyplot as plt\n",
        "import matplotlib as mpl\n",
        "plt.style.use('bmh')\n",
        "mpl.rcParams['figure.figsize'] = 18, 8\n",
        "\n",
        "\n",
        "if torch.cuda.is_available():\n",
        "    gpus = 1\n",
        "else:\n",
        "    gpus = 0"
      ]
    },
    {
      "cell_type": "markdown",
      "metadata": {
        "id": "JJKe6BoKjgOy"
      },
      "source": [
        "## Data\n"
      ]
    },
    {
      "cell_type": "markdown",
      "metadata": {
        "id": "RZeA7G0ejgOy"
      },
      "source": [
        "### Load"
      ]
    },
    {
      "cell_type": "code",
      "execution_count": null,
      "metadata": {
        "id": "uuNrd_8RjgOz"
      },
      "outputs": [],
      "source": [
        "!if [[ ! -f jena_climate_2009_2016.csv.zip ]] ; then wget -nc \"https://storage.googleapis.com/tensorflow/tf-keras-datasets/jena_climate_2009_2016.csv.zip\" ; fi"
      ]
    },
    {
      "cell_type": "code",
      "execution_count": null,
      "metadata": {
        "colab": {
          "base_uri": "https://localhost:8080/",
          "height": 527
        },
        "id": "cbL1Ic_EjgOz",
        "outputId": "c0d5b188-a719-46ad-aed1-7ffd4a6e3497"
      },
      "outputs": [],
      "source": [
        "data = pd.read_csv(\"jena_climate_2009_2016.csv.zip\")\n",
        "data = data.iloc[::144] # grab only 144th point (i.e., daily reading)\n",
        "\n",
        "date_time_key = \"Date Time\"\n",
        "data[date_time_key] = pd.to_datetime(data[date_time_key], infer_datetime_format=True)\n",
        "data.set_index(date_time_key, inplace=True)\n",
        "data.sort_index(inplace=True)\n",
        "data.head()\n"
      ]
    },
    {
      "cell_type": "markdown",
      "metadata": {
        "id": "d_gm4cTsjgO0"
      },
      "source": [
        "### Choose two columns\n",
        "\n",
        "Further studies will be carried out with the temperature and pressure columns: `T (degC)`, `p (mbar)`."
      ]
    },
    {
      "cell_type": "code",
      "execution_count": null,
      "metadata": {
        "colab": {
          "base_uri": "https://localhost:8080/"
        },
        "id": "CeWt-1KrjgO0",
        "outputId": "c92e2bbe-b9d9-466a-ec11-5dba706aee5b"
      },
      "outputs": [],
      "source": [
        "# Weather data\n",
        "column_names = [\"T (degC)\", \"p (mbar)\"]\n",
        "X = data[column_names].values\n",
        "N = 7 * len(X) // 8  # approximately 1 year for testing\n",
        "\n",
        "X_train, X_test = X[:N], X[N:]\n",
        "print(X_train[0])\n"
      ]
    },
    {
      "cell_type": "markdown",
      "metadata": {
        "id": "rhMTv4vLjgO0"
      },
      "source": [
        "### Train/test split and preprocessing"
      ]
    },
    {
      "cell_type": "code",
      "execution_count": null,
      "metadata": {
        "id": "lAld2UBIjgO0"
      },
      "outputs": [],
      "source": [
        "scaler = StandardScaler()\n",
        "\n",
        "X_train = scaler.fit_transform(X_train)\n",
        "X_test = scaler.transform(X_test)"
      ]
    },
    {
      "cell_type": "code",
      "execution_count": null,
      "metadata": {
        "colab": {
          "base_uri": "https://localhost:8080/",
          "height": 376
        },
        "id": "6d8Ok0ABjgO0",
        "outputId": "d5e9ebd1-5e6a-4c37-b9e2-4f717c3b53be"
      },
      "outputs": [],
      "source": [
        "# plt.plot(scaler.inverse_transform(X_test))\n",
        "plt.plot(X_test)\n",
        "plt.title(f'Preprocessed (scaled) \"{column_names}\" (test sample)');"
      ]
    },
    {
      "cell_type": "markdown",
      "metadata": {
        "id": "S1mDYbYxjgO1"
      },
      "source": [
        "### Preparing to feed the data to PyTorch models"
      ]
    },
    {
      "cell_type": "markdown",
      "metadata": {
        "id": "IN36Y57IjgO1"
      },
      "source": [
        "The following function helps translate univariate time series into a tuple of arrays\n",
        "- series of sequences of the given length\n",
        "- target values that are shifted by the given number of steps from the beginning of the corresponding sequence\n",
        "\n",
        "Such tuple is frequently used for building auto-regressive models, thus the function's name.\n",
        "\n",
        "__Input X shape__: (n, p)<br>\n",
        "__Ouput shapes__: (n - k, k, p), (n - k, p))\n",
        "\n",
        "i.e., it concats subsequence of `k` elements into a single vector of feature vectors.\n",
        "One can interpret the output as an `k`-dimensional encoding of each given measurement.  Sometimes it is called a _delayed-coordinate_ representation or _auto-regressive_ (AR) representation."
      ]
    },
    {
      "cell_type": "code",
      "execution_count": null,
      "metadata": {
        "colab": {
          "base_uri": "https://localhost:8080/"
        },
        "id": "A-gPKjMRjgO1",
        "outputId": "3d029829-87ca-439a-aa41-0f434d7ed56b"
      },
      "outputs": [],
      "source": [
        "def AR_matrices(X, seq=1, tx=1, shift=1):\n",
        "    # returns auto-regressive matrices for X with shape (seq, n) \n",
        "    # X_AR: (len(X) - seq, seq, element_len)\n",
        "    # Y_AR: (len(X) - seq, element_len)\n",
        "    # Y[i] is [tx * element_len] vector next (shift-1) after X[i:i+n]\n",
        "    X_AR = []\n",
        "    Y_AR = []\n",
        "    n_features = len(X[0])\n",
        "    for i in range(seq, len(X) - shift + 1):\n",
        "        ax_ar = X[i - seq:i].reshape(-1, seq, n_features)\n",
        "        X_AR.append(ax_ar)\n",
        "\n",
        "        ay_ar = X[i + shift - 1:i + shift + tx - 1].reshape(tx, -1)\n",
        "        # print(\">>\", ay_ar)\n",
        "        Y_AR.append(ay_ar)\n",
        "\n",
        "    return np.array(X_AR).reshape(-1, seq, n_features), np.array(Y_AR).reshape(-1, tx * n_features)\n",
        "\n",
        "\n",
        "temp_X = np.concatenate([np.arange(7).reshape(-1, 1), np.arange(7, 0, -1).reshape(-1, 1)], axis=1)\n",
        "\n",
        "temp_XAR, temp_YAR = AR_matrices(temp_X, seq=3, tx=1, shift=1)\n",
        "print(\"Example: input shape:\", temp_X.shape, '-> X:', temp_XAR.shape, \"y:\", temp_YAR.shape)\n",
        "print(temp_X, '-> \\nX:', temp_XAR, \"\\ny:\", temp_YAR)\n",
        "print(\"e.g.\", temp_XAR[0], '->', temp_YAR[0])"
      ]
    },
    {
      "cell_type": "markdown",
      "metadata": {
        "id": "0KExz5BKjgO1"
      },
      "source": [
        "\n",
        "We define a custom `torch.util.data.Dataset` subclass to transform source time series (`X` and `y`) to PyTorch models such as RNNs and Transformer in sequences of `seq_len` and `target_len` lengths."
      ]
    },
    {
      "cell_type": "code",
      "execution_count": null,
      "metadata": {
        "id": "JJ6GTF3AjgO1"
      },
      "outputs": [],
      "source": [
        "class TimeseriesDataset(Dataset):   \n",
        "    def __init__(self, X: np.ndarray, y: np.ndarray=None, step: int = 1,\n",
        "                 target_len=1, reshape_features=None):\n",
        "        self.X = torch.tensor(X).float()\n",
        "        self.y = torch.tensor(y).float() if y is not None else None\n",
        "        self.step = step\n",
        "        self.target_len = target_len\n",
        "        self.seq_len = self.X.shape[1]\n",
        "        self.n_features = self.X.shape[-1]\n",
        "        self.new_n_features = self.n_features if reshape_features is None else reshape_features\n",
        "\n",
        "    def __len__(self):\n",
        "        return len(self.X) - self.step - self.target_len + 2\n",
        "\n",
        "    def __getitem__(self, index):\n",
        "        x = self.X[index:index+self.step].reshape(-1, self.new_n_features)\n",
        "        if self.y is not None:\n",
        "            return (x,\n",
        "                    self.y[index+self.step-1:index+self.step-1+self.target_len].flatten())  # TODO check if works with LSTM or squeeze it?\n",
        "        else:\n",
        "            return x"
      ]
    },
    {
      "cell_type": "code",
      "execution_count": null,
      "metadata": {
        "colab": {
          "base_uri": "https://localhost:8080/"
        },
        "id": "oI8yyUz9GMMU",
        "outputId": "845ff26a-ac2f-41d6-b86f-c4f5e89f2d65"
      },
      "outputs": [],
      "source": [
        "X_train_, y_train_ = AR_matrices(X_train[:100], seq=4, tx=1, shift=1)\n",
        "print(X_train_[:5], y_train_[:5])\n",
        "dataset = TimeseriesDataset(X_train_, y_train_, reshape_features=4)\n",
        "X_0, y_0 = dataset[0]\n",
        "print(X_0, y_0)"
      ]
    },
    {
      "cell_type": "code",
      "execution_count": null,
      "metadata": {
        "colab": {
          "base_uri": "https://localhost:8080/"
        },
        "id": "ZycWQi4xG5j1",
        "outputId": "f05eb696-7877-489b-8172-7518a32cd2d5"
      },
      "outputs": [],
      "source": [
        "print(len(dataset), '\\nDS[0]:', dataset[0], \"\\n\", dataset[0][0].shape, dataset[0][1].shape)"
      ]
    },
    {
      "cell_type": "code",
      "execution_count": null,
      "metadata": {
        "id": "4mWaTIMTGXR8"
      },
      "outputs": [],
      "source": []
    },
    {
      "cell_type": "markdown",
      "metadata": {
        "id": "U2fomJF4jgO2"
      },
      "source": [
        "`SequenceDataModule` inherits `pl.LightningDataModule` to provide `Trainer` with properly constructed X batches of (`batch_size` x `seq_len` x `n_features`) and Y batches of (`batch_size` x `tgt_len`).\n",
        "\n",
        "Details: https://pytorch-lightning.readthedocs.io/en/latest/extensions/datamodules.html"
      ]
    },
    {
      "cell_type": "code",
      "execution_count": null,
      "metadata": {
        "id": "WkPO0QQ8jgO2"
      },
      "outputs": [],
      "source": [
        "class SequenceDataModule(pl.LightningDataModule):\n",
        "    def __init__(self, X_train, X_test, seq_len=1, batch_size=128, target_len=1,\n",
        "                 num_workers=0, shift=1, reshape_features=None, train_size=0.8):\n",
        "        super().__init__()\n",
        "        self.seq_len = seq_len\n",
        "        self.batch_size = batch_size\n",
        "        self.num_workers = num_workers\n",
        "        self.tgt_len = target_len\n",
        "\n",
        "        N = int(train_size * len(X_train))\n",
        "\n",
        "        self.X_train, self.y_train = AR_matrices(X_train[:N], seq=seq_len, tx=1)\n",
        "        self.X_val, self.y_val = AR_matrices(X_train[N:], seq=seq_len, tx=1)\n",
        "        self.X_test, self.y_test = AR_matrices(X_test, seq=seq_len, tx=1)\n",
        "        self.train_dataset = TimeseriesDataset(self.X_train, self.y_train, \n",
        "                                               target_len=target_len, reshape_features=reshape_features)\n",
        "        self.val_dataset = TimeseriesDataset(self.X_val, self.y_val, \n",
        "                                             target_len=target_len, reshape_features=reshape_features)\n",
        "        self.test_dataset = TimeseriesDataset(self.X_test, self.y_test,\n",
        "                                              target_len=target_len, reshape_features=reshape_features)\n",
        "        self.predict_dataset = TimeseriesDataset(self.X_test, reshape_features=reshape_features, \n",
        "                                                 target_len=target_len)\n",
        "\n",
        "    def train_dataloader(self):\n",
        "        return DataLoader(self.train_dataset, \n",
        "                                  batch_size = self.batch_size, \n",
        "                                  shuffle = False,\n",
        "                                  num_workers = self.num_workers)\n",
        "\n",
        "    def val_dataloader(self):\n",
        "        return DataLoader(self.val_dataset, \n",
        "                                batch_size = self.batch_size, \n",
        "                                shuffle = False,\n",
        "                                num_workers = self.num_workers)\n",
        "\n",
        "    def test_dataloader(self):\n",
        "        return DataLoader(self.test_dataset, \n",
        "                                 batch_size = self.batch_size, \n",
        "                                 shuffle = False, \n",
        "                                 num_workers = self.num_workers)\n",
        "\n",
        "    def predict_dataloader(self):\n",
        "        return DataLoader(self.predict_dataset, \n",
        "                            batch_size = self.batch_size, \n",
        "                            shuffle = False, \n",
        "                            num_workers = self.num_workers)"
      ]
    },
    {
      "cell_type": "code",
      "execution_count": null,
      "metadata": {
        "id": "U9ToGP8qJEts"
      },
      "outputs": [],
      "source": [
        "# Aux training classes/functions\n",
        "\n",
        "class LitProgressBar(pl.callbacks.TQDMProgressBar):\n",
        "    def init_sanity_tqdm(self):\n",
        "        return tqdm(disable=True)\n",
        "    \n",
        "    def init_validation_tqdm(self):\n",
        "        return tqdm(disable=True)\n",
        "\n",
        "    def get_metrics(self, trainer, model):\n",
        "        # hide the version number\n",
        "        items = super().get_metrics(trainer, model)\n",
        "        items.pop(\"v_num\", None)\n",
        "        return items\n",
        "    \n",
        "def mat2vec(bT):\n",
        "    t = bT.shape[1]\n",
        "    bpad = np.pad(bT, ((0,t-1), (0,0)), mode='constant', constant_values=np.nan)\n",
        "    bpadT = bpad.T.reshape(t,-1)\n",
        "    concat_shift = np.concatenate([np.roll(bpadT[i], i).reshape(1,-1) for i in range(t)], axis=0)\n",
        "    return np.nanmean(concat_shift, axis=0)\n",
        "\n",
        "def plot_test_predict(y, y_hat, scaler=scaler):\n",
        "    plt.figure(figsize=(18, 7))\n",
        "    # print(f'MAE loss (sklearn): {mae(y, y_hat):.2f}')\n",
        "    # print(f'MSE loss (sklearn): {mse(y, y_hat):.2f}')\n",
        "    if scaler:\n",
        "        y = scaler.inverse_transform(y)\n",
        "        y_hat = scaler.inverse_transform(y_hat)\n",
        "    # y = mat2vec(y)\n",
        "    # y_hat = mat2vec(y_hat)\n",
        "    fig = plt.figure()\n",
        "    axes = fig.subplots(1, y.shape[1])\n",
        "    for i in range(y.shape[1]):\n",
        "        mae_i = np.mean(np.abs(y[:,i] - y_hat[:,i]))\n",
        "        axes[i].plot(y.T[i], label='True', alpha=0.5)\n",
        "        axes[i].plot(y_hat.T[i], label='Prediction', alpha=0.5)\n",
        "        axes[i].set_title(f\"Target {i+1}, mae: {mae_i:.2f}\")\n",
        "    \n",
        "    print(f'MAE loss (sklearn), unscaled: {mae(y, y_hat):.2f}')\n",
        "    # print(f'MSE loss (sklearn), unscaled: {mse(y, y_hat):.2f}')\n",
        "    # plt.plot(y.T[0], label='True', alpha=1.)\n",
        "    # plt.plot(y_hat.T[0], label='Prediction', alpha=1.)\n",
        "    plt.xticks(size=14)\n",
        "    plt.yticks(size=14)\n",
        "    plt.legend(loc='best', fontsize=14)\n",
        "    plt.grid(visible=1)\n",
        "    plt.show()\n",
        "\n",
        "def plot_training_metrics(logger):\n",
        "    filename = f\"{logger.log_dir}/metrics.csv\"\n",
        "    metrics = pd.read_csv(filename)\n",
        "    train_loss = metrics[['train_loss', 'step', 'epoch']][~np.isnan(metrics['train_loss'])]\n",
        "    val_loss = metrics[['val_loss', 'epoch']][~np.isnan(metrics['val_loss'])]\n",
        "\n",
        "    fig, axes = plt.subplots(1, 2, figsize=(16, 5), dpi=100)\n",
        "    axes[0].set_title('Train loss per epoch')\n",
        "    axes[0].plot(train_loss['epoch'], train_loss['train_loss'])\n",
        "    axes[1].set_title('Validation loss per epoch')\n",
        "    axes[1].plot(val_loss['epoch'], val_loss['val_loss'], color='orange')\n",
        "    plt.show(block = True)\n",
        "\n",
        "    print('MSE:')\n",
        "    print(f\"\\tTrain loss: {train_loss['train_loss'].iloc[-1]:.3f}\")\n",
        "    print(f\"\\tVal loss:   {val_loss['val_loss'].iloc[-1]:.3f}\")\n",
        "\n",
        "# pytorch model parameter statistics\n",
        "def count_parameters(model):\n",
        "    return sum(p.numel() for p in model.parameters() if p.requires_grad)\n",
        "# print(f'The model has {count_parameters(lstm_model):,} trainable parameters')"
      ]
    },
    {
      "cell_type": "markdown",
      "metadata": {
        "id": "G1ffOJysjgO2"
      },
      "source": [
        "# LSTM model\n",
        "\n",
        "Resurrect a recurrent neural network to address the forecasting problem."
      ]
    },
    {
      "cell_type": "code",
      "execution_count": null,
      "metadata": {
        "id": "J7dRTy7BjgO2"
      },
      "outputs": [],
      "source": [
        "class LSTMRegressor(pl.LightningModule):\n",
        "    '''\n",
        "    Standard PyTorch Lightning module:\n",
        "    https://pytorch-lightning.readthedocs.io/en/latest/lightning_module.html\n",
        "    '''\n",
        "    def __init__(self, \n",
        "                 hidden_size=10, \n",
        "                 input_size=1,\n",
        "                 seq_len=1, \n",
        "                 batch_size=16,\n",
        "                 num_layers=1, \n",
        "                 dropout=0.1, \n",
        "                 learning_rate=1e-3,\n",
        "                 criterion=nn.MSELoss,\n",
        "                 output_size=1):\n",
        "        super(LSTMRegressor, self).__init__()\n",
        "        self.hidden_size = hidden_size\n",
        "        self.seq_len = seq_len\n",
        "        self.batch_size = batch_size\n",
        "        self.num_layers = num_layers\n",
        "        self.dropout = nn.Dropout(dropout)\n",
        "        self.criterion = criterion\n",
        "        self.learning_rate = learning_rate\n",
        "        self.val_mae = torchmetrics.MeanAbsoluteError()\n",
        "        self.test_mae = torchmetrics.MeanAbsoluteError()\n",
        "\n",
        "        self.lstm = nn.LSTM(input_size=input_size, \n",
        "                            hidden_size=hidden_size,\n",
        "                            num_layers=num_layers, # number of LSTM-layers.\n",
        "                            dropout=dropout, \n",
        "                            batch_first=True)\n",
        "        self.linear = nn.Linear(hidden_size, output_size)\n",
        "        \n",
        "    def forward(self, x):\n",
        "        # lstm_out = (batch_size, seq_len, hidden_size)\n",
        "        lstm_out, _ = self.lstm(x)\n",
        "        dropout_out = self.dropout(lstm_out[:,-1])\n",
        "        y_pred = self.linear(dropout_out)\n",
        "        return y_pred\n",
        "\n",
        "    def configure_optimizers(self):\n",
        "        return torch.optim.Adam(self.parameters(), lr=self.learning_rate)\n",
        "\n",
        "    def training_step(self, batch, batch_idx):\n",
        "        x, y = batch\n",
        "        y_hat = self(x)\n",
        "        loss = self.criterion(y_hat, y)\n",
        "        return loss\n",
        "\n",
        "    def training_epoch_end(self, outputs):\n",
        "        # outputs is a list of dicts\n",
        "        mean_loss = torch.stack([l['loss'] for l in outputs]).mean()\n",
        "        self.log('train_loss', mean_loss, prog_bar=True, on_step=False, on_epoch=True)\n",
        "\n",
        "    def validation_step(self, batch, batch_idx):\n",
        "        x, y = batch\n",
        "        y_hat = self(x)\n",
        "        loss = self.criterion(y_hat, y)\n",
        "        self.val_mae.update(y_hat, y)\n",
        "        return loss\n",
        "\n",
        "    def validation_epoch_end(self, outputs):\n",
        "        # outputs is a list of step losses\n",
        "        self.log('val_loss', torch.mean(torch.stack(outputs)), prog_bar=True)\n",
        "\n",
        "    def test_step(self, batch, batch_idx):\n",
        "        x, y = batch\n",
        "        y_hat = self(x)\n",
        "        loss = self.criterion(y_hat, y)\n",
        "        self.test_mae.update(y_hat, y)\n",
        "        return loss\n",
        "    \n",
        "    def test_epoch_end(self, outputs):\n",
        "        self.log('test_loss', np.mean(outputs))"
      ]
    },
    {
      "cell_type": "code",
      "execution_count": null,
      "metadata": {
        "id": "xfmQauw6jgO3"
      },
      "outputs": [],
      "source": [
        "lstm_param = dict(\n",
        "    seq_len = 14, # number of sequence elements\n",
        "    input_size = 2, # number of features per sequence element\n",
        "    target_len = 1, # number of sequence element to predict\n",
        "    output_size = 2, # number of features per output (target_len times input_size)\n",
        "    hidden_size = 60,\n",
        "    num_layers = 2,\n",
        "    batch_size = 16,\n",
        "    max_epochs = 100,\n",
        "    dropout = 0.05,\n",
        "    learning_rate = 1e-3,\n",
        "    criterion = nn.MSELoss(),\n",
        ")"
      ]
    },
    {
      "cell_type": "code",
      "execution_count": null,
      "metadata": {
        "id": "6nAe67fIugYV"
      },
      "outputs": [],
      "source": [
        "lstm_dm = SequenceDataModule(\n",
        "    X_train,\n",
        "    X_test,\n",
        "    seq_len = lstm_param['seq_len'],\n",
        "    batch_size = lstm_param['batch_size'],\n",
        "    target_len = lstm_param['target_len'])  "
      ]
    },
    {
      "cell_type": "code",
      "execution_count": null,
      "metadata": {
        "colab": {
          "base_uri": "https://localhost:8080/"
        },
        "id": "dzJzHaAuugYW",
        "outputId": "b3d432f1-000f-4ae3-e003-046840aad519"
      },
      "outputs": [],
      "source": [
        "# check batches\n",
        "dl = lstm_dm.train_dataloader()\n",
        "for xb, yb in dl:\n",
        "  break\n",
        "\n",
        "print(\"X element:\", xb[0], \"\\nY element:\", yb[0], \"\\nlengths:\", len(xb[0]), len(yb[0]), xb.shape, yb.shape, len(dl), len(X_train))"
      ]
    },
    {
      "cell_type": "code",
      "execution_count": null,
      "metadata": {
        "colab": {
          "base_uri": "https://localhost:8080/"
        },
        "id": "cTQqxtnmjgO3",
        "outputId": "51c4ed90-acad-44b6-c5de-06320c77bab8"
      },
      "outputs": [],
      "source": [
        "seed_everything(1)\n",
        "lstm_model = LSTMRegressor(\n",
        "    input_size = lstm_param['input_size'],\n",
        "    hidden_size = lstm_param['hidden_size'],\n",
        "    output_size = lstm_param['output_size'],\n",
        "    seq_len = lstm_param['seq_len'],\n",
        "    batch_size = lstm_param['batch_size'],\n",
        "    criterion = lstm_param['criterion'],\n",
        "    num_layers = lstm_param['num_layers'],\n",
        "    dropout = lstm_param['dropout'],\n",
        "    learning_rate = lstm_param['learning_rate'],\n",
        ")"
      ]
    },
    {
      "cell_type": "code",
      "execution_count": null,
      "metadata": {
        "colab": {
          "base_uri": "https://localhost:8080/"
        },
        "id": "vtKtpxFcjgO3",
        "outputId": "cdd00512-edde-487e-e6bb-fece3a5e598d"
      },
      "outputs": [],
      "source": [
        "lstm_trainer = Trainer(\n",
        "    max_epochs=lstm_param['max_epochs'],\n",
        "    logger=CSVLogger('./logs', name='lstm', version='0'),\n",
        "    gpus=gpus,\n",
        "    log_every_n_steps=20,\n",
        "    callbacks=[LitProgressBar(), EarlyStopping(monitor=\"val_loss\", patience=20)],\n",
        ")"
      ]
    },
    {
      "cell_type": "markdown",
      "metadata": {
        "id": "Wj2-RRizjgO3"
      },
      "source": [
        "## Training"
      ]
    },
    {
      "cell_type": "code",
      "execution_count": null,
      "metadata": {
        "colab": {
          "base_uri": "https://localhost:8080/",
          "height": 408,
          "referenced_widgets": [
            "e92d671778f44f70891a6764031ab015",
            "bd1152b13d8d4313ba8579b9a394a995",
            "3e85253590184999a108bc4b249f0d91",
            "03ce6ffde4a14e7ba49d6b598460b599",
            "c3888bd615cf486e85641a111f9d5985",
            "2af3fb675f464291b0df92ff993f03d2",
            "c84157760f36473eb830a301cd794b66",
            "6cf3cca3d8b0455ab38030552f941009",
            "44a477055a744fb89678de3b4c22255e",
            "2dbd7e55a1df420fb35f50c1122c9d01",
            "5c1ae9790baa4dbf92b9591a6778b497"
          ]
        },
        "id": "Md3kY3y8jgO3",
        "outputId": "8a0f4dfa-293b-4513-98f5-9a4d6a201101",
        "scrolled": true
      },
      "outputs": [],
      "source": [
        "lstm_trainer.fit(lstm_model, datamodule=lstm_dm);"
      ]
    },
    {
      "cell_type": "code",
      "execution_count": null,
      "metadata": {
        "colab": {
          "base_uri": "https://localhost:8080/",
          "height": 336
        },
        "id": "fWMXHLHDjgO3",
        "outputId": "92472e96-10fb-4dc0-c81e-550d94906f17"
      },
      "outputs": [],
      "source": [
        "plot_training_metrics(lstm_trainer.logger)"
      ]
    },
    {
      "cell_type": "markdown",
      "metadata": {
        "id": "uP-cTdsGjgO3"
      },
      "source": [
        "## Testing / Prediction"
      ]
    },
    {
      "cell_type": "code",
      "execution_count": null,
      "metadata": {
        "colab": {
          "base_uri": "https://localhost:8080/",
          "height": 463,
          "referenced_widgets": [
            "315c7a6e71a9448c8cafa8f834086888",
            "bf5f748808d7494793cbb02c136c9de4",
            "56f8f9e7fead42f199f2db55a9355966",
            "3fec8ca456124e7982a95c83175890cb",
            "39dd17178f9c4c37934a1fb4fff46b90",
            "19ad391de1094639bc82ab3621c68153",
            "92d2936a176d4661aec80b1a47fad6e4",
            "ccbb7e75e818419e9ed3930921483e47",
            "e275d9d343e24a82a765c8063aa337cf",
            "9ee54dbc4d4f4d1fa9233e8d82a31eef",
            "4ff14810439e4114963c8d3fb936717e"
          ]
        },
        "id": "h-U9IMdajgO3",
        "outputId": "1f3c7318-7b58-4ec1-9e93-659a6027f1eb",
        "scrolled": true
      },
      "outputs": [],
      "source": [
        "_, y = map(torch.cat, zip(*lstm_dm.test_dataloader()))\n",
        "y_hat = torch.cat(lstm_trainer.predict(lstm_model, lstm_dm))\n",
        "plot_test_predict(y, y_hat);"
      ]
    },
    {
      "cell_type": "markdown",
      "metadata": {
        "id": "DC69dF_2jgO4"
      },
      "source": [
        "# Time series Transformer, basic implementation"
      ]
    },
    {
      "cell_type": "code",
      "execution_count": null,
      "metadata": {
        "id": "PDjNjDVhjgO4"
      },
      "outputs": [],
      "source": [
        "class TSTransformerVanilla(pl.LightningModule):\n",
        "    # d_model : number of features in the input\n",
        "    def __init__(self, n_features=1, num_layers=3, num_heads=7, dim_feedforward=2048,\n",
        "                 dropout=0, learning_rate=1e-3, seq_len=8, output_size=1,\n",
        "                 criterion=nn.MSELoss()):\n",
        "        super(TSTransformerVanilla, self).__init__()\n",
        "\n",
        "        self.encoder_layer = nn.TransformerEncoderLayer(d_model=n_features,\n",
        "                                                        nhead=num_heads,\n",
        "                                                        dim_feedforward=dim_feedforward,\n",
        "                                                        dropout=dropout,\n",
        "                                                        batch_first=True)\n",
        "        self.transformer_encoder = nn.TransformerEncoder(self.encoder_layer, \n",
        "                                                         num_layers=num_layers)        \n",
        "        self.seq_len = seq_len\n",
        "        self.decoder = self.create_decoder(n_features * seq_len, c_out=output_size, dropout=dropout)\n",
        "        self.learning_rate = learning_rate\n",
        "        self.mask = self._generate_square_subsequent_mask(self.seq_len)\n",
        "        # self.mask = None\n",
        "        self.init_weights()\n",
        "        self.criterion = criterion\n",
        "        self.val_mae = torchmetrics.MeanAbsoluteError()\n",
        "        self.test_mae = torchmetrics.MeanAbsoluteError()\n",
        "        self.encoder_dropout = nn.Dropout(dropout)\n",
        "\n",
        "    def create_decoder(self, ndim, c_out=1, dropout=0):\n",
        "        layers = [nn.Flatten()]\n",
        "        if dropout:\n",
        "            layers += [nn.Dropout(dropout)]\n",
        "        layers += [nn.Linear(ndim, c_out)]\n",
        "        return nn.Sequential(*layers)\n",
        "\n",
        "    @torch.no_grad()\n",
        "    def init_weights(self, initrange=1e-4):\n",
        "        def _init(m):\n",
        "            if isinstance(m, nn.Linear) or isinstance(m, nn.Conv2d):\n",
        "                nn.init.xavier_uniform_(m.weight)\n",
        "                if hasattr(m, 'bias') and m.bias is not None:\n",
        "                    nn.init.normal_(m.bias, std=initrange)            \n",
        "        self.apply(_init)\n",
        "\n",
        "    def _generate_square_subsequent_mask(self, sz):\n",
        "        mask = (torch.triu(torch.ones(sz, sz)) == 1).transpose(0, 1)\n",
        "        mask = mask.float().masked_fill(mask == 0, float('-inf')).masked_fill(mask == 1, float(0.0))\n",
        "        return mask\n",
        "\n",
        "    def forward(self, src):\n",
        "        assert src.shape[1] == self.seq_len, \">> incorrect sequence len: got {} vs exp {}\".format(src.shape[1], self.seq_len)\n",
        "        src_dropout = self.encoder_dropout(src)\n",
        "        output = self.transformer_encoder(src_dropout, mask=self.mask)\n",
        "        output = self.decoder(output)\n",
        "        return output\n",
        "\n",
        "    def configure_optimizers(self):\n",
        "        if self.mask is not None and self.mask.device != self.device:\n",
        "            self.mask = self.mask.to(self.device)\n",
        "        optimizer = torch.optim.Adam(self.parameters(), lr=self.learning_rate)\n",
        "        # scheduler = torch.optim.lr_scheduler.StepLR(optimizer, step_size=10, gamma=0.1)\n",
        "        # scheduler = torch.optim.lr_scheduler.ReduceLROnPlateau(optimizer, mode='min', factor=0.33, patience=10, verbose=True, threshold=0.0001, threshold_mode='rel', cooldown=0, min_lr=1e-5, eps=1e-08)\n",
        "        # return dict(optimizer=optimizer, \n",
        "        #             lr_scheduler=dict(scheduler=scheduler, monitor='val_loss', frequency=1, interval=\"epoch\"))\n",
        "        return optimizer\n",
        "\n",
        "    def training_step(self, batch, batch_idx):\n",
        "        x, y = batch\n",
        "        y_hat = self(x)\n",
        "        loss = self.criterion(y_hat, y)\n",
        "        return loss\n",
        "\n",
        "    def training_epoch_end(self, outputs):\n",
        "        # outputs is a list of dicts\n",
        "        mean_loss = torch.stack([l['loss'] for l in outputs]).mean()\n",
        "        self.log('train_loss', mean_loss, prog_bar=True)\n",
        "\n",
        "    def validation_step(self, batch, batch_idx):\n",
        "        x, y = batch\n",
        "        y_hat = self(x)\n",
        "        loss = self.criterion(y_hat, y)\n",
        "        self.val_mae.update(y_hat, y)\n",
        "        return loss\n",
        "\n",
        "    def validation_epoch_end(self, outputs):\n",
        "        # outputs is a list of step losses\n",
        "        self.log('val_loss', torch.mean(torch.stack(outputs)), prog_bar=True)\n",
        "\n",
        "    def test_step(self, batch, batch_idx):\n",
        "        x, y = batch\n",
        "        y_hat = self(x)\n",
        "        loss = self.criterion(y_hat, y)\n",
        "        self.test_mae.update(y_hat, y)\n",
        "        return loss\n",
        "    \n",
        "    def test_epoch_end(self, outputs):\n",
        "        self.log('test_loss', np.mean(outputs))\n"
      ]
    },
    {
      "cell_type": "code",
      "execution_count": null,
      "metadata": {
        "id": "SYcMWKAEjgO4"
      },
      "outputs": [],
      "source": [
        "tfr_param = dict(\n",
        "                seq_len = 14, # number of elements in raw input sequence\n",
        "                target_len = 1, # how many elements to predict\n",
        "                output_size = 2, # number of features in output\n",
        "                reshape_seq_len = 4, # new seq_len\n",
        "                reshape_features = 7, # new n_features, must be divisible by num_heads\n",
        "                dim_feedforward = 1024,\n",
        "                num_heads = 7,\n",
        "                num_layers = 2,\n",
        "                max_epochs = 100,\n",
        "                batch_size = 96,\n",
        "                criterion = nn.MSELoss(),\n",
        "                dropout = 0.05,\n",
        "                learning_rate = 1e-3/2,\n",
        "                )"
      ]
    },
    {
      "cell_type": "code",
      "execution_count": null,
      "metadata": {
        "id": "Z8eMB7HAugYb"
      },
      "outputs": [],
      "source": [
        "tfr_dm = SequenceDataModule(\n",
        "    X_train,\n",
        "    X_test,\n",
        "    seq_len = tfr_param['seq_len'],  # 7\n",
        "    batch_size = tfr_param['batch_size'],\n",
        "    target_len=tfr_param['target_len'],\n",
        "    reshape_features=tfr_param['reshape_features'],\n",
        "    shift=1,\n",
        "    )"
      ]
    },
    {
      "cell_type": "code",
      "execution_count": null,
      "metadata": {
        "colab": {
          "base_uri": "https://localhost:8080/"
        },
        "id": "Zg_oP7ejugYb",
        "outputId": "fbf7a8c2-aafb-4fb5-ae91-497327bc2e26"
      },
      "outputs": [],
      "source": [
        "# check batches\n",
        "dl = tfr_dm.train_dataloader()\n",
        "for xb, yb in dl:\n",
        "  break\n",
        "\n",
        "# assert np.allclose(yb[0], X_train[tfr_dm.n_features + tfr_dm.seq_len -1])\n",
        "print(\"X0 element:\", xb[0], \"\\nY0 element:\", yb[0], \"\\nX1:\", xb[1], \"\\nlengths:\", len(xb[0]), len(yb[0]), xb.shape, yb.shape, len(dl), len(X_train))"
      ]
    },
    {
      "cell_type": "code",
      "execution_count": null,
      "metadata": {
        "colab": {
          "base_uri": "https://localhost:8080/"
        },
        "id": "TvCXMORqjgO4",
        "outputId": "33993865-d80b-45a2-a17c-6739f5aec838"
      },
      "outputs": [],
      "source": [
        "seed_everything(1)\n",
        "tfr_model = TSTransformerVanilla(n_features=tfr_param['reshape_features'],\n",
        "                                num_heads=tfr_param['num_heads'],\n",
        "                                num_layers=tfr_param['num_layers'],\n",
        "                                seq_len=tfr_param['reshape_seq_len'],\n",
        "                                dim_feedforward=tfr_param['dim_feedforward'],\n",
        "                                output_size=tfr_param['output_size'],\n",
        "                                learning_rate=tfr_param['learning_rate'],\n",
        "                                dropout=tfr_param['dropout'])"
      ]
    },
    {
      "cell_type": "code",
      "execution_count": null,
      "metadata": {
        "colab": {
          "base_uri": "https://localhost:8080/"
        },
        "id": "eHp8ETqNugYb",
        "outputId": "aa774beb-1794-4c0d-a3bc-364a07ea163a"
      },
      "outputs": [],
      "source": [
        "tfr_trainer = pl.Trainer(\n",
        "    max_epochs=tfr_param['max_epochs'],\n",
        "    gpus=gpus,\n",
        "    # fast_dev_run=True,  # comment in to check that the dataset has no serious bugs\n",
        "    callbacks=[LitProgressBar(), EarlyStopping(monitor=\"val_loss\", patience=15)],\n",
        "    log_every_n_steps=20,\n",
        "    logger=CSVLogger('logs', name='transformer', version='vanilla')\n",
        "    )"
      ]
    },
    {
      "cell_type": "markdown",
      "metadata": {
        "id": "_MyHlK1HjgO4"
      },
      "source": [
        "## Training"
      ]
    },
    {
      "cell_type": "code",
      "execution_count": null,
      "metadata": {
        "colab": {
          "base_uri": "https://localhost:8080/",
          "height": 444,
          "referenced_widgets": [
            "1544aac7270845ff84f8bfc06fe9d59d",
            "4295854df9c744e0aba3c1b51614f9dd",
            "e68b237f0e284e24ac58358e072300ff",
            "3a2c06c426ee4ba091cc5ea6c65cb8b0",
            "d5d83906917c4b8db2c41ed736f1524c",
            "318bae7c1cdd45d78d9bc44977727f40",
            "35ba9299b6bb480cbbbae59fd77e7c63",
            "5b7ffc7f66e24409afc184d449c17f8c",
            "4eed7c3f53f14efb945db9dcd3d18df8",
            "3dc4a24a0d574bfa9ebb7689decf1b8c",
            "914106a6caef4c0ea1582c7b9853b5a1"
          ]
        },
        "id": "24cn4VXnjgO4",
        "outputId": "1312885d-a9dd-4699-9219-3e181892b00a"
      },
      "outputs": [],
      "source": [
        "tfr_trainer.fit(\n",
        "    tfr_model,\n",
        "    datamodule=tfr_dm);\n"
      ]
    },
    {
      "cell_type": "code",
      "execution_count": null,
      "metadata": {
        "colab": {
          "base_uri": "https://localhost:8080/",
          "height": 336
        },
        "id": "VfNFbSQhyFyM",
        "outputId": "cffa1bd7-c706-49b7-ccf8-b671de9cd86d"
      },
      "outputs": [],
      "source": [
        "\n",
        "plot_training_metrics(tfr_trainer.logger)"
      ]
    },
    {
      "cell_type": "markdown",
      "metadata": {
        "id": "N4Q6NfDBjgO4"
      },
      "source": [
        "## Testing / Prediction"
      ]
    },
    {
      "cell_type": "code",
      "execution_count": null,
      "metadata": {
        "colab": {
          "base_uri": "https://localhost:8080/",
          "height": 463,
          "referenced_widgets": [
            "4e8fe3516f264e2d8202c61cfd7ba2b6",
            "361a36914f0c4db282a89f49f629d607",
            "e6051a8942004c34912dcab98343a84e",
            "277fdac3e3604b75a28e7c67f85b6705",
            "2d4d3c48cda6422a94d7b640941cf515",
            "6c57c40eab304cc3b0b4a4cb68a64789",
            "87efb526377e437abc7d1279d124beb7",
            "637ed20aac744124958eb82193bc43e6",
            "cb96a69fe6464670bec6857622c45081",
            "b9dffc0b123f432cb746d450a1975f53",
            "5f400bca7ca0446bace01567535f04d7"
          ]
        },
        "id": "ADe7H2yxjgO4",
        "outputId": "c23be3be-8376-4d43-e494-c46504330f1e"
      },
      "outputs": [],
      "source": [
        "_, y = map(torch.cat, zip(*tfr_dm.test_dataloader()))\n",
        "y_hat = torch.cat(tfr_trainer.predict(tfr_model, tfr_dm))\n",
        "plot_test_predict(y, y_hat)"
      ]
    },
    {
      "cell_type": "markdown",
      "metadata": {
        "id": "UkDEI5_ujgO4"
      },
      "source": [
        "# Transformer + Positional Encoding"
      ]
    },
    {
      "cell_type": "markdown",
      "metadata": {
        "id": "AB6Ll1UIjgO6"
      },
      "source": [
        "## Positional encoding (recap)\n",
        "\n",
        "Reminder of positional encoding formula:\n",
        "$$\\overrightarrow{p_{t}}^{(i)}=f(t)^{(i)}:= \\begin{cases}\\sin \\left(\\omega_{k} \\cdot t\\right), & \\text { if } i=2 k \\\\ \\cos \\left(\\omega_{k} \\cdot t\\right), & \\text { if } i=2 k+1\\end{cases}$$\n",
        "\n",
        "where\n",
        "\n",
        "$$\\omega_{k}=\\frac{1}{10000^{2 k / d}}, k \\in [0, d/2)$$\n",
        "$$t - \\textrm{element index in a sequence}$$\n",
        "$$i - \\textrm{index of a feature} \\in [0,..,d)$$"
      ]
    },
    {
      "cell_type": "code",
      "execution_count": null,
      "metadata": {
        "colab": {
          "base_uri": "https://localhost:8080/"
        },
        "id": "V24kzowyjgO6",
        "outputId": "9c6f1141-a685-42b7-c1f7-f2269b61f2eb"
      },
      "outputs": [],
      "source": [
        "# Once given those parameters, one can construct a tensor with this encoding\n",
        "seq_len = 4\n",
        "d_model = 7\n",
        "max_div = 2e2\n",
        "\n",
        "pe = torch.zeros(seq_len, d_model)  # positional encoding\n",
        "position = torch.arange(0, seq_len, dtype=torch.float).unsqueeze(1)\n",
        "div_term_sin = torch.exp(torch.arange(0, d_model, 2).float() * (-math.log(max_div) / d_model))\n",
        "div_term_cos = torch.exp(torch.arange(1, d_model, 2).float() * (-math.log(max_div) / d_model))\n",
        "pe[:, 0::2] = torch.sin(position * div_term_sin)\n",
        "pe[:, 1::2] = torch.cos(position * div_term_cos)\n",
        "print(\"Debug, div_term_sin\", div_term_sin)\n",
        "\n",
        "pe = pe - pe.mean()\n",
        "pe = pe / pe.std()"
      ]
    },
    {
      "cell_type": "code",
      "execution_count": null,
      "metadata": {
        "colab": {
          "base_uri": "https://localhost:8080/",
          "height": 477
        },
        "id": "R0in6FJS7XOl",
        "outputId": "7e8c065c-f800-4d75-e5b8-b3f8c4924a8d"
      },
      "outputs": [],
      "source": [
        "\n",
        "plt.matshow(pe.numpy().T, origin='lower')\n",
        "plt.colorbar()\n",
        "plt.xlabel(\"sequence index\")\n",
        "plt.ylabel(\"feture index\");"
      ]
    },
    {
      "cell_type": "code",
      "execution_count": null,
      "metadata": {
        "colab": {
          "base_uri": "https://localhost:8080/",
          "height": 508
        },
        "id": "vveIB1cYjgO6",
        "outputId": "0bec6d36-eecb-4753-c3fa-3855ef32b5cf"
      },
      "outputs": [],
      "source": [
        "plt.matshow(pe.numpy().T, origin='lower')\n",
        "plt.xlabel(\"sequence index\")\n",
        "plt.ylabel(\"feture index\");"
      ]
    },
    {
      "cell_type": "code",
      "execution_count": null,
      "metadata": {
        "id": "ZnZzdScI5gxt"
      },
      "outputs": [],
      "source": [
        "def Coord2dPosEncoding(q_len, d_model, exponential=False, normalize=True, eps=1e-3):\n",
        "    x = .5 if exponential else 1\n",
        "    i = 0\n",
        "    for i in range(100):\n",
        "        cpe = 2 * (torch.linspace(0, 1, q_len).reshape(-1, 1) ** x) * (torch.linspace(0, 1, d_model).reshape(1, -1) ** x) - 1\n",
        "        if abs(cpe.mean()) <= eps: break\n",
        "        elif cpe.mean() > eps: x += .001\n",
        "        else: x -= .001\n",
        "        i += 1\n",
        "    if normalize:\n",
        "        cpe = cpe - cpe.mean()\n",
        "        cpe = cpe / cpe.std()\n",
        "        cpe = cpe / 10\n",
        "    return cpe\n",
        "\n",
        "cpe = Coord2dPosEncoding(seq_len, d_model, exponential=True, normalize=True)"
      ]
    },
    {
      "cell_type": "code",
      "execution_count": null,
      "metadata": {
        "colab": {
          "base_uri": "https://localhost:8080/",
          "height": 508
        },
        "id": "2sKheCtN5mHy",
        "outputId": "2a714d5f-a616-4f34-d164-485d89cadfe3"
      },
      "outputs": [],
      "source": [
        "plt.matshow(cpe.numpy().T, origin='lower')\n",
        "plt.xlabel(\"sequence index\")\n",
        "plt.ylabel(\"feture index\");"
      ]
    },
    {
      "cell_type": "markdown",
      "metadata": {
        "id": "euvJQUatjgO5"
      },
      "source": [
        "## Task 1 (Score: 2)\n",
        "\n",
        "Implement sincos inside PositionalEncoding method following the logic above "
      ]
    },
    {
      "cell_type": "code",
      "execution_count": null,
      "metadata": {
        "id": "skFygmx0jgO4"
      },
      "outputs": [],
      "source": [
        "def PositionalEncoding(q_len, d_model, normalize=True, max_div=1e4): # TODO: define device\n",
        "    pe = torch.zeros(q_len, d_model)\n",
        "    # implement sin/cos positional encoding, and add save it to `pe` tensor\n",
        "    \n",
        "    # <YOUR CODE>\n",
        "    raise NotImplementedError # <= remove this\n",
        "    pe = ...\n",
        "    # </YOUR CODE>\n",
        "\n",
        "    if normalize:\n",
        "        pe = pe - pe.mean()\n",
        "        pe = pe / pe.std()\n",
        "        pe = pe / 10\n",
        "    return pe"
      ]
    },
    {
      "cell_type": "code",
      "execution_count": null,
      "metadata": {
        "id": "xcdY-Vrc6syl"
      },
      "outputs": [],
      "source": [
        "class TSTransformerPositional(TSTransformerVanilla):\n",
        "    # d_model : number of features\n",
        "    def __init__(self, feature_size=1, num_layers=3, num_heads=7, dim_feedforward=2048,\n",
        "                 dropout=0, learning_rate=1e-3, seq_len=8, output_size=1,\n",
        "                 criterion=nn.MSELoss()):\n",
        "        super(TSTransformerPositional, self).__init__(n_features=feature_size,\n",
        "                                                      num_layers=num_layers,\n",
        "                                                      num_heads=num_heads,\n",
        "                                                      dim_feedforward=dim_feedforward,\n",
        "                                                      dropout=dropout,\n",
        "                                                      learning_rate=learning_rate,\n",
        "                                                      seq_len=seq_len,\n",
        "                                                      output_size=output_size,\n",
        "                                                      criterion=criterion)\n",
        "\n",
        "        # self.W_pos = self._positional_encoding(None, False, seq_len, feature_size)\n",
        "        # self.W_pos = self._positional_encoding(\"zeros\", True, seq_len, feature_size)\n",
        "        # self.W_pos = self._positional_encoding(\"normal\", True, seq_len, feature_size)\n",
        "        # self.W_pos = self._positional_encoding(\"uniform\", True, seq_len, feature_size)\n",
        "        self.W_pos = self._positional_encoding(\"sincos\", False, seq_len, feature_size, normalize=True, max_div=1e2)\n",
        "        # self.W_pos = self._positional_encoding(\"sincos\", True, seq_len, feature_size, normalize=False)\n",
        "        # self.W_pos = self._positional_encoding(\"sincos\", True, seq_len, feature_size, normalize=True)\n",
        "        # self.W_pos = self._positional_encoding(\"lin2d\", False, seq_len, feature_size,  normalize=False)\n",
        "        # self.W_pos = self._positional_encoding(\"exp2d\", False, seq_len, feature_size,  normalize=False)\n",
        "        # self.W_pos = self._positional_encoding(\"exp2d\", False, seq_len, feature_size,  normalize=True)\n",
        "        self.dropout = nn.Dropout(dropout)\n",
        "\n",
        "    def _positional_encoding(self, pe, learn_pe, q_len=1, d_model=1, normalize=True, max_div=1e4):\n",
        "        if pe == None:\n",
        "            W_pos = torch.zeros((q_len, d_model)) # pe = None and learn_pe = False can be used to measure impact of pe\n",
        "            learn_pe = False\n",
        "        elif pe == 'zeros':\n",
        "            W_pos = torch.empty((q_len, d_model))\n",
        "            nn.init.uniform_(W_pos, -0.02, 0.02)\n",
        "        elif pe == 'normal' or pe == 'gauss':\n",
        "            W_pos = torch.zeros((q_len, d_model))\n",
        "            torch.nn.init.normal_(W_pos, mean=0.0, std=0.1)\n",
        "        elif pe == 'uniform':\n",
        "            W_pos = torch.zeros((q_len, d_model))\n",
        "            nn.init.uniform_(W_pos, a=0.0, b=0.1)\n",
        "        elif pe == 'lin2d': \n",
        "          W_pos = Coord2dPosEncoding(q_len, d_model, exponential=False, normalize=normalize)\n",
        "        elif pe == 'exp2d': W_pos = Coord2dPosEncoding(q_len, d_model, exponential=True, normalize=normalize)\n",
        "        elif pe == 'sincos': W_pos = PositionalEncoding(q_len, d_model, normalize=normalize, max_div=max_div)\n",
        "        return nn.Parameter(W_pos, requires_grad=learn_pe)\n",
        "\n",
        "    def forward(self, src):\n",
        "        assert src.shape[1] == self.seq_len, \"incorrect sequence len\"\n",
        "        src = self.dropout(src + self.W_pos)\n",
        "        # src = src + self.W_pos\n",
        "        output = self.transformer_encoder(src, mask=self.mask)\n",
        "        output = self.decoder(output)\n",
        "        return output\n",
        "\n"
      ]
    },
    {
      "cell_type": "code",
      "execution_count": null,
      "metadata": {
        "id": "0qEn1X3ojgO5"
      },
      "outputs": [],
      "source": [
        "tfr_pos_model = TSTransformerPositional(feature_size=tfr_param['reshape_features'],\n",
        "                                        num_heads=tfr_param['num_heads'],\n",
        "                                        num_layers=tfr_param['num_layers'],\n",
        "                                        seq_len=tfr_param['reshape_seq_len'],\n",
        "                                        dim_feedforward=tfr_param['dim_feedforward'],\n",
        "                                        output_size=tfr_param['output_size'],\n",
        "                                        learning_rate=tfr_param['learning_rate'],\n",
        "                                        dropout=tfr_param['dropout'])"
      ]
    },
    {
      "cell_type": "code",
      "execution_count": null,
      "metadata": {
        "colab": {
          "base_uri": "https://localhost:8080/"
        },
        "id": "wcqVdKm3jgO5",
        "outputId": "a5d52213-090d-467f-c142-5c5f0f537fb1"
      },
      "outputs": [],
      "source": [
        "# add early stop callback to pl.Trainer\n",
        "\n",
        "\n",
        "seed_everything(1)\n",
        "tfr_pos_trainer = pl.Trainer(\n",
        "    max_epochs=tfr_param['max_epochs'],\n",
        "    gpus=gpus,\n",
        "    # fast_dev_run=True,  # comment in to check that networkor dataset has no serious bugs\n",
        "    callbacks=[LitProgressBar(), EarlyStopping(monitor=\"val_loss\", patience=15)], # \n",
        "    log_every_n_steps = 20,\n",
        "    logger=CSVLogger('logs', name='transformer', version='pos')\n",
        "    )\n",
        "\n",
        "tfr_pos_dm = SequenceDataModule(\n",
        "    X_train,\n",
        "    X_test,\n",
        "    seq_len = tfr_param['seq_len'],\n",
        "    batch_size = tfr_param['batch_size'],\n",
        "    target_len=tfr_param['target_len'],\n",
        "    reshape_features=tfr_param['reshape_features'],\n",
        "    )"
      ]
    },
    {
      "cell_type": "code",
      "execution_count": null,
      "metadata": {
        "id": "LJOmUQl9k_3S"
      },
      "outputs": [],
      "source": [
        "# tfr_param['batch_size'] = 96; tfr_param['learning_rate'] = 1e-3; tfr_param"
      ]
    },
    {
      "cell_type": "markdown",
      "metadata": {
        "id": "QCqSc09fjgO5"
      },
      "source": [
        "## Training"
      ]
    },
    {
      "cell_type": "code",
      "execution_count": null,
      "metadata": {
        "colab": {
          "base_uri": "https://localhost:8080/",
          "height": 462,
          "referenced_widgets": [
            "ac62fc69921a4b9fa8774ec11b0cf8c0",
            "bd35d6e48f004bb3b9b3c410c564fec2",
            "3288f050aca84011a0e4ffef09a6a1ea",
            "ee4a48f65ece45f5b43002be5d95922e",
            "1257e6040fba4ac8857aab5e0e74d11b",
            "0aa12b2f05ba4a658b50c556cd119094",
            "85560f114eee401389c0c2b81fa2aa45",
            "ac408daec5b64a588c17a43078556deb",
            "6c2950bcb6134e0fb35f36c98059692c",
            "5bbf41ffc19f43b28a3881e69c71c420",
            "f3109d0366b543dda0b10b05946e5616"
          ]
        },
        "id": "wSjuf4JDjgO5",
        "outputId": "314c8f38-a203-4c26-ce82-dcfba2acf015"
      },
      "outputs": [],
      "source": [
        "tfr_pos_trainer.fit(\n",
        "    tfr_pos_model,\n",
        "    datamodule=tfr_pos_dm)"
      ]
    },
    {
      "cell_type": "code",
      "execution_count": null,
      "metadata": {
        "colab": {
          "base_uri": "https://localhost:8080/",
          "height": 334
        },
        "id": "iaw4PzZzjgO5",
        "outputId": "72849dc5-a452-4945-dd48-d9bd10110138"
      },
      "outputs": [],
      "source": [
        "plot_training_metrics(tfr_pos_trainer.logger)"
      ]
    },
    {
      "cell_type": "markdown",
      "metadata": {
        "id": "xS_Fry7yjgO5"
      },
      "source": [
        "## Testing / Prediction"
      ]
    },
    {
      "cell_type": "code",
      "execution_count": null,
      "metadata": {
        "colab": {
          "base_uri": "https://localhost:8080/",
          "height": 463,
          "referenced_widgets": [
            "1029567438a442168726076c75426f82",
            "30d0e45c6d1f4d2abb64c616e1cfe4ca",
            "7855e37862be4754a8296928ef441f80",
            "e6b2af7f89cd46cfae196a5f8b87a70a",
            "c3b215ce0ecc4f1c8868577512b80153",
            "dc9eddb8816549e38155aba7cacbe820",
            "326ea3ead65240f8a290b2c8ef69963e",
            "eb1aa4e736c5432095141bb9998c9ecc",
            "883d8a85632f408d9693d7e6527f7680",
            "f8616792c5214265a897475f864b8531",
            "35e519136ab043e7af7440f221d5f36f"
          ]
        },
        "id": "97ftFrA0jgO5",
        "outputId": "f8cff464-a0b9-4977-f956-5b739f88c783"
      },
      "outputs": [],
      "source": [
        "_, y = map(torch.cat, zip(*tfr_pos_dm.test_dataloader()))\n",
        "y_hat = torch.cat(tfr_pos_trainer.predict(tfr_pos_model, tfr_pos_dm))\n",
        "plot_test_predict(y, y_hat)"
      ]
    },
    {
      "cell_type": "markdown",
      "metadata": {
        "id": "ibMMkbg9jgO5"
      },
      "source": [
        "## Task 2 (Score: 2)\n",
        "\n",
        "Compare various positional encodings implemented above. Play with 'normalization' and 'learning' parameters.\n",
        "\n",
        "Make a table with the test performance under similar computational budget. "
      ]
    },
    {
      "cell_type": "markdown",
      "metadata": {
        "id": "u5tos_oRjgO5"
      },
      "source": [
        "# Task 3 (Score: 2) TSTransformerPositionalCat\n",
        "\n",
        "Implement `TSTransformerPositionalCat` so it concats positional encoding tensor to `src` instead of numerical adding. "
      ]
    },
    {
      "cell_type": "code",
      "execution_count": null,
      "metadata": {
        "id": "24yfjyoCjgO5"
      },
      "outputs": [],
      "source": [
        "class TSTransformerPositionalCat(TSTransformerPositional):\n",
        "    # d_model : number of features\n",
        "    def __init__(self, feature_size=1, num_layers=3, num_heads=7, dim_feedforward=2048,\n",
        "                 dropout=0, learning_rate=1e-3, seq_len=8, output_size=1,\n",
        "                 criterion=nn.MSELoss()):\n",
        "        # NB feature size is doubled since we send 2-times larger tensor to the encoder\n",
        "        super(TSTransformerPositionalCat, self).__init__(feature_size = feature_size * 2,\n",
        "                                                         num_layers=num_layers,\n",
        "                                                         num_heads=num_heads,\n",
        "                                                         dim_feedforward=dim_feedforward,\n",
        "                                                        dropout=dropout,\n",
        "                                                        learning_rate=learning_rate,\n",
        "                                                        seq_len=seq_len,\n",
        "                                                        output_size=output_size,\n",
        "                                                        criterion=criterion)\n",
        "\n",
        "        self.W_pos = self._positional_encoding(\"sincos\", False, seq_len, feature_size, normalize=False, max_div=1e3)\n",
        "        # self.W_pos = self._positional_encoding(\"normal\", True, seq_len, feature_size)\n",
        "        # self.W_pos = self._positional_encoding(\"sincos\", True, seq_len, feature_size, normalize=False)\n",
        "\n",
        "\n",
        "    def forward(self, src):\n",
        "        assert src.shape[1] == self.seq_len, \"incorrect sequence len\"\n",
        "        # TODO: concatenate self.W_pos with every batch entry\n",
        "\n",
        "        # src_pos = ... <YOUR CODE>\n",
        "        raise NotImplementedError # <= remove this\n",
        "\n",
        "        src = self.dropout(src_pos)\n",
        "\n",
        "        output = self.transformer_encoder(src, self.mask)\n",
        "        output = self.decoder(output)\n",
        "        return output"
      ]
    },
    {
      "cell_type": "code",
      "execution_count": null,
      "metadata": {
        "colab": {
          "base_uri": "https://localhost:8080/"
        },
        "id": "w5OmQCsfjgO5",
        "outputId": "a3fdcf8c-04d2-4805-9192-9e8d7a2dd85d"
      },
      "outputs": [],
      "source": [
        "seed_everything(1)\n",
        "tfr_pos_cat_trainer = pl.Trainer(\n",
        "    max_epochs=tfr_param['max_epochs'],\n",
        "    gpus=gpus,\n",
        "    # fast_dev_run=True,  # comment in to check that networkor dataset has no serious bugs\n",
        "    callbacks=[LitProgressBar(), EarlyStopping(monitor=\"val_loss\", patience=20)],\n",
        "    log_every_n_steps=20,\n",
        "    logger=CSVLogger('logs', name='transformer', version='pos-cat')\n",
        "    )\n",
        "\n",
        "tfr_pos_cat_dm = SequenceDataModule(\n",
        "    X_train,\n",
        "    X_test,\n",
        "    seq_len=tfr_param['seq_len'],\n",
        "    batch_size=tfr_param['batch_size'],\n",
        "    target_len=tfr_param['target_len'],\n",
        "    reshape_features=tfr_param['reshape_features']\n",
        "    )"
      ]
    },
    {
      "cell_type": "code",
      "execution_count": null,
      "metadata": {
        "id": "pnvkb5e-jgO6"
      },
      "outputs": [],
      "source": [
        "tfr_pos_cat_model = TSTransformerPositionalCat(\n",
        "    feature_size=tfr_param['reshape_features'],\n",
        "    num_heads=tfr_param['num_heads'],\n",
        "    num_layers=tfr_param['num_layers'],\n",
        "    seq_len=tfr_param['reshape_seq_len'],\n",
        "    dim_feedforward=tfr_param['dim_feedforward'],\n",
        "    output_size=tfr_param['output_size'],\n",
        "    learning_rate=tfr_param['learning_rate'],\n",
        "    dropout=tfr_param['dropout']\n",
        ")"
      ]
    },
    {
      "cell_type": "markdown",
      "metadata": {
        "id": "tnONYY9IjgO6"
      },
      "source": [
        "## Train"
      ]
    },
    {
      "cell_type": "code",
      "execution_count": null,
      "metadata": {
        "colab": {
          "base_uri": "https://localhost:8080/",
          "height": 444,
          "referenced_widgets": [
            "bb97d49057564ab38a7972c122fe7640",
            "ef1415b379dd49cf85533560b5dd1ea3",
            "48848362fffb4c048aaa3937094b739b",
            "c17848e784cf40f1a916ae1c752286f9",
            "727549949b054d869e12f996a4d42b07",
            "cdb09917a81f4658829e86577bc8a003",
            "8b697a6639fa4d2bba017c395e6f7fef",
            "142b7c8608354ac0a87c31ef7be29c41",
            "b555c0627a6d427eb19672b0f3065a35",
            "f874261620ba4946a9e353a5dda06ed0",
            "10aea9a221e74ba4a84f20df3cc91518"
          ]
        },
        "id": "zWP3wIZgjgO6",
        "outputId": "9db0ef59-7c38-4275-96c0-0a6d484460b4"
      },
      "outputs": [],
      "source": [
        "tfr_pos_cat_trainer.fit(\n",
        "    tfr_pos_cat_model,\n",
        "    datamodule=tfr_pos_cat_dm)"
      ]
    },
    {
      "cell_type": "code",
      "execution_count": null,
      "metadata": {
        "colab": {
          "base_uri": "https://localhost:8080/",
          "height": 336
        },
        "id": "lBeuZh5WO8qW",
        "outputId": "055b1909-3bd5-4824-b90d-d85d95aa7a22"
      },
      "outputs": [],
      "source": [
        "\n",
        "plot_training_metrics(tfr_pos_cat_trainer.logger)"
      ]
    },
    {
      "cell_type": "markdown",
      "metadata": {
        "id": "kNRVzIyTjgO6"
      },
      "source": [
        "## Testing / Prediction"
      ]
    },
    {
      "cell_type": "code",
      "execution_count": null,
      "metadata": {
        "colab": {
          "base_uri": "https://localhost:8080/",
          "height": 463,
          "referenced_widgets": [
            "4794be4ebe7444f381732e70dde7938e",
            "e9119d851b344b6486ff77bd1e053a63",
            "0b5c4498ed714a6e8490dfc5aaca4da8",
            "401a5a4007464e238005bc9152a397dc",
            "2f0fbf0650aa436abdbf0e8e042b84ec",
            "6c05836db84b49ce8998976e5c105473",
            "1061f0d18fad4e0f908924503a2f4879",
            "50af98f5534240299b55e9c562a83136",
            "264a511d3c854a8191209930f6b90128",
            "4f693ea559aa422cb864f03e147b4c3b",
            "d561def543f7434c944bf2ea582f44ad"
          ]
        },
        "id": "2IOKZ_zHjgO6",
        "outputId": "a2b2c53f-e454-4edb-fccf-14c16c1a4056"
      },
      "outputs": [],
      "source": [
        "_, y = map(torch.cat, zip(*tfr_pos_cat_dm.test_dataloader()))\n",
        "y_hat = torch.cat(tfr_pos_cat_trainer.predict(tfr_pos_cat_model, tfr_pos_cat_dm))\n",
        "plot_test_predict(y[:], y_hat[:])"
      ]
    },
    {
      "cell_type": "markdown",
      "metadata": {
        "id": "COAg8WZujgO6"
      },
      "source": [
        "# Conclusion\n",
        "\n",
        "This notebook provided a basic use-case for transformers applied to time-series data on simple multivariate time series. For a more advanced implementation, please refer to packages intentionally designed for such data crunching, e.g.:\n",
        "- https://github.com/timeseriesAI/tsai/\n",
        "- https://github.com/jdb78/pytorch-forecasting"
      ]
    },
    {
      "cell_type": "code",
      "execution_count": null,
      "metadata": {
        "id": "UrzzjrxJjgO6"
      },
      "outputs": [],
      "source": []
    }
  ],
  "metadata": {
    "accelerator": "GPU",
    "colab": {
      "provenance": [],
      "toc_visible": true
    },
    "gpuClass": "standard",
    "kernelspec": {
      "display_name": "Python 3.10.5 64-bit ('3.10.5')",
      "language": "python",
      "name": "python3"
    },
    "language_info": {
      "codemirror_mode": {
        "name": "ipython",
        "version": 3
      },
      "file_extension": ".py",
      "mimetype": "text/x-python",
      "name": "python",
      "nbconvert_exporter": "python",
      "pygments_lexer": "ipython3",
      "version": "3.10.8"
    },
    "vscode": {
      "interpreter": {
        "hash": "8681b58675006b927bf238b28cbba13d80b46e63b73bc8f5f3af29890fe722d9"
      }
    },
    "widgets": {
      "application/vnd.jupyter.widget-state+json": {
        "03ce6ffde4a14e7ba49d6b598460b599": {
          "model_module": "@jupyter-widgets/controls",
          "model_module_version": "1.5.0",
          "model_name": "HTMLModel",
          "state": {
            "_dom_classes": [],
            "_model_module": "@jupyter-widgets/controls",
            "_model_module_version": "1.5.0",
            "_model_name": "HTMLModel",
            "_view_count": null,
            "_view_module": "@jupyter-widgets/controls",
            "_view_module_version": "1.5.0",
            "_view_name": "HTMLView",
            "description": "",
            "description_tooltip": null,
            "layout": "IPY_MODEL_2dbd7e55a1df420fb35f50c1122c9d01",
            "placeholder": "​",
            "style": "IPY_MODEL_5c1ae9790baa4dbf92b9591a6778b497",
            "value": " 159/159 [00:00&lt;00:00, 231.85it/s, loss=0.306, val_loss=0.796, train_loss=0.334]"
          }
        },
        "0aa12b2f05ba4a658b50c556cd119094": {
          "model_module": "@jupyter-widgets/base",
          "model_module_version": "1.2.0",
          "model_name": "LayoutModel",
          "state": {
            "_model_module": "@jupyter-widgets/base",
            "_model_module_version": "1.2.0",
            "_model_name": "LayoutModel",
            "_view_count": null,
            "_view_module": "@jupyter-widgets/base",
            "_view_module_version": "1.2.0",
            "_view_name": "LayoutView",
            "align_content": null,
            "align_items": null,
            "align_self": null,
            "border": null,
            "bottom": null,
            "display": null,
            "flex": null,
            "flex_flow": null,
            "grid_area": null,
            "grid_auto_columns": null,
            "grid_auto_flow": null,
            "grid_auto_rows": null,
            "grid_column": null,
            "grid_gap": null,
            "grid_row": null,
            "grid_template_areas": null,
            "grid_template_columns": null,
            "grid_template_rows": null,
            "height": null,
            "justify_content": null,
            "justify_items": null,
            "left": null,
            "margin": null,
            "max_height": null,
            "max_width": null,
            "min_height": null,
            "min_width": null,
            "object_fit": null,
            "object_position": null,
            "order": null,
            "overflow": null,
            "overflow_x": null,
            "overflow_y": null,
            "padding": null,
            "right": null,
            "top": null,
            "visibility": null,
            "width": null
          }
        },
        "0b5c4498ed714a6e8490dfc5aaca4da8": {
          "model_module": "@jupyter-widgets/controls",
          "model_module_version": "1.5.0",
          "model_name": "FloatProgressModel",
          "state": {
            "_dom_classes": [],
            "_model_module": "@jupyter-widgets/controls",
            "_model_module_version": "1.5.0",
            "_model_name": "FloatProgressModel",
            "_view_count": null,
            "_view_module": "@jupyter-widgets/controls",
            "_view_module_version": "1.5.0",
            "_view_name": "ProgressView",
            "bar_style": "success",
            "description": "",
            "description_tooltip": null,
            "layout": "IPY_MODEL_50af98f5534240299b55e9c562a83136",
            "max": 4,
            "min": 0,
            "orientation": "horizontal",
            "style": "IPY_MODEL_264a511d3c854a8191209930f6b90128",
            "value": 4
          }
        },
        "1029567438a442168726076c75426f82": {
          "model_module": "@jupyter-widgets/controls",
          "model_module_version": "1.5.0",
          "model_name": "HBoxModel",
          "state": {
            "_dom_classes": [],
            "_model_module": "@jupyter-widgets/controls",
            "_model_module_version": "1.5.0",
            "_model_name": "HBoxModel",
            "_view_count": null,
            "_view_module": "@jupyter-widgets/controls",
            "_view_module_version": "1.5.0",
            "_view_name": "HBoxView",
            "box_style": "",
            "children": [
              "IPY_MODEL_30d0e45c6d1f4d2abb64c616e1cfe4ca",
              "IPY_MODEL_7855e37862be4754a8296928ef441f80",
              "IPY_MODEL_e6b2af7f89cd46cfae196a5f8b87a70a"
            ],
            "layout": "IPY_MODEL_c3b215ce0ecc4f1c8868577512b80153"
          }
        },
        "1061f0d18fad4e0f908924503a2f4879": {
          "model_module": "@jupyter-widgets/controls",
          "model_module_version": "1.5.0",
          "model_name": "DescriptionStyleModel",
          "state": {
            "_model_module": "@jupyter-widgets/controls",
            "_model_module_version": "1.5.0",
            "_model_name": "DescriptionStyleModel",
            "_view_count": null,
            "_view_module": "@jupyter-widgets/base",
            "_view_module_version": "1.2.0",
            "_view_name": "StyleView",
            "description_width": ""
          }
        },
        "10aea9a221e74ba4a84f20df3cc91518": {
          "model_module": "@jupyter-widgets/controls",
          "model_module_version": "1.5.0",
          "model_name": "DescriptionStyleModel",
          "state": {
            "_model_module": "@jupyter-widgets/controls",
            "_model_module_version": "1.5.0",
            "_model_name": "DescriptionStyleModel",
            "_view_count": null,
            "_view_module": "@jupyter-widgets/base",
            "_view_module_version": "1.2.0",
            "_view_name": "StyleView",
            "description_width": ""
          }
        },
        "1257e6040fba4ac8857aab5e0e74d11b": {
          "model_module": "@jupyter-widgets/base",
          "model_module_version": "1.2.0",
          "model_name": "LayoutModel",
          "state": {
            "_model_module": "@jupyter-widgets/base",
            "_model_module_version": "1.2.0",
            "_model_name": "LayoutModel",
            "_view_count": null,
            "_view_module": "@jupyter-widgets/base",
            "_view_module_version": "1.2.0",
            "_view_name": "LayoutView",
            "align_content": null,
            "align_items": null,
            "align_self": null,
            "border": null,
            "bottom": null,
            "display": "inline-flex",
            "flex": null,
            "flex_flow": "row wrap",
            "grid_area": null,
            "grid_auto_columns": null,
            "grid_auto_flow": null,
            "grid_auto_rows": null,
            "grid_column": null,
            "grid_gap": null,
            "grid_row": null,
            "grid_template_areas": null,
            "grid_template_columns": null,
            "grid_template_rows": null,
            "height": null,
            "justify_content": null,
            "justify_items": null,
            "left": null,
            "margin": null,
            "max_height": null,
            "max_width": null,
            "min_height": null,
            "min_width": null,
            "object_fit": null,
            "object_position": null,
            "order": null,
            "overflow": null,
            "overflow_x": null,
            "overflow_y": null,
            "padding": null,
            "right": null,
            "top": null,
            "visibility": null,
            "width": "100%"
          }
        },
        "142b7c8608354ac0a87c31ef7be29c41": {
          "model_module": "@jupyter-widgets/base",
          "model_module_version": "1.2.0",
          "model_name": "LayoutModel",
          "state": {
            "_model_module": "@jupyter-widgets/base",
            "_model_module_version": "1.2.0",
            "_model_name": "LayoutModel",
            "_view_count": null,
            "_view_module": "@jupyter-widgets/base",
            "_view_module_version": "1.2.0",
            "_view_name": "LayoutView",
            "align_content": null,
            "align_items": null,
            "align_self": null,
            "border": null,
            "bottom": null,
            "display": null,
            "flex": "2",
            "flex_flow": null,
            "grid_area": null,
            "grid_auto_columns": null,
            "grid_auto_flow": null,
            "grid_auto_rows": null,
            "grid_column": null,
            "grid_gap": null,
            "grid_row": null,
            "grid_template_areas": null,
            "grid_template_columns": null,
            "grid_template_rows": null,
            "height": null,
            "justify_content": null,
            "justify_items": null,
            "left": null,
            "margin": null,
            "max_height": null,
            "max_width": null,
            "min_height": null,
            "min_width": null,
            "object_fit": null,
            "object_position": null,
            "order": null,
            "overflow": null,
            "overflow_x": null,
            "overflow_y": null,
            "padding": null,
            "right": null,
            "top": null,
            "visibility": null,
            "width": null
          }
        },
        "1544aac7270845ff84f8bfc06fe9d59d": {
          "model_module": "@jupyter-widgets/controls",
          "model_module_version": "1.5.0",
          "model_name": "HBoxModel",
          "state": {
            "_dom_classes": [],
            "_model_module": "@jupyter-widgets/controls",
            "_model_module_version": "1.5.0",
            "_model_name": "HBoxModel",
            "_view_count": null,
            "_view_module": "@jupyter-widgets/controls",
            "_view_module_version": "1.5.0",
            "_view_name": "HBoxView",
            "box_style": "",
            "children": [
              "IPY_MODEL_4295854df9c744e0aba3c1b51614f9dd",
              "IPY_MODEL_e68b237f0e284e24ac58358e072300ff",
              "IPY_MODEL_3a2c06c426ee4ba091cc5ea6c65cb8b0"
            ],
            "layout": "IPY_MODEL_d5d83906917c4b8db2c41ed736f1524c"
          }
        },
        "19ad391de1094639bc82ab3621c68153": {
          "model_module": "@jupyter-widgets/base",
          "model_module_version": "1.2.0",
          "model_name": "LayoutModel",
          "state": {
            "_model_module": "@jupyter-widgets/base",
            "_model_module_version": "1.2.0",
            "_model_name": "LayoutModel",
            "_view_count": null,
            "_view_module": "@jupyter-widgets/base",
            "_view_module_version": "1.2.0",
            "_view_name": "LayoutView",
            "align_content": null,
            "align_items": null,
            "align_self": null,
            "border": null,
            "bottom": null,
            "display": null,
            "flex": null,
            "flex_flow": null,
            "grid_area": null,
            "grid_auto_columns": null,
            "grid_auto_flow": null,
            "grid_auto_rows": null,
            "grid_column": null,
            "grid_gap": null,
            "grid_row": null,
            "grid_template_areas": null,
            "grid_template_columns": null,
            "grid_template_rows": null,
            "height": null,
            "justify_content": null,
            "justify_items": null,
            "left": null,
            "margin": null,
            "max_height": null,
            "max_width": null,
            "min_height": null,
            "min_width": null,
            "object_fit": null,
            "object_position": null,
            "order": null,
            "overflow": null,
            "overflow_x": null,
            "overflow_y": null,
            "padding": null,
            "right": null,
            "top": null,
            "visibility": null,
            "width": null
          }
        },
        "264a511d3c854a8191209930f6b90128": {
          "model_module": "@jupyter-widgets/controls",
          "model_module_version": "1.5.0",
          "model_name": "ProgressStyleModel",
          "state": {
            "_model_module": "@jupyter-widgets/controls",
            "_model_module_version": "1.5.0",
            "_model_name": "ProgressStyleModel",
            "_view_count": null,
            "_view_module": "@jupyter-widgets/base",
            "_view_module_version": "1.2.0",
            "_view_name": "StyleView",
            "bar_color": null,
            "description_width": ""
          }
        },
        "277fdac3e3604b75a28e7c67f85b6705": {
          "model_module": "@jupyter-widgets/controls",
          "model_module_version": "1.5.0",
          "model_name": "HTMLModel",
          "state": {
            "_dom_classes": [],
            "_model_module": "@jupyter-widgets/controls",
            "_model_module_version": "1.5.0",
            "_model_name": "HTMLModel",
            "_view_count": null,
            "_view_module": "@jupyter-widgets/controls",
            "_view_module_version": "1.5.0",
            "_view_name": "HTMLView",
            "description": "",
            "description_tooltip": null,
            "layout": "IPY_MODEL_b9dffc0b123f432cb746d450a1975f53",
            "placeholder": "​",
            "style": "IPY_MODEL_5f400bca7ca0446bace01567535f04d7",
            "value": " 4/4 [00:00&lt;00:00, 203.79it/s]"
          }
        },
        "2af3fb675f464291b0df92ff993f03d2": {
          "model_module": "@jupyter-widgets/base",
          "model_module_version": "1.2.0",
          "model_name": "LayoutModel",
          "state": {
            "_model_module": "@jupyter-widgets/base",
            "_model_module_version": "1.2.0",
            "_model_name": "LayoutModel",
            "_view_count": null,
            "_view_module": "@jupyter-widgets/base",
            "_view_module_version": "1.2.0",
            "_view_name": "LayoutView",
            "align_content": null,
            "align_items": null,
            "align_self": null,
            "border": null,
            "bottom": null,
            "display": null,
            "flex": null,
            "flex_flow": null,
            "grid_area": null,
            "grid_auto_columns": null,
            "grid_auto_flow": null,
            "grid_auto_rows": null,
            "grid_column": null,
            "grid_gap": null,
            "grid_row": null,
            "grid_template_areas": null,
            "grid_template_columns": null,
            "grid_template_rows": null,
            "height": null,
            "justify_content": null,
            "justify_items": null,
            "left": null,
            "margin": null,
            "max_height": null,
            "max_width": null,
            "min_height": null,
            "min_width": null,
            "object_fit": null,
            "object_position": null,
            "order": null,
            "overflow": null,
            "overflow_x": null,
            "overflow_y": null,
            "padding": null,
            "right": null,
            "top": null,
            "visibility": null,
            "width": null
          }
        },
        "2d4d3c48cda6422a94d7b640941cf515": {
          "model_module": "@jupyter-widgets/base",
          "model_module_version": "1.2.0",
          "model_name": "LayoutModel",
          "state": {
            "_model_module": "@jupyter-widgets/base",
            "_model_module_version": "1.2.0",
            "_model_name": "LayoutModel",
            "_view_count": null,
            "_view_module": "@jupyter-widgets/base",
            "_view_module_version": "1.2.0",
            "_view_name": "LayoutView",
            "align_content": null,
            "align_items": null,
            "align_self": null,
            "border": null,
            "bottom": null,
            "display": "inline-flex",
            "flex": null,
            "flex_flow": "row wrap",
            "grid_area": null,
            "grid_auto_columns": null,
            "grid_auto_flow": null,
            "grid_auto_rows": null,
            "grid_column": null,
            "grid_gap": null,
            "grid_row": null,
            "grid_template_areas": null,
            "grid_template_columns": null,
            "grid_template_rows": null,
            "height": null,
            "justify_content": null,
            "justify_items": null,
            "left": null,
            "margin": null,
            "max_height": null,
            "max_width": null,
            "min_height": null,
            "min_width": null,
            "object_fit": null,
            "object_position": null,
            "order": null,
            "overflow": null,
            "overflow_x": null,
            "overflow_y": null,
            "padding": null,
            "right": null,
            "top": null,
            "visibility": null,
            "width": "100%"
          }
        },
        "2dbd7e55a1df420fb35f50c1122c9d01": {
          "model_module": "@jupyter-widgets/base",
          "model_module_version": "1.2.0",
          "model_name": "LayoutModel",
          "state": {
            "_model_module": "@jupyter-widgets/base",
            "_model_module_version": "1.2.0",
            "_model_name": "LayoutModel",
            "_view_count": null,
            "_view_module": "@jupyter-widgets/base",
            "_view_module_version": "1.2.0",
            "_view_name": "LayoutView",
            "align_content": null,
            "align_items": null,
            "align_self": null,
            "border": null,
            "bottom": null,
            "display": null,
            "flex": null,
            "flex_flow": null,
            "grid_area": null,
            "grid_auto_columns": null,
            "grid_auto_flow": null,
            "grid_auto_rows": null,
            "grid_column": null,
            "grid_gap": null,
            "grid_row": null,
            "grid_template_areas": null,
            "grid_template_columns": null,
            "grid_template_rows": null,
            "height": null,
            "justify_content": null,
            "justify_items": null,
            "left": null,
            "margin": null,
            "max_height": null,
            "max_width": null,
            "min_height": null,
            "min_width": null,
            "object_fit": null,
            "object_position": null,
            "order": null,
            "overflow": null,
            "overflow_x": null,
            "overflow_y": null,
            "padding": null,
            "right": null,
            "top": null,
            "visibility": null,
            "width": null
          }
        },
        "2f0fbf0650aa436abdbf0e8e042b84ec": {
          "model_module": "@jupyter-widgets/base",
          "model_module_version": "1.2.0",
          "model_name": "LayoutModel",
          "state": {
            "_model_module": "@jupyter-widgets/base",
            "_model_module_version": "1.2.0",
            "_model_name": "LayoutModel",
            "_view_count": null,
            "_view_module": "@jupyter-widgets/base",
            "_view_module_version": "1.2.0",
            "_view_name": "LayoutView",
            "align_content": null,
            "align_items": null,
            "align_self": null,
            "border": null,
            "bottom": null,
            "display": "inline-flex",
            "flex": null,
            "flex_flow": "row wrap",
            "grid_area": null,
            "grid_auto_columns": null,
            "grid_auto_flow": null,
            "grid_auto_rows": null,
            "grid_column": null,
            "grid_gap": null,
            "grid_row": null,
            "grid_template_areas": null,
            "grid_template_columns": null,
            "grid_template_rows": null,
            "height": null,
            "justify_content": null,
            "justify_items": null,
            "left": null,
            "margin": null,
            "max_height": null,
            "max_width": null,
            "min_height": null,
            "min_width": null,
            "object_fit": null,
            "object_position": null,
            "order": null,
            "overflow": null,
            "overflow_x": null,
            "overflow_y": null,
            "padding": null,
            "right": null,
            "top": null,
            "visibility": null,
            "width": "100%"
          }
        },
        "30d0e45c6d1f4d2abb64c616e1cfe4ca": {
          "model_module": "@jupyter-widgets/controls",
          "model_module_version": "1.5.0",
          "model_name": "HTMLModel",
          "state": {
            "_dom_classes": [],
            "_model_module": "@jupyter-widgets/controls",
            "_model_module_version": "1.5.0",
            "_model_name": "HTMLModel",
            "_view_count": null,
            "_view_module": "@jupyter-widgets/controls",
            "_view_module_version": "1.5.0",
            "_view_name": "HTMLView",
            "description": "",
            "description_tooltip": null,
            "layout": "IPY_MODEL_dc9eddb8816549e38155aba7cacbe820",
            "placeholder": "​",
            "style": "IPY_MODEL_326ea3ead65240f8a290b2c8ef69963e",
            "value": "Predicting DataLoader 0: 100%"
          }
        },
        "315c7a6e71a9448c8cafa8f834086888": {
          "model_module": "@jupyter-widgets/controls",
          "model_module_version": "1.5.0",
          "model_name": "HBoxModel",
          "state": {
            "_dom_classes": [],
            "_model_module": "@jupyter-widgets/controls",
            "_model_module_version": "1.5.0",
            "_model_name": "HBoxModel",
            "_view_count": null,
            "_view_module": "@jupyter-widgets/controls",
            "_view_module_version": "1.5.0",
            "_view_name": "HBoxView",
            "box_style": "",
            "children": [
              "IPY_MODEL_bf5f748808d7494793cbb02c136c9de4",
              "IPY_MODEL_56f8f9e7fead42f199f2db55a9355966",
              "IPY_MODEL_3fec8ca456124e7982a95c83175890cb"
            ],
            "layout": "IPY_MODEL_39dd17178f9c4c37934a1fb4fff46b90"
          }
        },
        "318bae7c1cdd45d78d9bc44977727f40": {
          "model_module": "@jupyter-widgets/base",
          "model_module_version": "1.2.0",
          "model_name": "LayoutModel",
          "state": {
            "_model_module": "@jupyter-widgets/base",
            "_model_module_version": "1.2.0",
            "_model_name": "LayoutModel",
            "_view_count": null,
            "_view_module": "@jupyter-widgets/base",
            "_view_module_version": "1.2.0",
            "_view_name": "LayoutView",
            "align_content": null,
            "align_items": null,
            "align_self": null,
            "border": null,
            "bottom": null,
            "display": null,
            "flex": null,
            "flex_flow": null,
            "grid_area": null,
            "grid_auto_columns": null,
            "grid_auto_flow": null,
            "grid_auto_rows": null,
            "grid_column": null,
            "grid_gap": null,
            "grid_row": null,
            "grid_template_areas": null,
            "grid_template_columns": null,
            "grid_template_rows": null,
            "height": null,
            "justify_content": null,
            "justify_items": null,
            "left": null,
            "margin": null,
            "max_height": null,
            "max_width": null,
            "min_height": null,
            "min_width": null,
            "object_fit": null,
            "object_position": null,
            "order": null,
            "overflow": null,
            "overflow_x": null,
            "overflow_y": null,
            "padding": null,
            "right": null,
            "top": null,
            "visibility": null,
            "width": null
          }
        },
        "326ea3ead65240f8a290b2c8ef69963e": {
          "model_module": "@jupyter-widgets/controls",
          "model_module_version": "1.5.0",
          "model_name": "DescriptionStyleModel",
          "state": {
            "_model_module": "@jupyter-widgets/controls",
            "_model_module_version": "1.5.0",
            "_model_name": "DescriptionStyleModel",
            "_view_count": null,
            "_view_module": "@jupyter-widgets/base",
            "_view_module_version": "1.2.0",
            "_view_name": "StyleView",
            "description_width": ""
          }
        },
        "3288f050aca84011a0e4ffef09a6a1ea": {
          "model_module": "@jupyter-widgets/controls",
          "model_module_version": "1.5.0",
          "model_name": "FloatProgressModel",
          "state": {
            "_dom_classes": [],
            "_model_module": "@jupyter-widgets/controls",
            "_model_module_version": "1.5.0",
            "_model_name": "FloatProgressModel",
            "_view_count": null,
            "_view_module": "@jupyter-widgets/controls",
            "_view_module_version": "1.5.0",
            "_view_name": "ProgressView",
            "bar_style": "success",
            "description": "",
            "description_tooltip": null,
            "layout": "IPY_MODEL_ac408daec5b64a588c17a43078556deb",
            "max": 28,
            "min": 0,
            "orientation": "horizontal",
            "style": "IPY_MODEL_6c2950bcb6134e0fb35f36c98059692c",
            "value": 28
          }
        },
        "35ba9299b6bb480cbbbae59fd77e7c63": {
          "model_module": "@jupyter-widgets/controls",
          "model_module_version": "1.5.0",
          "model_name": "DescriptionStyleModel",
          "state": {
            "_model_module": "@jupyter-widgets/controls",
            "_model_module_version": "1.5.0",
            "_model_name": "DescriptionStyleModel",
            "_view_count": null,
            "_view_module": "@jupyter-widgets/base",
            "_view_module_version": "1.2.0",
            "_view_name": "StyleView",
            "description_width": ""
          }
        },
        "35e519136ab043e7af7440f221d5f36f": {
          "model_module": "@jupyter-widgets/controls",
          "model_module_version": "1.5.0",
          "model_name": "DescriptionStyleModel",
          "state": {
            "_model_module": "@jupyter-widgets/controls",
            "_model_module_version": "1.5.0",
            "_model_name": "DescriptionStyleModel",
            "_view_count": null,
            "_view_module": "@jupyter-widgets/base",
            "_view_module_version": "1.2.0",
            "_view_name": "StyleView",
            "description_width": ""
          }
        },
        "361a36914f0c4db282a89f49f629d607": {
          "model_module": "@jupyter-widgets/controls",
          "model_module_version": "1.5.0",
          "model_name": "HTMLModel",
          "state": {
            "_dom_classes": [],
            "_model_module": "@jupyter-widgets/controls",
            "_model_module_version": "1.5.0",
            "_model_name": "HTMLModel",
            "_view_count": null,
            "_view_module": "@jupyter-widgets/controls",
            "_view_module_version": "1.5.0",
            "_view_name": "HTMLView",
            "description": "",
            "description_tooltip": null,
            "layout": "IPY_MODEL_6c57c40eab304cc3b0b4a4cb68a64789",
            "placeholder": "​",
            "style": "IPY_MODEL_87efb526377e437abc7d1279d124beb7",
            "value": "Predicting DataLoader 0: 100%"
          }
        },
        "39dd17178f9c4c37934a1fb4fff46b90": {
          "model_module": "@jupyter-widgets/base",
          "model_module_version": "1.2.0",
          "model_name": "LayoutModel",
          "state": {
            "_model_module": "@jupyter-widgets/base",
            "_model_module_version": "1.2.0",
            "_model_name": "LayoutModel",
            "_view_count": null,
            "_view_module": "@jupyter-widgets/base",
            "_view_module_version": "1.2.0",
            "_view_name": "LayoutView",
            "align_content": null,
            "align_items": null,
            "align_self": null,
            "border": null,
            "bottom": null,
            "display": "inline-flex",
            "flex": null,
            "flex_flow": "row wrap",
            "grid_area": null,
            "grid_auto_columns": null,
            "grid_auto_flow": null,
            "grid_auto_rows": null,
            "grid_column": null,
            "grid_gap": null,
            "grid_row": null,
            "grid_template_areas": null,
            "grid_template_columns": null,
            "grid_template_rows": null,
            "height": null,
            "justify_content": null,
            "justify_items": null,
            "left": null,
            "margin": null,
            "max_height": null,
            "max_width": null,
            "min_height": null,
            "min_width": null,
            "object_fit": null,
            "object_position": null,
            "order": null,
            "overflow": null,
            "overflow_x": null,
            "overflow_y": null,
            "padding": null,
            "right": null,
            "top": null,
            "visibility": null,
            "width": "100%"
          }
        },
        "3a2c06c426ee4ba091cc5ea6c65cb8b0": {
          "model_module": "@jupyter-widgets/controls",
          "model_module_version": "1.5.0",
          "model_name": "HTMLModel",
          "state": {
            "_dom_classes": [],
            "_model_module": "@jupyter-widgets/controls",
            "_model_module_version": "1.5.0",
            "_model_name": "HTMLModel",
            "_view_count": null,
            "_view_module": "@jupyter-widgets/controls",
            "_view_module_version": "1.5.0",
            "_view_name": "HTMLView",
            "description": "",
            "description_tooltip": null,
            "layout": "IPY_MODEL_3dc4a24a0d574bfa9ebb7689decf1b8c",
            "placeholder": "​",
            "style": "IPY_MODEL_914106a6caef4c0ea1582c7b9853b5a1",
            "value": " 28/28 [00:00&lt;00:00, 105.83it/s, loss=0.62, val_loss=0.648, train_loss=0.623]"
          }
        },
        "3dc4a24a0d574bfa9ebb7689decf1b8c": {
          "model_module": "@jupyter-widgets/base",
          "model_module_version": "1.2.0",
          "model_name": "LayoutModel",
          "state": {
            "_model_module": "@jupyter-widgets/base",
            "_model_module_version": "1.2.0",
            "_model_name": "LayoutModel",
            "_view_count": null,
            "_view_module": "@jupyter-widgets/base",
            "_view_module_version": "1.2.0",
            "_view_name": "LayoutView",
            "align_content": null,
            "align_items": null,
            "align_self": null,
            "border": null,
            "bottom": null,
            "display": null,
            "flex": null,
            "flex_flow": null,
            "grid_area": null,
            "grid_auto_columns": null,
            "grid_auto_flow": null,
            "grid_auto_rows": null,
            "grid_column": null,
            "grid_gap": null,
            "grid_row": null,
            "grid_template_areas": null,
            "grid_template_columns": null,
            "grid_template_rows": null,
            "height": null,
            "justify_content": null,
            "justify_items": null,
            "left": null,
            "margin": null,
            "max_height": null,
            "max_width": null,
            "min_height": null,
            "min_width": null,
            "object_fit": null,
            "object_position": null,
            "order": null,
            "overflow": null,
            "overflow_x": null,
            "overflow_y": null,
            "padding": null,
            "right": null,
            "top": null,
            "visibility": null,
            "width": null
          }
        },
        "3e85253590184999a108bc4b249f0d91": {
          "model_module": "@jupyter-widgets/controls",
          "model_module_version": "1.5.0",
          "model_name": "FloatProgressModel",
          "state": {
            "_dom_classes": [],
            "_model_module": "@jupyter-widgets/controls",
            "_model_module_version": "1.5.0",
            "_model_name": "FloatProgressModel",
            "_view_count": null,
            "_view_module": "@jupyter-widgets/controls",
            "_view_module_version": "1.5.0",
            "_view_name": "ProgressView",
            "bar_style": "success",
            "description": "",
            "description_tooltip": null,
            "layout": "IPY_MODEL_6cf3cca3d8b0455ab38030552f941009",
            "max": 159,
            "min": 0,
            "orientation": "horizontal",
            "style": "IPY_MODEL_44a477055a744fb89678de3b4c22255e",
            "value": 159
          }
        },
        "3fec8ca456124e7982a95c83175890cb": {
          "model_module": "@jupyter-widgets/controls",
          "model_module_version": "1.5.0",
          "model_name": "HTMLModel",
          "state": {
            "_dom_classes": [],
            "_model_module": "@jupyter-widgets/controls",
            "_model_module_version": "1.5.0",
            "_model_name": "HTMLModel",
            "_view_count": null,
            "_view_module": "@jupyter-widgets/controls",
            "_view_module_version": "1.5.0",
            "_view_name": "HTMLView",
            "description": "",
            "description_tooltip": null,
            "layout": "IPY_MODEL_9ee54dbc4d4f4d1fa9233e8d82a31eef",
            "placeholder": "​",
            "style": "IPY_MODEL_4ff14810439e4114963c8d3fb936717e",
            "value": " 22/22 [00:00&lt;00:00, 561.42it/s]"
          }
        },
        "401a5a4007464e238005bc9152a397dc": {
          "model_module": "@jupyter-widgets/controls",
          "model_module_version": "1.5.0",
          "model_name": "HTMLModel",
          "state": {
            "_dom_classes": [],
            "_model_module": "@jupyter-widgets/controls",
            "_model_module_version": "1.5.0",
            "_model_name": "HTMLModel",
            "_view_count": null,
            "_view_module": "@jupyter-widgets/controls",
            "_view_module_version": "1.5.0",
            "_view_name": "HTMLView",
            "description": "",
            "description_tooltip": null,
            "layout": "IPY_MODEL_4f693ea559aa422cb864f03e147b4c3b",
            "placeholder": "​",
            "style": "IPY_MODEL_d561def543f7434c944bf2ea582f44ad",
            "value": " 4/4 [00:00&lt;00:00, 85.88it/s]"
          }
        },
        "4295854df9c744e0aba3c1b51614f9dd": {
          "model_module": "@jupyter-widgets/controls",
          "model_module_version": "1.5.0",
          "model_name": "HTMLModel",
          "state": {
            "_dom_classes": [],
            "_model_module": "@jupyter-widgets/controls",
            "_model_module_version": "1.5.0",
            "_model_name": "HTMLModel",
            "_view_count": null,
            "_view_module": "@jupyter-widgets/controls",
            "_view_module_version": "1.5.0",
            "_view_name": "HTMLView",
            "description": "",
            "description_tooltip": null,
            "layout": "IPY_MODEL_318bae7c1cdd45d78d9bc44977727f40",
            "placeholder": "​",
            "style": "IPY_MODEL_35ba9299b6bb480cbbbae59fd77e7c63",
            "value": "Epoch 99: 100%"
          }
        },
        "44a477055a744fb89678de3b4c22255e": {
          "model_module": "@jupyter-widgets/controls",
          "model_module_version": "1.5.0",
          "model_name": "ProgressStyleModel",
          "state": {
            "_model_module": "@jupyter-widgets/controls",
            "_model_module_version": "1.5.0",
            "_model_name": "ProgressStyleModel",
            "_view_count": null,
            "_view_module": "@jupyter-widgets/base",
            "_view_module_version": "1.2.0",
            "_view_name": "StyleView",
            "bar_color": null,
            "description_width": ""
          }
        },
        "4794be4ebe7444f381732e70dde7938e": {
          "model_module": "@jupyter-widgets/controls",
          "model_module_version": "1.5.0",
          "model_name": "HBoxModel",
          "state": {
            "_dom_classes": [],
            "_model_module": "@jupyter-widgets/controls",
            "_model_module_version": "1.5.0",
            "_model_name": "HBoxModel",
            "_view_count": null,
            "_view_module": "@jupyter-widgets/controls",
            "_view_module_version": "1.5.0",
            "_view_name": "HBoxView",
            "box_style": "",
            "children": [
              "IPY_MODEL_e9119d851b344b6486ff77bd1e053a63",
              "IPY_MODEL_0b5c4498ed714a6e8490dfc5aaca4da8",
              "IPY_MODEL_401a5a4007464e238005bc9152a397dc"
            ],
            "layout": "IPY_MODEL_2f0fbf0650aa436abdbf0e8e042b84ec"
          }
        },
        "48848362fffb4c048aaa3937094b739b": {
          "model_module": "@jupyter-widgets/controls",
          "model_module_version": "1.5.0",
          "model_name": "FloatProgressModel",
          "state": {
            "_dom_classes": [],
            "_model_module": "@jupyter-widgets/controls",
            "_model_module_version": "1.5.0",
            "_model_name": "FloatProgressModel",
            "_view_count": null,
            "_view_module": "@jupyter-widgets/controls",
            "_view_module_version": "1.5.0",
            "_view_name": "ProgressView",
            "bar_style": "success",
            "description": "",
            "description_tooltip": null,
            "layout": "IPY_MODEL_142b7c8608354ac0a87c31ef7be29c41",
            "max": 28,
            "min": 0,
            "orientation": "horizontal",
            "style": "IPY_MODEL_b555c0627a6d427eb19672b0f3065a35",
            "value": 28
          }
        },
        "4e8fe3516f264e2d8202c61cfd7ba2b6": {
          "model_module": "@jupyter-widgets/controls",
          "model_module_version": "1.5.0",
          "model_name": "HBoxModel",
          "state": {
            "_dom_classes": [],
            "_model_module": "@jupyter-widgets/controls",
            "_model_module_version": "1.5.0",
            "_model_name": "HBoxModel",
            "_view_count": null,
            "_view_module": "@jupyter-widgets/controls",
            "_view_module_version": "1.5.0",
            "_view_name": "HBoxView",
            "box_style": "",
            "children": [
              "IPY_MODEL_361a36914f0c4db282a89f49f629d607",
              "IPY_MODEL_e6051a8942004c34912dcab98343a84e",
              "IPY_MODEL_277fdac3e3604b75a28e7c67f85b6705"
            ],
            "layout": "IPY_MODEL_2d4d3c48cda6422a94d7b640941cf515"
          }
        },
        "4eed7c3f53f14efb945db9dcd3d18df8": {
          "model_module": "@jupyter-widgets/controls",
          "model_module_version": "1.5.0",
          "model_name": "ProgressStyleModel",
          "state": {
            "_model_module": "@jupyter-widgets/controls",
            "_model_module_version": "1.5.0",
            "_model_name": "ProgressStyleModel",
            "_view_count": null,
            "_view_module": "@jupyter-widgets/base",
            "_view_module_version": "1.2.0",
            "_view_name": "StyleView",
            "bar_color": null,
            "description_width": ""
          }
        },
        "4f693ea559aa422cb864f03e147b4c3b": {
          "model_module": "@jupyter-widgets/base",
          "model_module_version": "1.2.0",
          "model_name": "LayoutModel",
          "state": {
            "_model_module": "@jupyter-widgets/base",
            "_model_module_version": "1.2.0",
            "_model_name": "LayoutModel",
            "_view_count": null,
            "_view_module": "@jupyter-widgets/base",
            "_view_module_version": "1.2.0",
            "_view_name": "LayoutView",
            "align_content": null,
            "align_items": null,
            "align_self": null,
            "border": null,
            "bottom": null,
            "display": null,
            "flex": null,
            "flex_flow": null,
            "grid_area": null,
            "grid_auto_columns": null,
            "grid_auto_flow": null,
            "grid_auto_rows": null,
            "grid_column": null,
            "grid_gap": null,
            "grid_row": null,
            "grid_template_areas": null,
            "grid_template_columns": null,
            "grid_template_rows": null,
            "height": null,
            "justify_content": null,
            "justify_items": null,
            "left": null,
            "margin": null,
            "max_height": null,
            "max_width": null,
            "min_height": null,
            "min_width": null,
            "object_fit": null,
            "object_position": null,
            "order": null,
            "overflow": null,
            "overflow_x": null,
            "overflow_y": null,
            "padding": null,
            "right": null,
            "top": null,
            "visibility": null,
            "width": null
          }
        },
        "4ff14810439e4114963c8d3fb936717e": {
          "model_module": "@jupyter-widgets/controls",
          "model_module_version": "1.5.0",
          "model_name": "DescriptionStyleModel",
          "state": {
            "_model_module": "@jupyter-widgets/controls",
            "_model_module_version": "1.5.0",
            "_model_name": "DescriptionStyleModel",
            "_view_count": null,
            "_view_module": "@jupyter-widgets/base",
            "_view_module_version": "1.2.0",
            "_view_name": "StyleView",
            "description_width": ""
          }
        },
        "50af98f5534240299b55e9c562a83136": {
          "model_module": "@jupyter-widgets/base",
          "model_module_version": "1.2.0",
          "model_name": "LayoutModel",
          "state": {
            "_model_module": "@jupyter-widgets/base",
            "_model_module_version": "1.2.0",
            "_model_name": "LayoutModel",
            "_view_count": null,
            "_view_module": "@jupyter-widgets/base",
            "_view_module_version": "1.2.0",
            "_view_name": "LayoutView",
            "align_content": null,
            "align_items": null,
            "align_self": null,
            "border": null,
            "bottom": null,
            "display": null,
            "flex": "2",
            "flex_flow": null,
            "grid_area": null,
            "grid_auto_columns": null,
            "grid_auto_flow": null,
            "grid_auto_rows": null,
            "grid_column": null,
            "grid_gap": null,
            "grid_row": null,
            "grid_template_areas": null,
            "grid_template_columns": null,
            "grid_template_rows": null,
            "height": null,
            "justify_content": null,
            "justify_items": null,
            "left": null,
            "margin": null,
            "max_height": null,
            "max_width": null,
            "min_height": null,
            "min_width": null,
            "object_fit": null,
            "object_position": null,
            "order": null,
            "overflow": null,
            "overflow_x": null,
            "overflow_y": null,
            "padding": null,
            "right": null,
            "top": null,
            "visibility": null,
            "width": null
          }
        },
        "56f8f9e7fead42f199f2db55a9355966": {
          "model_module": "@jupyter-widgets/controls",
          "model_module_version": "1.5.0",
          "model_name": "FloatProgressModel",
          "state": {
            "_dom_classes": [],
            "_model_module": "@jupyter-widgets/controls",
            "_model_module_version": "1.5.0",
            "_model_name": "FloatProgressModel",
            "_view_count": null,
            "_view_module": "@jupyter-widgets/controls",
            "_view_module_version": "1.5.0",
            "_view_name": "ProgressView",
            "bar_style": "success",
            "description": "",
            "description_tooltip": null,
            "layout": "IPY_MODEL_ccbb7e75e818419e9ed3930921483e47",
            "max": 22,
            "min": 0,
            "orientation": "horizontal",
            "style": "IPY_MODEL_e275d9d343e24a82a765c8063aa337cf",
            "value": 22
          }
        },
        "5b7ffc7f66e24409afc184d449c17f8c": {
          "model_module": "@jupyter-widgets/base",
          "model_module_version": "1.2.0",
          "model_name": "LayoutModel",
          "state": {
            "_model_module": "@jupyter-widgets/base",
            "_model_module_version": "1.2.0",
            "_model_name": "LayoutModel",
            "_view_count": null,
            "_view_module": "@jupyter-widgets/base",
            "_view_module_version": "1.2.0",
            "_view_name": "LayoutView",
            "align_content": null,
            "align_items": null,
            "align_self": null,
            "border": null,
            "bottom": null,
            "display": null,
            "flex": "2",
            "flex_flow": null,
            "grid_area": null,
            "grid_auto_columns": null,
            "grid_auto_flow": null,
            "grid_auto_rows": null,
            "grid_column": null,
            "grid_gap": null,
            "grid_row": null,
            "grid_template_areas": null,
            "grid_template_columns": null,
            "grid_template_rows": null,
            "height": null,
            "justify_content": null,
            "justify_items": null,
            "left": null,
            "margin": null,
            "max_height": null,
            "max_width": null,
            "min_height": null,
            "min_width": null,
            "object_fit": null,
            "object_position": null,
            "order": null,
            "overflow": null,
            "overflow_x": null,
            "overflow_y": null,
            "padding": null,
            "right": null,
            "top": null,
            "visibility": null,
            "width": null
          }
        },
        "5bbf41ffc19f43b28a3881e69c71c420": {
          "model_module": "@jupyter-widgets/base",
          "model_module_version": "1.2.0",
          "model_name": "LayoutModel",
          "state": {
            "_model_module": "@jupyter-widgets/base",
            "_model_module_version": "1.2.0",
            "_model_name": "LayoutModel",
            "_view_count": null,
            "_view_module": "@jupyter-widgets/base",
            "_view_module_version": "1.2.0",
            "_view_name": "LayoutView",
            "align_content": null,
            "align_items": null,
            "align_self": null,
            "border": null,
            "bottom": null,
            "display": null,
            "flex": null,
            "flex_flow": null,
            "grid_area": null,
            "grid_auto_columns": null,
            "grid_auto_flow": null,
            "grid_auto_rows": null,
            "grid_column": null,
            "grid_gap": null,
            "grid_row": null,
            "grid_template_areas": null,
            "grid_template_columns": null,
            "grid_template_rows": null,
            "height": null,
            "justify_content": null,
            "justify_items": null,
            "left": null,
            "margin": null,
            "max_height": null,
            "max_width": null,
            "min_height": null,
            "min_width": null,
            "object_fit": null,
            "object_position": null,
            "order": null,
            "overflow": null,
            "overflow_x": null,
            "overflow_y": null,
            "padding": null,
            "right": null,
            "top": null,
            "visibility": null,
            "width": null
          }
        },
        "5c1ae9790baa4dbf92b9591a6778b497": {
          "model_module": "@jupyter-widgets/controls",
          "model_module_version": "1.5.0",
          "model_name": "DescriptionStyleModel",
          "state": {
            "_model_module": "@jupyter-widgets/controls",
            "_model_module_version": "1.5.0",
            "_model_name": "DescriptionStyleModel",
            "_view_count": null,
            "_view_module": "@jupyter-widgets/base",
            "_view_module_version": "1.2.0",
            "_view_name": "StyleView",
            "description_width": ""
          }
        },
        "5f400bca7ca0446bace01567535f04d7": {
          "model_module": "@jupyter-widgets/controls",
          "model_module_version": "1.5.0",
          "model_name": "DescriptionStyleModel",
          "state": {
            "_model_module": "@jupyter-widgets/controls",
            "_model_module_version": "1.5.0",
            "_model_name": "DescriptionStyleModel",
            "_view_count": null,
            "_view_module": "@jupyter-widgets/base",
            "_view_module_version": "1.2.0",
            "_view_name": "StyleView",
            "description_width": ""
          }
        },
        "637ed20aac744124958eb82193bc43e6": {
          "model_module": "@jupyter-widgets/base",
          "model_module_version": "1.2.0",
          "model_name": "LayoutModel",
          "state": {
            "_model_module": "@jupyter-widgets/base",
            "_model_module_version": "1.2.0",
            "_model_name": "LayoutModel",
            "_view_count": null,
            "_view_module": "@jupyter-widgets/base",
            "_view_module_version": "1.2.0",
            "_view_name": "LayoutView",
            "align_content": null,
            "align_items": null,
            "align_self": null,
            "border": null,
            "bottom": null,
            "display": null,
            "flex": "2",
            "flex_flow": null,
            "grid_area": null,
            "grid_auto_columns": null,
            "grid_auto_flow": null,
            "grid_auto_rows": null,
            "grid_column": null,
            "grid_gap": null,
            "grid_row": null,
            "grid_template_areas": null,
            "grid_template_columns": null,
            "grid_template_rows": null,
            "height": null,
            "justify_content": null,
            "justify_items": null,
            "left": null,
            "margin": null,
            "max_height": null,
            "max_width": null,
            "min_height": null,
            "min_width": null,
            "object_fit": null,
            "object_position": null,
            "order": null,
            "overflow": null,
            "overflow_x": null,
            "overflow_y": null,
            "padding": null,
            "right": null,
            "top": null,
            "visibility": null,
            "width": null
          }
        },
        "6c05836db84b49ce8998976e5c105473": {
          "model_module": "@jupyter-widgets/base",
          "model_module_version": "1.2.0",
          "model_name": "LayoutModel",
          "state": {
            "_model_module": "@jupyter-widgets/base",
            "_model_module_version": "1.2.0",
            "_model_name": "LayoutModel",
            "_view_count": null,
            "_view_module": "@jupyter-widgets/base",
            "_view_module_version": "1.2.0",
            "_view_name": "LayoutView",
            "align_content": null,
            "align_items": null,
            "align_self": null,
            "border": null,
            "bottom": null,
            "display": null,
            "flex": null,
            "flex_flow": null,
            "grid_area": null,
            "grid_auto_columns": null,
            "grid_auto_flow": null,
            "grid_auto_rows": null,
            "grid_column": null,
            "grid_gap": null,
            "grid_row": null,
            "grid_template_areas": null,
            "grid_template_columns": null,
            "grid_template_rows": null,
            "height": null,
            "justify_content": null,
            "justify_items": null,
            "left": null,
            "margin": null,
            "max_height": null,
            "max_width": null,
            "min_height": null,
            "min_width": null,
            "object_fit": null,
            "object_position": null,
            "order": null,
            "overflow": null,
            "overflow_x": null,
            "overflow_y": null,
            "padding": null,
            "right": null,
            "top": null,
            "visibility": null,
            "width": null
          }
        },
        "6c2950bcb6134e0fb35f36c98059692c": {
          "model_module": "@jupyter-widgets/controls",
          "model_module_version": "1.5.0",
          "model_name": "ProgressStyleModel",
          "state": {
            "_model_module": "@jupyter-widgets/controls",
            "_model_module_version": "1.5.0",
            "_model_name": "ProgressStyleModel",
            "_view_count": null,
            "_view_module": "@jupyter-widgets/base",
            "_view_module_version": "1.2.0",
            "_view_name": "StyleView",
            "bar_color": null,
            "description_width": ""
          }
        },
        "6c57c40eab304cc3b0b4a4cb68a64789": {
          "model_module": "@jupyter-widgets/base",
          "model_module_version": "1.2.0",
          "model_name": "LayoutModel",
          "state": {
            "_model_module": "@jupyter-widgets/base",
            "_model_module_version": "1.2.0",
            "_model_name": "LayoutModel",
            "_view_count": null,
            "_view_module": "@jupyter-widgets/base",
            "_view_module_version": "1.2.0",
            "_view_name": "LayoutView",
            "align_content": null,
            "align_items": null,
            "align_self": null,
            "border": null,
            "bottom": null,
            "display": null,
            "flex": null,
            "flex_flow": null,
            "grid_area": null,
            "grid_auto_columns": null,
            "grid_auto_flow": null,
            "grid_auto_rows": null,
            "grid_column": null,
            "grid_gap": null,
            "grid_row": null,
            "grid_template_areas": null,
            "grid_template_columns": null,
            "grid_template_rows": null,
            "height": null,
            "justify_content": null,
            "justify_items": null,
            "left": null,
            "margin": null,
            "max_height": null,
            "max_width": null,
            "min_height": null,
            "min_width": null,
            "object_fit": null,
            "object_position": null,
            "order": null,
            "overflow": null,
            "overflow_x": null,
            "overflow_y": null,
            "padding": null,
            "right": null,
            "top": null,
            "visibility": null,
            "width": null
          }
        },
        "6cf3cca3d8b0455ab38030552f941009": {
          "model_module": "@jupyter-widgets/base",
          "model_module_version": "1.2.0",
          "model_name": "LayoutModel",
          "state": {
            "_model_module": "@jupyter-widgets/base",
            "_model_module_version": "1.2.0",
            "_model_name": "LayoutModel",
            "_view_count": null,
            "_view_module": "@jupyter-widgets/base",
            "_view_module_version": "1.2.0",
            "_view_name": "LayoutView",
            "align_content": null,
            "align_items": null,
            "align_self": null,
            "border": null,
            "bottom": null,
            "display": null,
            "flex": "2",
            "flex_flow": null,
            "grid_area": null,
            "grid_auto_columns": null,
            "grid_auto_flow": null,
            "grid_auto_rows": null,
            "grid_column": null,
            "grid_gap": null,
            "grid_row": null,
            "grid_template_areas": null,
            "grid_template_columns": null,
            "grid_template_rows": null,
            "height": null,
            "justify_content": null,
            "justify_items": null,
            "left": null,
            "margin": null,
            "max_height": null,
            "max_width": null,
            "min_height": null,
            "min_width": null,
            "object_fit": null,
            "object_position": null,
            "order": null,
            "overflow": null,
            "overflow_x": null,
            "overflow_y": null,
            "padding": null,
            "right": null,
            "top": null,
            "visibility": null,
            "width": null
          }
        },
        "727549949b054d869e12f996a4d42b07": {
          "model_module": "@jupyter-widgets/base",
          "model_module_version": "1.2.0",
          "model_name": "LayoutModel",
          "state": {
            "_model_module": "@jupyter-widgets/base",
            "_model_module_version": "1.2.0",
            "_model_name": "LayoutModel",
            "_view_count": null,
            "_view_module": "@jupyter-widgets/base",
            "_view_module_version": "1.2.0",
            "_view_name": "LayoutView",
            "align_content": null,
            "align_items": null,
            "align_self": null,
            "border": null,
            "bottom": null,
            "display": "inline-flex",
            "flex": null,
            "flex_flow": "row wrap",
            "grid_area": null,
            "grid_auto_columns": null,
            "grid_auto_flow": null,
            "grid_auto_rows": null,
            "grid_column": null,
            "grid_gap": null,
            "grid_row": null,
            "grid_template_areas": null,
            "grid_template_columns": null,
            "grid_template_rows": null,
            "height": null,
            "justify_content": null,
            "justify_items": null,
            "left": null,
            "margin": null,
            "max_height": null,
            "max_width": null,
            "min_height": null,
            "min_width": null,
            "object_fit": null,
            "object_position": null,
            "order": null,
            "overflow": null,
            "overflow_x": null,
            "overflow_y": null,
            "padding": null,
            "right": null,
            "top": null,
            "visibility": null,
            "width": "100%"
          }
        },
        "7855e37862be4754a8296928ef441f80": {
          "model_module": "@jupyter-widgets/controls",
          "model_module_version": "1.5.0",
          "model_name": "FloatProgressModel",
          "state": {
            "_dom_classes": [],
            "_model_module": "@jupyter-widgets/controls",
            "_model_module_version": "1.5.0",
            "_model_name": "FloatProgressModel",
            "_view_count": null,
            "_view_module": "@jupyter-widgets/controls",
            "_view_module_version": "1.5.0",
            "_view_name": "ProgressView",
            "bar_style": "success",
            "description": "",
            "description_tooltip": null,
            "layout": "IPY_MODEL_eb1aa4e736c5432095141bb9998c9ecc",
            "max": 4,
            "min": 0,
            "orientation": "horizontal",
            "style": "IPY_MODEL_883d8a85632f408d9693d7e6527f7680",
            "value": 4
          }
        },
        "85560f114eee401389c0c2b81fa2aa45": {
          "model_module": "@jupyter-widgets/controls",
          "model_module_version": "1.5.0",
          "model_name": "DescriptionStyleModel",
          "state": {
            "_model_module": "@jupyter-widgets/controls",
            "_model_module_version": "1.5.0",
            "_model_name": "DescriptionStyleModel",
            "_view_count": null,
            "_view_module": "@jupyter-widgets/base",
            "_view_module_version": "1.2.0",
            "_view_name": "StyleView",
            "description_width": ""
          }
        },
        "87efb526377e437abc7d1279d124beb7": {
          "model_module": "@jupyter-widgets/controls",
          "model_module_version": "1.5.0",
          "model_name": "DescriptionStyleModel",
          "state": {
            "_model_module": "@jupyter-widgets/controls",
            "_model_module_version": "1.5.0",
            "_model_name": "DescriptionStyleModel",
            "_view_count": null,
            "_view_module": "@jupyter-widgets/base",
            "_view_module_version": "1.2.0",
            "_view_name": "StyleView",
            "description_width": ""
          }
        },
        "883d8a85632f408d9693d7e6527f7680": {
          "model_module": "@jupyter-widgets/controls",
          "model_module_version": "1.5.0",
          "model_name": "ProgressStyleModel",
          "state": {
            "_model_module": "@jupyter-widgets/controls",
            "_model_module_version": "1.5.0",
            "_model_name": "ProgressStyleModel",
            "_view_count": null,
            "_view_module": "@jupyter-widgets/base",
            "_view_module_version": "1.2.0",
            "_view_name": "StyleView",
            "bar_color": null,
            "description_width": ""
          }
        },
        "8b697a6639fa4d2bba017c395e6f7fef": {
          "model_module": "@jupyter-widgets/controls",
          "model_module_version": "1.5.0",
          "model_name": "DescriptionStyleModel",
          "state": {
            "_model_module": "@jupyter-widgets/controls",
            "_model_module_version": "1.5.0",
            "_model_name": "DescriptionStyleModel",
            "_view_count": null,
            "_view_module": "@jupyter-widgets/base",
            "_view_module_version": "1.2.0",
            "_view_name": "StyleView",
            "description_width": ""
          }
        },
        "914106a6caef4c0ea1582c7b9853b5a1": {
          "model_module": "@jupyter-widgets/controls",
          "model_module_version": "1.5.0",
          "model_name": "DescriptionStyleModel",
          "state": {
            "_model_module": "@jupyter-widgets/controls",
            "_model_module_version": "1.5.0",
            "_model_name": "DescriptionStyleModel",
            "_view_count": null,
            "_view_module": "@jupyter-widgets/base",
            "_view_module_version": "1.2.0",
            "_view_name": "StyleView",
            "description_width": ""
          }
        },
        "92d2936a176d4661aec80b1a47fad6e4": {
          "model_module": "@jupyter-widgets/controls",
          "model_module_version": "1.5.0",
          "model_name": "DescriptionStyleModel",
          "state": {
            "_model_module": "@jupyter-widgets/controls",
            "_model_module_version": "1.5.0",
            "_model_name": "DescriptionStyleModel",
            "_view_count": null,
            "_view_module": "@jupyter-widgets/base",
            "_view_module_version": "1.2.0",
            "_view_name": "StyleView",
            "description_width": ""
          }
        },
        "9ee54dbc4d4f4d1fa9233e8d82a31eef": {
          "model_module": "@jupyter-widgets/base",
          "model_module_version": "1.2.0",
          "model_name": "LayoutModel",
          "state": {
            "_model_module": "@jupyter-widgets/base",
            "_model_module_version": "1.2.0",
            "_model_name": "LayoutModel",
            "_view_count": null,
            "_view_module": "@jupyter-widgets/base",
            "_view_module_version": "1.2.0",
            "_view_name": "LayoutView",
            "align_content": null,
            "align_items": null,
            "align_self": null,
            "border": null,
            "bottom": null,
            "display": null,
            "flex": null,
            "flex_flow": null,
            "grid_area": null,
            "grid_auto_columns": null,
            "grid_auto_flow": null,
            "grid_auto_rows": null,
            "grid_column": null,
            "grid_gap": null,
            "grid_row": null,
            "grid_template_areas": null,
            "grid_template_columns": null,
            "grid_template_rows": null,
            "height": null,
            "justify_content": null,
            "justify_items": null,
            "left": null,
            "margin": null,
            "max_height": null,
            "max_width": null,
            "min_height": null,
            "min_width": null,
            "object_fit": null,
            "object_position": null,
            "order": null,
            "overflow": null,
            "overflow_x": null,
            "overflow_y": null,
            "padding": null,
            "right": null,
            "top": null,
            "visibility": null,
            "width": null
          }
        },
        "ac408daec5b64a588c17a43078556deb": {
          "model_module": "@jupyter-widgets/base",
          "model_module_version": "1.2.0",
          "model_name": "LayoutModel",
          "state": {
            "_model_module": "@jupyter-widgets/base",
            "_model_module_version": "1.2.0",
            "_model_name": "LayoutModel",
            "_view_count": null,
            "_view_module": "@jupyter-widgets/base",
            "_view_module_version": "1.2.0",
            "_view_name": "LayoutView",
            "align_content": null,
            "align_items": null,
            "align_self": null,
            "border": null,
            "bottom": null,
            "display": null,
            "flex": "2",
            "flex_flow": null,
            "grid_area": null,
            "grid_auto_columns": null,
            "grid_auto_flow": null,
            "grid_auto_rows": null,
            "grid_column": null,
            "grid_gap": null,
            "grid_row": null,
            "grid_template_areas": null,
            "grid_template_columns": null,
            "grid_template_rows": null,
            "height": null,
            "justify_content": null,
            "justify_items": null,
            "left": null,
            "margin": null,
            "max_height": null,
            "max_width": null,
            "min_height": null,
            "min_width": null,
            "object_fit": null,
            "object_position": null,
            "order": null,
            "overflow": null,
            "overflow_x": null,
            "overflow_y": null,
            "padding": null,
            "right": null,
            "top": null,
            "visibility": null,
            "width": null
          }
        },
        "ac62fc69921a4b9fa8774ec11b0cf8c0": {
          "model_module": "@jupyter-widgets/controls",
          "model_module_version": "1.5.0",
          "model_name": "HBoxModel",
          "state": {
            "_dom_classes": [],
            "_model_module": "@jupyter-widgets/controls",
            "_model_module_version": "1.5.0",
            "_model_name": "HBoxModel",
            "_view_count": null,
            "_view_module": "@jupyter-widgets/controls",
            "_view_module_version": "1.5.0",
            "_view_name": "HBoxView",
            "box_style": "",
            "children": [
              "IPY_MODEL_bd35d6e48f004bb3b9b3c410c564fec2",
              "IPY_MODEL_3288f050aca84011a0e4ffef09a6a1ea",
              "IPY_MODEL_ee4a48f65ece45f5b43002be5d95922e"
            ],
            "layout": "IPY_MODEL_1257e6040fba4ac8857aab5e0e74d11b"
          }
        },
        "b555c0627a6d427eb19672b0f3065a35": {
          "model_module": "@jupyter-widgets/controls",
          "model_module_version": "1.5.0",
          "model_name": "ProgressStyleModel",
          "state": {
            "_model_module": "@jupyter-widgets/controls",
            "_model_module_version": "1.5.0",
            "_model_name": "ProgressStyleModel",
            "_view_count": null,
            "_view_module": "@jupyter-widgets/base",
            "_view_module_version": "1.2.0",
            "_view_name": "StyleView",
            "bar_color": null,
            "description_width": ""
          }
        },
        "b9dffc0b123f432cb746d450a1975f53": {
          "model_module": "@jupyter-widgets/base",
          "model_module_version": "1.2.0",
          "model_name": "LayoutModel",
          "state": {
            "_model_module": "@jupyter-widgets/base",
            "_model_module_version": "1.2.0",
            "_model_name": "LayoutModel",
            "_view_count": null,
            "_view_module": "@jupyter-widgets/base",
            "_view_module_version": "1.2.0",
            "_view_name": "LayoutView",
            "align_content": null,
            "align_items": null,
            "align_self": null,
            "border": null,
            "bottom": null,
            "display": null,
            "flex": null,
            "flex_flow": null,
            "grid_area": null,
            "grid_auto_columns": null,
            "grid_auto_flow": null,
            "grid_auto_rows": null,
            "grid_column": null,
            "grid_gap": null,
            "grid_row": null,
            "grid_template_areas": null,
            "grid_template_columns": null,
            "grid_template_rows": null,
            "height": null,
            "justify_content": null,
            "justify_items": null,
            "left": null,
            "margin": null,
            "max_height": null,
            "max_width": null,
            "min_height": null,
            "min_width": null,
            "object_fit": null,
            "object_position": null,
            "order": null,
            "overflow": null,
            "overflow_x": null,
            "overflow_y": null,
            "padding": null,
            "right": null,
            "top": null,
            "visibility": null,
            "width": null
          }
        },
        "bb97d49057564ab38a7972c122fe7640": {
          "model_module": "@jupyter-widgets/controls",
          "model_module_version": "1.5.0",
          "model_name": "HBoxModel",
          "state": {
            "_dom_classes": [],
            "_model_module": "@jupyter-widgets/controls",
            "_model_module_version": "1.5.0",
            "_model_name": "HBoxModel",
            "_view_count": null,
            "_view_module": "@jupyter-widgets/controls",
            "_view_module_version": "1.5.0",
            "_view_name": "HBoxView",
            "box_style": "",
            "children": [
              "IPY_MODEL_ef1415b379dd49cf85533560b5dd1ea3",
              "IPY_MODEL_48848362fffb4c048aaa3937094b739b",
              "IPY_MODEL_c17848e784cf40f1a916ae1c752286f9"
            ],
            "layout": "IPY_MODEL_727549949b054d869e12f996a4d42b07"
          }
        },
        "bd1152b13d8d4313ba8579b9a394a995": {
          "model_module": "@jupyter-widgets/controls",
          "model_module_version": "1.5.0",
          "model_name": "HTMLModel",
          "state": {
            "_dom_classes": [],
            "_model_module": "@jupyter-widgets/controls",
            "_model_module_version": "1.5.0",
            "_model_name": "HTMLModel",
            "_view_count": null,
            "_view_module": "@jupyter-widgets/controls",
            "_view_module_version": "1.5.0",
            "_view_name": "HTMLView",
            "description": "",
            "description_tooltip": null,
            "layout": "IPY_MODEL_2af3fb675f464291b0df92ff993f03d2",
            "placeholder": "​",
            "style": "IPY_MODEL_c84157760f36473eb830a301cd794b66",
            "value": "Epoch 36: 100%"
          }
        },
        "bd35d6e48f004bb3b9b3c410c564fec2": {
          "model_module": "@jupyter-widgets/controls",
          "model_module_version": "1.5.0",
          "model_name": "HTMLModel",
          "state": {
            "_dom_classes": [],
            "_model_module": "@jupyter-widgets/controls",
            "_model_module_version": "1.5.0",
            "_model_name": "HTMLModel",
            "_view_count": null,
            "_view_module": "@jupyter-widgets/controls",
            "_view_module_version": "1.5.0",
            "_view_name": "HTMLView",
            "description": "",
            "description_tooltip": null,
            "layout": "IPY_MODEL_0aa12b2f05ba4a658b50c556cd119094",
            "placeholder": "​",
            "style": "IPY_MODEL_85560f114eee401389c0c2b81fa2aa45",
            "value": "Epoch 99: 100%"
          }
        },
        "bf5f748808d7494793cbb02c136c9de4": {
          "model_module": "@jupyter-widgets/controls",
          "model_module_version": "1.5.0",
          "model_name": "HTMLModel",
          "state": {
            "_dom_classes": [],
            "_model_module": "@jupyter-widgets/controls",
            "_model_module_version": "1.5.0",
            "_model_name": "HTMLModel",
            "_view_count": null,
            "_view_module": "@jupyter-widgets/controls",
            "_view_module_version": "1.5.0",
            "_view_name": "HTMLView",
            "description": "",
            "description_tooltip": null,
            "layout": "IPY_MODEL_19ad391de1094639bc82ab3621c68153",
            "placeholder": "​",
            "style": "IPY_MODEL_92d2936a176d4661aec80b1a47fad6e4",
            "value": "Predicting DataLoader 0: 100%"
          }
        },
        "c17848e784cf40f1a916ae1c752286f9": {
          "model_module": "@jupyter-widgets/controls",
          "model_module_version": "1.5.0",
          "model_name": "HTMLModel",
          "state": {
            "_dom_classes": [],
            "_model_module": "@jupyter-widgets/controls",
            "_model_module_version": "1.5.0",
            "_model_name": "HTMLModel",
            "_view_count": null,
            "_view_module": "@jupyter-widgets/controls",
            "_view_module_version": "1.5.0",
            "_view_name": "HTMLView",
            "description": "",
            "description_tooltip": null,
            "layout": "IPY_MODEL_f874261620ba4946a9e353a5dda06ed0",
            "placeholder": "​",
            "style": "IPY_MODEL_10aea9a221e74ba4a84f20df3cc91518",
            "value": " 28/28 [00:00&lt;00:00, 45.23it/s, loss=0.59, val_loss=0.605, train_loss=0.596]"
          }
        },
        "c3888bd615cf486e85641a111f9d5985": {
          "model_module": "@jupyter-widgets/base",
          "model_module_version": "1.2.0",
          "model_name": "LayoutModel",
          "state": {
            "_model_module": "@jupyter-widgets/base",
            "_model_module_version": "1.2.0",
            "_model_name": "LayoutModel",
            "_view_count": null,
            "_view_module": "@jupyter-widgets/base",
            "_view_module_version": "1.2.0",
            "_view_name": "LayoutView",
            "align_content": null,
            "align_items": null,
            "align_self": null,
            "border": null,
            "bottom": null,
            "display": "inline-flex",
            "flex": null,
            "flex_flow": "row wrap",
            "grid_area": null,
            "grid_auto_columns": null,
            "grid_auto_flow": null,
            "grid_auto_rows": null,
            "grid_column": null,
            "grid_gap": null,
            "grid_row": null,
            "grid_template_areas": null,
            "grid_template_columns": null,
            "grid_template_rows": null,
            "height": null,
            "justify_content": null,
            "justify_items": null,
            "left": null,
            "margin": null,
            "max_height": null,
            "max_width": null,
            "min_height": null,
            "min_width": null,
            "object_fit": null,
            "object_position": null,
            "order": null,
            "overflow": null,
            "overflow_x": null,
            "overflow_y": null,
            "padding": null,
            "right": null,
            "top": null,
            "visibility": null,
            "width": "100%"
          }
        },
        "c3b215ce0ecc4f1c8868577512b80153": {
          "model_module": "@jupyter-widgets/base",
          "model_module_version": "1.2.0",
          "model_name": "LayoutModel",
          "state": {
            "_model_module": "@jupyter-widgets/base",
            "_model_module_version": "1.2.0",
            "_model_name": "LayoutModel",
            "_view_count": null,
            "_view_module": "@jupyter-widgets/base",
            "_view_module_version": "1.2.0",
            "_view_name": "LayoutView",
            "align_content": null,
            "align_items": null,
            "align_self": null,
            "border": null,
            "bottom": null,
            "display": "inline-flex",
            "flex": null,
            "flex_flow": "row wrap",
            "grid_area": null,
            "grid_auto_columns": null,
            "grid_auto_flow": null,
            "grid_auto_rows": null,
            "grid_column": null,
            "grid_gap": null,
            "grid_row": null,
            "grid_template_areas": null,
            "grid_template_columns": null,
            "grid_template_rows": null,
            "height": null,
            "justify_content": null,
            "justify_items": null,
            "left": null,
            "margin": null,
            "max_height": null,
            "max_width": null,
            "min_height": null,
            "min_width": null,
            "object_fit": null,
            "object_position": null,
            "order": null,
            "overflow": null,
            "overflow_x": null,
            "overflow_y": null,
            "padding": null,
            "right": null,
            "top": null,
            "visibility": null,
            "width": "100%"
          }
        },
        "c84157760f36473eb830a301cd794b66": {
          "model_module": "@jupyter-widgets/controls",
          "model_module_version": "1.5.0",
          "model_name": "DescriptionStyleModel",
          "state": {
            "_model_module": "@jupyter-widgets/controls",
            "_model_module_version": "1.5.0",
            "_model_name": "DescriptionStyleModel",
            "_view_count": null,
            "_view_module": "@jupyter-widgets/base",
            "_view_module_version": "1.2.0",
            "_view_name": "StyleView",
            "description_width": ""
          }
        },
        "cb96a69fe6464670bec6857622c45081": {
          "model_module": "@jupyter-widgets/controls",
          "model_module_version": "1.5.0",
          "model_name": "ProgressStyleModel",
          "state": {
            "_model_module": "@jupyter-widgets/controls",
            "_model_module_version": "1.5.0",
            "_model_name": "ProgressStyleModel",
            "_view_count": null,
            "_view_module": "@jupyter-widgets/base",
            "_view_module_version": "1.2.0",
            "_view_name": "StyleView",
            "bar_color": null,
            "description_width": ""
          }
        },
        "ccbb7e75e818419e9ed3930921483e47": {
          "model_module": "@jupyter-widgets/base",
          "model_module_version": "1.2.0",
          "model_name": "LayoutModel",
          "state": {
            "_model_module": "@jupyter-widgets/base",
            "_model_module_version": "1.2.0",
            "_model_name": "LayoutModel",
            "_view_count": null,
            "_view_module": "@jupyter-widgets/base",
            "_view_module_version": "1.2.0",
            "_view_name": "LayoutView",
            "align_content": null,
            "align_items": null,
            "align_self": null,
            "border": null,
            "bottom": null,
            "display": null,
            "flex": "2",
            "flex_flow": null,
            "grid_area": null,
            "grid_auto_columns": null,
            "grid_auto_flow": null,
            "grid_auto_rows": null,
            "grid_column": null,
            "grid_gap": null,
            "grid_row": null,
            "grid_template_areas": null,
            "grid_template_columns": null,
            "grid_template_rows": null,
            "height": null,
            "justify_content": null,
            "justify_items": null,
            "left": null,
            "margin": null,
            "max_height": null,
            "max_width": null,
            "min_height": null,
            "min_width": null,
            "object_fit": null,
            "object_position": null,
            "order": null,
            "overflow": null,
            "overflow_x": null,
            "overflow_y": null,
            "padding": null,
            "right": null,
            "top": null,
            "visibility": null,
            "width": null
          }
        },
        "cdb09917a81f4658829e86577bc8a003": {
          "model_module": "@jupyter-widgets/base",
          "model_module_version": "1.2.0",
          "model_name": "LayoutModel",
          "state": {
            "_model_module": "@jupyter-widgets/base",
            "_model_module_version": "1.2.0",
            "_model_name": "LayoutModel",
            "_view_count": null,
            "_view_module": "@jupyter-widgets/base",
            "_view_module_version": "1.2.0",
            "_view_name": "LayoutView",
            "align_content": null,
            "align_items": null,
            "align_self": null,
            "border": null,
            "bottom": null,
            "display": null,
            "flex": null,
            "flex_flow": null,
            "grid_area": null,
            "grid_auto_columns": null,
            "grid_auto_flow": null,
            "grid_auto_rows": null,
            "grid_column": null,
            "grid_gap": null,
            "grid_row": null,
            "grid_template_areas": null,
            "grid_template_columns": null,
            "grid_template_rows": null,
            "height": null,
            "justify_content": null,
            "justify_items": null,
            "left": null,
            "margin": null,
            "max_height": null,
            "max_width": null,
            "min_height": null,
            "min_width": null,
            "object_fit": null,
            "object_position": null,
            "order": null,
            "overflow": null,
            "overflow_x": null,
            "overflow_y": null,
            "padding": null,
            "right": null,
            "top": null,
            "visibility": null,
            "width": null
          }
        },
        "d561def543f7434c944bf2ea582f44ad": {
          "model_module": "@jupyter-widgets/controls",
          "model_module_version": "1.5.0",
          "model_name": "DescriptionStyleModel",
          "state": {
            "_model_module": "@jupyter-widgets/controls",
            "_model_module_version": "1.5.0",
            "_model_name": "DescriptionStyleModel",
            "_view_count": null,
            "_view_module": "@jupyter-widgets/base",
            "_view_module_version": "1.2.0",
            "_view_name": "StyleView",
            "description_width": ""
          }
        },
        "d5d83906917c4b8db2c41ed736f1524c": {
          "model_module": "@jupyter-widgets/base",
          "model_module_version": "1.2.0",
          "model_name": "LayoutModel",
          "state": {
            "_model_module": "@jupyter-widgets/base",
            "_model_module_version": "1.2.0",
            "_model_name": "LayoutModel",
            "_view_count": null,
            "_view_module": "@jupyter-widgets/base",
            "_view_module_version": "1.2.0",
            "_view_name": "LayoutView",
            "align_content": null,
            "align_items": null,
            "align_self": null,
            "border": null,
            "bottom": null,
            "display": "inline-flex",
            "flex": null,
            "flex_flow": "row wrap",
            "grid_area": null,
            "grid_auto_columns": null,
            "grid_auto_flow": null,
            "grid_auto_rows": null,
            "grid_column": null,
            "grid_gap": null,
            "grid_row": null,
            "grid_template_areas": null,
            "grid_template_columns": null,
            "grid_template_rows": null,
            "height": null,
            "justify_content": null,
            "justify_items": null,
            "left": null,
            "margin": null,
            "max_height": null,
            "max_width": null,
            "min_height": null,
            "min_width": null,
            "object_fit": null,
            "object_position": null,
            "order": null,
            "overflow": null,
            "overflow_x": null,
            "overflow_y": null,
            "padding": null,
            "right": null,
            "top": null,
            "visibility": null,
            "width": "100%"
          }
        },
        "dc9eddb8816549e38155aba7cacbe820": {
          "model_module": "@jupyter-widgets/base",
          "model_module_version": "1.2.0",
          "model_name": "LayoutModel",
          "state": {
            "_model_module": "@jupyter-widgets/base",
            "_model_module_version": "1.2.0",
            "_model_name": "LayoutModel",
            "_view_count": null,
            "_view_module": "@jupyter-widgets/base",
            "_view_module_version": "1.2.0",
            "_view_name": "LayoutView",
            "align_content": null,
            "align_items": null,
            "align_self": null,
            "border": null,
            "bottom": null,
            "display": null,
            "flex": null,
            "flex_flow": null,
            "grid_area": null,
            "grid_auto_columns": null,
            "grid_auto_flow": null,
            "grid_auto_rows": null,
            "grid_column": null,
            "grid_gap": null,
            "grid_row": null,
            "grid_template_areas": null,
            "grid_template_columns": null,
            "grid_template_rows": null,
            "height": null,
            "justify_content": null,
            "justify_items": null,
            "left": null,
            "margin": null,
            "max_height": null,
            "max_width": null,
            "min_height": null,
            "min_width": null,
            "object_fit": null,
            "object_position": null,
            "order": null,
            "overflow": null,
            "overflow_x": null,
            "overflow_y": null,
            "padding": null,
            "right": null,
            "top": null,
            "visibility": null,
            "width": null
          }
        },
        "e275d9d343e24a82a765c8063aa337cf": {
          "model_module": "@jupyter-widgets/controls",
          "model_module_version": "1.5.0",
          "model_name": "ProgressStyleModel",
          "state": {
            "_model_module": "@jupyter-widgets/controls",
            "_model_module_version": "1.5.0",
            "_model_name": "ProgressStyleModel",
            "_view_count": null,
            "_view_module": "@jupyter-widgets/base",
            "_view_module_version": "1.2.0",
            "_view_name": "StyleView",
            "bar_color": null,
            "description_width": ""
          }
        },
        "e6051a8942004c34912dcab98343a84e": {
          "model_module": "@jupyter-widgets/controls",
          "model_module_version": "1.5.0",
          "model_name": "FloatProgressModel",
          "state": {
            "_dom_classes": [],
            "_model_module": "@jupyter-widgets/controls",
            "_model_module_version": "1.5.0",
            "_model_name": "FloatProgressModel",
            "_view_count": null,
            "_view_module": "@jupyter-widgets/controls",
            "_view_module_version": "1.5.0",
            "_view_name": "ProgressView",
            "bar_style": "success",
            "description": "",
            "description_tooltip": null,
            "layout": "IPY_MODEL_637ed20aac744124958eb82193bc43e6",
            "max": 4,
            "min": 0,
            "orientation": "horizontal",
            "style": "IPY_MODEL_cb96a69fe6464670bec6857622c45081",
            "value": 4
          }
        },
        "e68b237f0e284e24ac58358e072300ff": {
          "model_module": "@jupyter-widgets/controls",
          "model_module_version": "1.5.0",
          "model_name": "FloatProgressModel",
          "state": {
            "_dom_classes": [],
            "_model_module": "@jupyter-widgets/controls",
            "_model_module_version": "1.5.0",
            "_model_name": "FloatProgressModel",
            "_view_count": null,
            "_view_module": "@jupyter-widgets/controls",
            "_view_module_version": "1.5.0",
            "_view_name": "ProgressView",
            "bar_style": "success",
            "description": "",
            "description_tooltip": null,
            "layout": "IPY_MODEL_5b7ffc7f66e24409afc184d449c17f8c",
            "max": 28,
            "min": 0,
            "orientation": "horizontal",
            "style": "IPY_MODEL_4eed7c3f53f14efb945db9dcd3d18df8",
            "value": 28
          }
        },
        "e6b2af7f89cd46cfae196a5f8b87a70a": {
          "model_module": "@jupyter-widgets/controls",
          "model_module_version": "1.5.0",
          "model_name": "HTMLModel",
          "state": {
            "_dom_classes": [],
            "_model_module": "@jupyter-widgets/controls",
            "_model_module_version": "1.5.0",
            "_model_name": "HTMLModel",
            "_view_count": null,
            "_view_module": "@jupyter-widgets/controls",
            "_view_module_version": "1.5.0",
            "_view_name": "HTMLView",
            "description": "",
            "description_tooltip": null,
            "layout": "IPY_MODEL_f8616792c5214265a897475f864b8531",
            "placeholder": "​",
            "style": "IPY_MODEL_35e519136ab043e7af7440f221d5f36f",
            "value": " 4/4 [00:00&lt;00:00, 155.68it/s]"
          }
        },
        "e9119d851b344b6486ff77bd1e053a63": {
          "model_module": "@jupyter-widgets/controls",
          "model_module_version": "1.5.0",
          "model_name": "HTMLModel",
          "state": {
            "_dom_classes": [],
            "_model_module": "@jupyter-widgets/controls",
            "_model_module_version": "1.5.0",
            "_model_name": "HTMLModel",
            "_view_count": null,
            "_view_module": "@jupyter-widgets/controls",
            "_view_module_version": "1.5.0",
            "_view_name": "HTMLView",
            "description": "",
            "description_tooltip": null,
            "layout": "IPY_MODEL_6c05836db84b49ce8998976e5c105473",
            "placeholder": "​",
            "style": "IPY_MODEL_1061f0d18fad4e0f908924503a2f4879",
            "value": "Predicting DataLoader 0: 100%"
          }
        },
        "e92d671778f44f70891a6764031ab015": {
          "model_module": "@jupyter-widgets/controls",
          "model_module_version": "1.5.0",
          "model_name": "HBoxModel",
          "state": {
            "_dom_classes": [],
            "_model_module": "@jupyter-widgets/controls",
            "_model_module_version": "1.5.0",
            "_model_name": "HBoxModel",
            "_view_count": null,
            "_view_module": "@jupyter-widgets/controls",
            "_view_module_version": "1.5.0",
            "_view_name": "HBoxView",
            "box_style": "",
            "children": [
              "IPY_MODEL_bd1152b13d8d4313ba8579b9a394a995",
              "IPY_MODEL_3e85253590184999a108bc4b249f0d91",
              "IPY_MODEL_03ce6ffde4a14e7ba49d6b598460b599"
            ],
            "layout": "IPY_MODEL_c3888bd615cf486e85641a111f9d5985"
          }
        },
        "eb1aa4e736c5432095141bb9998c9ecc": {
          "model_module": "@jupyter-widgets/base",
          "model_module_version": "1.2.0",
          "model_name": "LayoutModel",
          "state": {
            "_model_module": "@jupyter-widgets/base",
            "_model_module_version": "1.2.0",
            "_model_name": "LayoutModel",
            "_view_count": null,
            "_view_module": "@jupyter-widgets/base",
            "_view_module_version": "1.2.0",
            "_view_name": "LayoutView",
            "align_content": null,
            "align_items": null,
            "align_self": null,
            "border": null,
            "bottom": null,
            "display": null,
            "flex": "2",
            "flex_flow": null,
            "grid_area": null,
            "grid_auto_columns": null,
            "grid_auto_flow": null,
            "grid_auto_rows": null,
            "grid_column": null,
            "grid_gap": null,
            "grid_row": null,
            "grid_template_areas": null,
            "grid_template_columns": null,
            "grid_template_rows": null,
            "height": null,
            "justify_content": null,
            "justify_items": null,
            "left": null,
            "margin": null,
            "max_height": null,
            "max_width": null,
            "min_height": null,
            "min_width": null,
            "object_fit": null,
            "object_position": null,
            "order": null,
            "overflow": null,
            "overflow_x": null,
            "overflow_y": null,
            "padding": null,
            "right": null,
            "top": null,
            "visibility": null,
            "width": null
          }
        },
        "ee4a48f65ece45f5b43002be5d95922e": {
          "model_module": "@jupyter-widgets/controls",
          "model_module_version": "1.5.0",
          "model_name": "HTMLModel",
          "state": {
            "_dom_classes": [],
            "_model_module": "@jupyter-widgets/controls",
            "_model_module_version": "1.5.0",
            "_model_name": "HTMLModel",
            "_view_count": null,
            "_view_module": "@jupyter-widgets/controls",
            "_view_module_version": "1.5.0",
            "_view_name": "HTMLView",
            "description": "",
            "description_tooltip": null,
            "layout": "IPY_MODEL_5bbf41ffc19f43b28a3881e69c71c420",
            "placeholder": "​",
            "style": "IPY_MODEL_f3109d0366b543dda0b10b05946e5616",
            "value": " 28/28 [00:00&lt;00:00, 105.80it/s, loss=0.575, val_loss=0.649, train_loss=0.579]"
          }
        },
        "ef1415b379dd49cf85533560b5dd1ea3": {
          "model_module": "@jupyter-widgets/controls",
          "model_module_version": "1.5.0",
          "model_name": "HTMLModel",
          "state": {
            "_dom_classes": [],
            "_model_module": "@jupyter-widgets/controls",
            "_model_module_version": "1.5.0",
            "_model_name": "HTMLModel",
            "_view_count": null,
            "_view_module": "@jupyter-widgets/controls",
            "_view_module_version": "1.5.0",
            "_view_name": "HTMLView",
            "description": "",
            "description_tooltip": null,
            "layout": "IPY_MODEL_cdb09917a81f4658829e86577bc8a003",
            "placeholder": "​",
            "style": "IPY_MODEL_8b697a6639fa4d2bba017c395e6f7fef",
            "value": "Epoch 44: 100%"
          }
        },
        "f3109d0366b543dda0b10b05946e5616": {
          "model_module": "@jupyter-widgets/controls",
          "model_module_version": "1.5.0",
          "model_name": "DescriptionStyleModel",
          "state": {
            "_model_module": "@jupyter-widgets/controls",
            "_model_module_version": "1.5.0",
            "_model_name": "DescriptionStyleModel",
            "_view_count": null,
            "_view_module": "@jupyter-widgets/base",
            "_view_module_version": "1.2.0",
            "_view_name": "StyleView",
            "description_width": ""
          }
        },
        "f8616792c5214265a897475f864b8531": {
          "model_module": "@jupyter-widgets/base",
          "model_module_version": "1.2.0",
          "model_name": "LayoutModel",
          "state": {
            "_model_module": "@jupyter-widgets/base",
            "_model_module_version": "1.2.0",
            "_model_name": "LayoutModel",
            "_view_count": null,
            "_view_module": "@jupyter-widgets/base",
            "_view_module_version": "1.2.0",
            "_view_name": "LayoutView",
            "align_content": null,
            "align_items": null,
            "align_self": null,
            "border": null,
            "bottom": null,
            "display": null,
            "flex": null,
            "flex_flow": null,
            "grid_area": null,
            "grid_auto_columns": null,
            "grid_auto_flow": null,
            "grid_auto_rows": null,
            "grid_column": null,
            "grid_gap": null,
            "grid_row": null,
            "grid_template_areas": null,
            "grid_template_columns": null,
            "grid_template_rows": null,
            "height": null,
            "justify_content": null,
            "justify_items": null,
            "left": null,
            "margin": null,
            "max_height": null,
            "max_width": null,
            "min_height": null,
            "min_width": null,
            "object_fit": null,
            "object_position": null,
            "order": null,
            "overflow": null,
            "overflow_x": null,
            "overflow_y": null,
            "padding": null,
            "right": null,
            "top": null,
            "visibility": null,
            "width": null
          }
        },
        "f874261620ba4946a9e353a5dda06ed0": {
          "model_module": "@jupyter-widgets/base",
          "model_module_version": "1.2.0",
          "model_name": "LayoutModel",
          "state": {
            "_model_module": "@jupyter-widgets/base",
            "_model_module_version": "1.2.0",
            "_model_name": "LayoutModel",
            "_view_count": null,
            "_view_module": "@jupyter-widgets/base",
            "_view_module_version": "1.2.0",
            "_view_name": "LayoutView",
            "align_content": null,
            "align_items": null,
            "align_self": null,
            "border": null,
            "bottom": null,
            "display": null,
            "flex": null,
            "flex_flow": null,
            "grid_area": null,
            "grid_auto_columns": null,
            "grid_auto_flow": null,
            "grid_auto_rows": null,
            "grid_column": null,
            "grid_gap": null,
            "grid_row": null,
            "grid_template_areas": null,
            "grid_template_columns": null,
            "grid_template_rows": null,
            "height": null,
            "justify_content": null,
            "justify_items": null,
            "left": null,
            "margin": null,
            "max_height": null,
            "max_width": null,
            "min_height": null,
            "min_width": null,
            "object_fit": null,
            "object_position": null,
            "order": null,
            "overflow": null,
            "overflow_x": null,
            "overflow_y": null,
            "padding": null,
            "right": null,
            "top": null,
            "visibility": null,
            "width": null
          }
        }
      }
    }
  },
  "nbformat": 4,
  "nbformat_minor": 0
}
