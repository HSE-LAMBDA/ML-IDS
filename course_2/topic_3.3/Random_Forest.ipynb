{
 "cells": [
  {
   "cell_type": "markdown",
   "metadata": {},
   "source": [
    "# Random Forest"
   ]
  },
  {
   "cell_type": "code",
   "execution_count": null,
   "metadata": {},
   "outputs": [],
   "source": [
    "from sklearn.datasets import make_moons\n",
    "from sklearn.ensemble import  RandomForestClassifier\n",
    "from matplotlib import pyplot as plt\n",
    "from sklearn.model_selection import train_test_split\n",
    "from sklearn.metrics import accuracy_score\n",
    "from sklearn import tree\n",
    "import mglearn             #this package will help us to paint margins"
   ]
  },
  {
   "cell_type": "markdown",
   "metadata": {},
   "source": [
    "I this notebook we are going to get acquainted with Decision Trees' algorithm application via **sklearn.tree**. Our goal will be to tune parameters of a model to decrease overfitting and to increase the accuracy on a test data."
   ]
  },
  {
   "cell_type": "code",
   "execution_count": null,
   "metadata": {},
   "outputs": [],
   "source": [
    "# Form the data\n",
    "\n",
    "X,y = make_moons(n_samples=200,noise=0.3, random_state=42)"
   ]
  },
  {
   "cell_type": "code",
   "execution_count": null,
   "metadata": {},
   "outputs": [],
   "source": [
    "# Picture the data\n",
    "\n",
    "fig = plt.figure(figsize=(12,6))\n",
    "mglearn.discrete_scatter(X[:, 0], X[:, 1], y);"
   ]
  },
  {
   "cell_type": "code",
   "execution_count": null,
   "metadata": {},
   "outputs": [],
   "source": [
    "# Use train_test_split to split initial data on the train and test subsets\n",
    "\n",
    "X_train, X_test, y_train, y_test = train_test_split(X, y, test_size=0.33, random_state=42)"
   ]
  },
  {
   "cell_type": "code",
   "execution_count": null,
   "metadata": {},
   "outputs": [],
   "source": [
    "# Initialize a decion tree classifier and fit it on the train data\n",
    "\n",
    "clf = RandomForestClassifier(random_state=42)\n",
    "\n",
    "clf.fit(X_train,y_train)"
   ]
  },
  {
   "cell_type": "code",
   "execution_count": null,
   "metadata": {},
   "outputs": [],
   "source": [
    "# Picture the decison tree boundaries\n",
    "\n",
    "fig = plt.figure(figsize=(12,6))\n",
    "mglearn.plots.plot_2d_separator(clf, X, fill=True, alpha=.4)\n",
    "mglearn.discrete_scatter(X[:, 0], X[:, 1], y);"
   ]
  },
  {
   "cell_type": "code",
   "execution_count": null,
   "metadata": {},
   "outputs": [],
   "source": [
    "print('Accuracy on the train:', round(accuracy_score(y_train, clf.predict(X_train)),2))\n",
    "print('Accuracy on the test:', round(accuracy_score(y_test, clf.predict(X_test)),2))"
   ]
  },
  {
   "cell_type": "markdown",
   "metadata": {},
   "source": [
    "So, the figure above and valuees accuracy on train and test subsets even for the default parameters shows the accuracy on the test set greater than for pre-pruned and post-pruned decision trees! Can we increase the test score?"
   ]
  },
  {
   "cell_type": "markdown",
   "metadata": {},
   "source": [
    "**Task 1:** By tuning the number of estimators (<200) depth of the Random Forest model, find the optimal value opt_n_estimatos that maximizes the accuracy on the test data (if there are few numbers with same accuracy, choose the less one)."
   ]
  },
  {
   "cell_type": "code",
   "execution_count": null,
   "metadata": {},
   "outputs": [],
   "source": [
    "# Solution\n",
    "\n",
    "n_estimators = []\n",
    "acc_test = []\n",
    "acc_train = []\n",
    "\n",
    "fig = plt.figure(figsize=(12,5))\n",
    "\n",
    "for i in ...:\n",
    "    clf = RandomForestClassifier(... random_state=42)\n",
    "    ..."
   ]
  },
  {
   "cell_type": "code",
   "execution_count": null,
   "metadata": {},
   "outputs": [],
   "source": [
    "opt_n_estimators = ..."
   ]
  },
  {
   "cell_type": "code",
   "execution_count": null,
   "metadata": {},
   "outputs": [],
   "source": [
    "# Checking\n",
    "\n",
    "clf = RandomForestClassifier(n_estimators = opt_n_estimators, random_state=42)\n",
    "\n",
    "clf.fit(X_train,y_train)\n",
    "\n",
    "fig = plt.figure(figsize=(12,6))\n",
    "mglearn.plots.plot_2d_separator(clf, X, fill=True, alpha=.4)\n",
    "mglearn.discrete_scatter(X[:, 0], X[:, 1], y);\n",
    "\n",
    "print('Accuracy on the train:', round(accuracy_score(...),2))\n",
    "print('Accuracy on the test:', round(accuracy_score(...),2))\n",
    "print('Opt_n_estimators: ', opt_n_estimators)"
   ]
  },
  {
   "cell_type": "markdown",
   "metadata": {},
   "source": [
    "What is the optimal number of estimators?"
   ]
  },
  {
   "cell_type": "markdown",
   "metadata": {},
   "source": [
    "What is the maximum value of accuracy on the test subset?"
   ]
  }
 ],
 "metadata": {
  "kernelspec": {
   "display_name": "Python 3",
   "language": "python",
   "name": "python3"
  },
  "language_info": {
   "codemirror_mode": {
    "name": "ipython",
    "version": 3
   },
   "file_extension": ".py",
   "mimetype": "text/x-python",
   "name": "python",
   "nbconvert_exporter": "python",
   "pygments_lexer": "ipython3",
   "version": "3.8.5"
  }
 },
 "nbformat": 4,
 "nbformat_minor": 4
}
