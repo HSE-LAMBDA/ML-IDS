{
  "nbformat": 4,
  "nbformat_minor": 0,
  "metadata": {
    "kernelspec": {
      "display_name": "azar_env",
      "language": "python",
      "name": "azar_env"
    },
    "language_info": {
      "codemirror_mode": {
        "name": "ipython",
        "version": 3
      },
      "file_extension": ".py",
      "mimetype": "text/x-python",
      "name": "python",
      "nbconvert_exporter": "python",
      "pygments_lexer": "ipython3",
      "version": "3.7.7"
    },
    "colab": {
      "name": "HIGGS_UCI.ipynb",
      "provenance": [],
      "collapsed_sections": []
    }
  },
  "cells": [
    {
      "cell_type": "markdown",
      "metadata": {
        "id": "8OvKUo8_E2jf"
      },
      "source": [
        "# [HIGGS UCI](https://archive.ics.uci.edu/ml/datasets/HIGGS#) "
      ]
    },
    {
      "cell_type": "markdown",
      "metadata": {
        "id": "QzyjBbxzE2jm"
      },
      "source": [
        "In this notebook will work with real dataset from high energy physics (HEP). The goal is increase the accuracy on test subset compared to baseline. "
      ]
    },
    {
      "cell_type": "markdown",
      "metadata": {
        "id": "7Lz2Z3YIE2jm"
      },
      "source": [
        "### Introduction\n",
        "\n",
        "The field of high energy physics is devoted to the study of the elementary constituents of matter. By investigating the structure of matter and the laws that govern its interactions, this field strives to discover the fundamental\n",
        "properties of the physical universe. The primary tools of experimental high energy physicists are modern accelerators, which collide protons and/or antiprotons to create exotic particles that occur only at extremely high\n",
        "energy densities. Collisions at high energy particle colliders are a fruitful source of exotic particle discoveries. Observing these particles and measuring their properties may yield critical insights about the\n",
        "very nature of matter. Finding these rare particles requires solving difficult signal-versus-background classification problems.  Such discoveries require powerful statistical methods, and machine learning tools play\n",
        "a critical role. Given the limited quantity and expensive nature of the data, improvements in analytical tools\n",
        "directly boost particle discovery potential."
      ]
    },
    {
      "cell_type": "markdown",
      "metadata": {
        "id": "HcsvunTDE2jo"
      },
      "source": [
        "### Data Set Information:\n",
        "\n",
        "The data has been produced using Monte Carlo simulations. \n",
        "\n",
        "The first column is the class label:\n",
        "- 1 for signal, \n",
        "- 0 for background.\n",
        "\n",
        "Other 28 columns are features (21 low-level features then 7 high-level features): \n",
        "- lepton pT, \n",
        "- lepton eta, \n",
        "- lepton phi, \n",
        "- missing energy magnitude, \n",
        "- missing energy phi, \n",
        "- jet 1 pt, \n",
        "- jet 1 eta, \n",
        "- jet 1 phi, \n",
        "- jet 1 b-tag, \n",
        "- jet 2 pt, \n",
        "- jet 2 eta, \n",
        "- jet 2 phi, \n",
        "- jet 2 b-tag, \n",
        "- jet 3 pt, \n",
        "- jet 3 eta, \n",
        "- jet 3 phi, \n",
        "- jet 3 b-tag, \n",
        "- jet 4 pt, \n",
        "- jet 4 eta, \n",
        "- jet 4 phi, \n",
        "- jet 4 b-tag, \n",
        "\n",
        "\n",
        "- m_jj, \n",
        "- m_jjj, \n",
        "- m_lv, \n",
        "- m_jlv, \n",
        "- m_bb, \n",
        "- m_wbb, \n",
        "- m_wwbb.\n",
        "\n",
        "The first 21 features (columns 1-21) are kinematic properties measured by the particle detectors in the accelerator. The last seven features are functions of the first 21 features; these are high-level features derived by physicists to help discriminate between the two classes.\n",
        "\n",
        "The last 500,000 examples are used as a test set.\n",
        "\n",
        "Benchmark results using Bayesian Decision Trees from a standard physics package and 5-layer neural networks are presented in the original paper:\n",
        "\n",
        "**Baldi, P., P. Sadowski, and D. Whiteson.** “[Searching for Exotic Particles in High-energy Physics with Deep Learning](https://arxiv.org/pdf/1402.4735.pdf).” Nature Communications 5 (July 2, 2014).\n"
      ]
    },
    {
      "cell_type": "code",
      "metadata": {
        "id": "jXbMDJTbE2jp"
      },
      "source": [
        "# import packages\n",
        "\n",
        "import pandas as pd\n",
        "import numpy as np\n",
        "import xgboost as xgb\n",
        "import wget\n",
        "from sklearn.metrics import accuracy_score\n",
        "\n",
        "# apply pip install for those you don`t have"
      ],
      "execution_count": 4,
      "outputs": []
    },
    {
      "cell_type": "code",
      "metadata": {
        "id": "unjI-_I6FDMZ"
      },
      "source": [
        "# pip install wget"
      ],
      "execution_count": 5,
      "outputs": []
    },
    {
      "cell_type": "code",
      "metadata": {
        "id": "nKJWZoUPE2ju",
        "colab": {
          "base_uri": "https://localhost:8080/",
          "height": 35
        },
        "outputId": "d82245d2-947a-460c-a646-ae64e343cca4"
      },
      "source": [
        "# donwload the HIGGS dataset\n",
        "url = \"https://archive.ics.uci.edu/ml/machine-learning-databases/00280/HIGGS.csv.gz\"  \n",
        "wget.download(url, 'HIGGS.csv.gz') "
      ],
      "execution_count": 6,
      "outputs": [
        {
          "output_type": "execute_result",
          "data": {
            "application/vnd.google.colaboratory.intrinsic+json": {
              "type": "string"
            },
            "text/plain": [
              "'HIGGS.csv.gz'"
            ]
          },
          "metadata": {},
          "execution_count": 6
        }
      ]
    },
    {
      "cell_type": "code",
      "metadata": {
        "id": "q3hkMuzWE2ju"
      },
      "source": [
        "# open the dataset \n",
        "\n",
        "data = pd.read_csv('HIGGS.csv.gz', names=list(range(29)))"
      ],
      "execution_count": 7,
      "outputs": []
    },
    {
      "cell_type": "code",
      "metadata": {
        "id": "ZBshxbetE2jv",
        "colab": {
          "base_uri": "https://localhost:8080/"
        },
        "outputId": "89477369-b673-411f-91a2-e7ed6c007cb9"
      },
      "source": [
        "print('Number of rows = ', data.shape[0])\n",
        "print('Number of columns = ', data.shape[1])"
      ],
      "execution_count": 8,
      "outputs": [
        {
          "output_type": "stream",
          "name": "stdout",
          "text": [
            "Number of rows =  11000000\n",
            "Number of columns =  29\n"
          ]
        }
      ]
    },
    {
      "cell_type": "markdown",
      "metadata": {
        "id": "MQPsKH2xE2jv"
      },
      "source": [
        "We will divide the data to train and test subsets. Our goal is to predict the class from the first column (with number 0)."
      ]
    },
    {
      "cell_type": "code",
      "metadata": {
        "id": "Ff5rQ25AFfN3"
      },
      "source": [
        "from sklearn.model_selection import train_test_split"
      ],
      "execution_count": 9,
      "outputs": []
    },
    {
      "cell_type": "code",
      "metadata": {
        "id": "Cfm6yUekHD_b",
        "colab": {
          "base_uri": "https://localhost:8080/"
        },
        "outputId": "38567d59-2728-4035-dcc2-a56ce3bb4cba"
      },
      "source": [
        "data[0]"
      ],
      "execution_count": 10,
      "outputs": [
        {
          "output_type": "execute_result",
          "data": {
            "text/plain": [
              "0           1.0\n",
              "1           1.0\n",
              "2           1.0\n",
              "3           0.0\n",
              "4           1.0\n",
              "           ... \n",
              "10999995    1.0\n",
              "10999996    1.0\n",
              "10999997    1.0\n",
              "10999998    0.0\n",
              "10999999    0.0\n",
              "Name: 0, Length: 11000000, dtype: float64"
            ]
          },
          "metadata": {},
          "execution_count": 10
        }
      ]
    },
    {
      "cell_type": "code",
      "metadata": {
        "id": "Yk78XIv4Okme"
      },
      "source": [
        ""
      ],
      "execution_count": 10,
      "outputs": []
    },
    {
      "cell_type": "markdown",
      "metadata": {
        "id": "QyWRhKz_OlYs"
      },
      "source": [
        "The last 500 000 of samples we will use as test subset to check the perfomance of our model. The remaining dataset has 10.5 millions of observations that will require a lot of time to train the model and tune hyperparameters. That is why we will reduce the number of training samples to 1 million. Since the dataset can be imbalanced we should not extract samples randomly. We will extract samples the way that train subset will have the same classes distribution as dataset using *stratify* in **train_test_split()**."
      ]
    },
    {
      "cell_type": "code",
      "metadata": {
        "id": "oEgPRj0uOjoj"
      },
      "source": [
        "# extract last 500 000 observations to test subset\n",
        "\n",
        "X_test, y_test = data.to_numpy()[-500000:,1:], data.to_numpy()[-500000:,0]"
      ],
      "execution_count": 11,
      "outputs": []
    },
    {
      "cell_type": "markdown",
      "metadata": {
        "id": "6P1j7tO92k-R"
      },
      "source": [
        ""
      ]
    },
    {
      "cell_type": "code",
      "metadata": {
        "id": "sMoFcGPsHgaw"
      },
      "source": [
        "# extract training set with the same distribution\n",
        "# 0.2/21 is choosen to obtain 100 thousand of observations\n",
        "\n",
        "X, y = data.to_numpy()[:-500000,1:], data.to_numpy()[:-500000,0]\n",
        "X_train, X_val, y_train, y_val = train_test_split(X,y, train_size=0.2/21, random_state=42, stratify=data.to_numpy()[:-500000,0],)"
      ],
      "execution_count": 21,
      "outputs": []
    },
    {
      "cell_type": "markdown",
      "metadata": {
        "id": "b04QqHHKR1Hp"
      },
      "source": [
        "Let us check if both distributions are realy coincide:"
      ]
    },
    {
      "cell_type": "code",
      "metadata": {
        "id": "_C-S2CfeI4J2",
        "colab": {
          "base_uri": "https://localhost:8080/",
          "height": 281
        },
        "outputId": "e3cb7bbe-aafc-4a80-af08-2249c7d6b063"
      },
      "source": [
        "from matplotlib import pyplot as plt\n",
        "fig = plt.figure(figsize=(8,4))\n",
        "plt.hist(y,density=True,rwidth=1,align='right',label='distribution of classes in y');\n",
        "plt.hist(y_train,density=True,rwidth=1,align='left',label='distribution of classes in y_train');\n",
        "plt.legend()\n",
        "plt.title('Classes distribution');"
      ],
      "execution_count": 22,
      "outputs": [
        {
          "output_type": "display_data",
          "data": {
            "image/png": "[encoded data removed]",
            "text/plain": [
              "<Figure size 576x288 with 1 Axes>"
            ]
          },
          "metadata": {
            "needs_background": "light"
          }
        }
      ]
    },
    {
      "cell_type": "markdown",
      "metadata": {
        "id": "0NqRCOCCSDk1"
      },
      "source": [
        "Yes, they are! "
      ]
    },
    {
      "cell_type": "markdown",
      "metadata": {
        "id": "eKJkq0bNE2jw"
      },
      "source": [
        "### Baseline"
      ]
    },
    {
      "cell_type": "markdown",
      "metadata": {
        "id": "M_V81I6tE2jw"
      },
      "source": [
        "Using the default values of hyperparametrs of [XGboost](https://xgboost.readthedocs.io/en/latest/parameter.html#) classifier we will train the model and check the accuracy on the test."
      ]
    },
    {
      "cell_type": "code",
      "metadata": {
        "id": "A4rSVFJ-E2jx"
      },
      "source": [
        "# init the model\n",
        "\n",
        "clf_base = xgb.XGBClassifier(random_state=42, n_jobs=-1) #  n_jobs is an integer, specifying the maximum number of concurrently running workers\n",
        "                                                         #  n_jobs=-1 means all possible workers are going to be used"
      ],
      "execution_count": 76,
      "outputs": []
    },
    {
      "cell_type": "code",
      "metadata": {
        "id": "b5DIee9KE2jy",
        "colab": {
          "base_uri": "https://localhost:8080/"
        },
        "outputId": "a126f141-a967-431d-c0b9-760a0e729d75"
      },
      "source": [
        "# fit the model on the train subset\n",
        "%%time\n",
        "clf_base.fit(X_train, y_train)"
      ],
      "execution_count": 77,
      "outputs": [
        {
          "output_type": "stream",
          "name": "stdout",
          "text": [
            "CPU times: user 16.8 s, sys: 39.9 ms, total: 16.9 s\n",
            "Wall time: 16.8 s\n"
          ]
        },
        {
          "output_type": "execute_result",
          "data": {
            "text/plain": [
              "XGBClassifier(base_score=0.5, booster='gbtree', colsample_bylevel=1,\n",
              "              colsample_bynode=1, colsample_bytree=1, gamma=0,\n",
              "              learning_rate=0.1, max_delta_step=0, max_depth=3,\n",
              "              min_child_weight=1, missing=None, n_estimators=100, n_jobs=-1,\n",
              "              nthread=None, objective='binary:logistic', random_state=42,\n",
              "              reg_alpha=0, reg_lambda=1, scale_pos_weight=1, seed=None,\n",
              "              silent=None, subsample=1, verbosity=1)"
            ]
          },
          "metadata": {},
          "execution_count": 77
        }
      ]
    },
    {
      "cell_type": "code",
      "metadata": {
        "colab": {
          "base_uri": "https://localhost:8080/"
        },
        "id": "_a0vfvVk6ehA",
        "outputId": "59af8807-af39-440e-caa2-b1e2144d0202"
      },
      "source": [
        "# make predictions on the test subset\n",
        "\n",
        "pred_base = clf_base.predict(X_test)\n",
        "\n",
        "print('Accuracy on the test is ', round(accuracy_score(pred_base, y_test),4))"
      ],
      "execution_count": 78,
      "outputs": [
        {
          "output_type": "stream",
          "name": "stdout",
          "text": [
            "Accuracy on the test is  0.7117\n"
          ]
        }
      ]
    },
    {
      "cell_type": "markdown",
      "metadata": {
        "id": "9hkYZ5DBb1FA"
      },
      "source": [
        "So, you may see that default values of hyperparameters gave us 71% of correctnes in our binary classes problem. Is it possible to increase the accuracy on the test?"
      ]
    },
    {
      "cell_type": "markdown",
      "metadata": {
        "id": "ZFxWQUqIE2j0"
      },
      "source": [
        "**Task:** by tuning hyperparameters of the model, obtain the accuracy on the test greater or equal to 0.73. Do not forget to set random_state=42. What are the values of the hyperparameters for the best model?\n",
        "\n",
        "- learning rate\n",
        "- gamma\n",
        "- maximum depth\n",
        "- number of estimators"
      ]
    },
    {
      "cell_type": "markdown",
      "metadata": {
        "id": "Tsj9axmp7ghK"
      },
      "source": [
        "### Parameters to tune\n",
        "- **learning_rate** [default=0.3]\n",
        "\n",
        "  Parameter of the learning rate. Step size shrinkage used in update to prevents overfitting. After each boosting step, we can directly get the weights of new features, and eta shrinks the feature weights to make the boosting process more conservative. The range is [0,1].\n",
        "\n",
        "- **gamma** [default=0]\n",
        "\n",
        "  Parameter of the min split loss. Minimum loss reduction required to make a further partition on a leaf node of the tree. The larger gamma is, the more conservative the algorithm will be. The range is [0,∞].\n",
        "\n",
        "- **max_depth** [default=6]\n",
        "\n",
        "  Maximum depth of a tree. Increasing this value will make the model more complex and more likely to overfit. 0 is only accepted in lossguide growing policy when tree_method is set as hist or gpu_hist and it indicates no limit on depth. Beware that XGBoost aggressively consumes memory when training a deep tree.\n",
        " The range is [0,∞] \n",
        "\n",
        "- **n_estimators** [default=100]\n",
        "\n",
        "  Number of gradient boosted trees. Equivalent to number of boosting rounds. "
      ]
    },
    {
      "cell_type": "markdown",
      "metadata": {
        "id": "OIWx9d-oZ_Za"
      },
      "source": [
        "## Solution"
      ]
    },
    {
      "cell_type": "code",
      "metadata": {
        "id": "_1hMqziWbrIL"
      },
      "source": [
        "# your code"
      ],
      "execution_count": null,
      "outputs": []
    }
  ]
}