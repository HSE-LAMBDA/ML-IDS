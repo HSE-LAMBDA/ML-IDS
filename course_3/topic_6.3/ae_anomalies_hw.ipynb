{
 "cells": [
  {
   "cell_type": "markdown",
   "metadata": {
    "id": "MNWFyZFA0WKQ"
   },
   "source": [
    "Hi! In this notebook we will train the autoencoder to encode and decode digit 1. Then we input digit 8, which will be \"anomalous\" among digits 1 and compare the resulting images. We need the anomaly rate for 8 to be significantly higher than for 1."
   ]
  },
  {
   "cell_type": "code",
   "execution_count": null,
   "metadata": {
    "colab": {
     "base_uri": "https://localhost:8080/"
    },
    "id": "sVpcjBFarWDs",
    "outputId": "53c697c2-02d9-4325-ea32-00db8464be1e"
   },
   "outputs": [],
   "source": [
    "! pip install pytorch-lightning"
   ]
  },
  {
   "cell_type": "code",
   "execution_count": null,
   "metadata": {
    "id": "BsDFD6eJpuwk"
   },
   "outputs": [],
   "source": [
    "import os\n",
    "import numpy as np\n",
    "import torch\n",
    "from torch import nn\n",
    "from torch.autograd import Variable\n",
    "from torch.utils.data import DataLoader,Dataset\n",
    "from torchvision import transforms\n",
    "from torchvision.datasets import MNIST\n",
    "import pylab\n",
    "import matplotlib.pyplot as plt\n",
    "import pytorch_lightning as pl\n",
    "import torch.optim as optim"
   ]
  },
  {
   "cell_type": "markdown",
   "metadata": {
    "id": "4cY0DcH31IY0"
   },
   "source": [
    "# Set params"
   ]
  },
  {
   "cell_type": "code",
   "execution_count": null,
   "metadata": {
    "id": "q91yUi8vvB7b"
   },
   "outputs": [],
   "source": [
    "BATCH_SIZE = 16\n",
    "Z_DIM = 64 # autoencoder code size\n",
    "CUDA = True"
   ]
  },
  {
   "cell_type": "markdown",
   "metadata": {
    "id": "a-ZVsf5vrc-B"
   },
   "source": [
    "# Datasets"
   ]
  },
  {
   "cell_type": "code",
   "execution_count": null,
   "metadata": {
    "id": "IUAB2T6NpxYh"
   },
   "outputs": [],
   "source": [
    "class MNIST_anom_dataset(Dataset):\n",
    "    def __init__(self, datasets, labels:list):\n",
    "        self.dataset = [datasets[i][0] for i in range(len(datasets))\n",
    "                        if datasets[i][1] in labels ]\n",
    "        self.labels = labels\n",
    "        self.len_oneclass = int(len(self.dataset)/10)\n",
    "\n",
    "    def __len__(self):\n",
    "        return int(len(self.dataset))\n",
    "\n",
    "    def __getitem__(self, index):\n",
    "        img = self.dataset[index]\n",
    "        return img,[]"
   ]
  },
  {
   "cell_type": "code",
   "execution_count": null,
   "metadata": {
    "id": "Y8rtZo4Apx-S"
   },
   "outputs": [],
   "source": [
    "transform = transforms.Compose([\n",
    "    transforms.ToTensor(),\n",
    "    transforms.Normalize((0.5, ), (0.5, )) \n",
    "])\n",
    "\n",
    "train_dataset = MNIST('./data', download=True,train=True, transform=transform)\n",
    "train_1 = MNIST_anom_dataset(train_dataset,[1])\n",
    "train_loader = DataLoader(train_1, batch_size=BATCH_SIZE, shuffle=True)\n",
    "\n",
    "test_dataset = MNIST('./data', train=False,download=True, transform=transform)\n",
    "test_8 = MNIST_anom_dataset(test_dataset,[8])\n",
    "test_loader = DataLoader(test_8, batch_size=len(test_dataset), shuffle=True)"
   ]
  },
  {
   "cell_type": "markdown",
   "metadata": {
    "id": "CWfovTly1NS7"
   },
   "source": [
    "# Autoencoder model (Task: 2/3 points)"
   ]
  },
  {
   "cell_type": "code",
   "execution_count": null,
   "metadata": {
    "id": "FLvpWumkpyJq"
   },
   "outputs": [],
   "source": [
    "class Autoencoder(nn.Module):\n",
    "    def __init__(self, z_dim):\n",
    "        super(Autoencoder, self).__init__()\n",
    "        # FOR STUDENTS: make your encoder. \n",
    "        # size: 28 * 28 -> z_dim\n",
    "        # note: in this task we do not need a strong complex encoder – linear layers are enough.\n",
    "        self.encoder = # your code\n",
    "\n",
    "        # FOR STUDENTS: make your decoder. z_dim -> 28 * 28\n",
    "        # size: z_dim -> 28 * 28\n",
    "        # note: use tanh activation at the end \n",
    "        # note: in this task we do not need a strong complex encoder – linear layers are enough.\n",
    "        self.decoder = # your code\n",
    "\n",
    "    def forward(self, x):\n",
    "        z = self.encoder(x) # encoding\n",
    "        xhat = self.decoder(z) # decoding\n",
    "        return xhat # image after autoencoder"
   ]
  },
  {
   "cell_type": "markdown",
   "metadata": {
    "id": "AAjENqs62Lan"
   },
   "source": [
    "# Trainer (Task: 1/3 points)"
   ]
  },
  {
   "cell_type": "code",
   "execution_count": null,
   "metadata": {
    "id": "S1VF6yVRrAG9"
   },
   "outputs": [],
   "source": [
    "class AutoencoderTrainer(pl.LightningModule):\n",
    "    def __init__(self, model):\n",
    "        super().__init__()\n",
    "        self.model = model\n",
    "        self.loss = nn.MSELoss()\n",
    "\n",
    "    def training_step(self, batch, batch_idx):\n",
    "        # FOR STUDENTS: make the training step\n",
    "        # loss: MSE between original image (x) \n",
    "        # and image after the autoencoder (x and xhat) \n",
    "        \n",
    "        # your code\n",
    "        loss =  # your code\n",
    "        self.log('train_loss', loss)\n",
    "        return loss\n",
    "    \n",
    "    def configure_optimizers(self):\n",
    "        optimizer = torch.optim.Adam(\n",
    "            model.parameters(),\n",
    "            lr=3.0e-4,\n",
    "            weight_decay=1e-5\n",
    "        )\n",
    "        return optimizer"
   ]
  },
  {
   "cell_type": "markdown",
   "metadata": {
    "id": "cauuqULr2dCX"
   },
   "source": [
    "# Train model"
   ]
  },
  {
   "cell_type": "code",
   "execution_count": null,
   "metadata": {
    "colab": {
     "base_uri": "https://localhost:8080/",
     "height": 321,
     "referenced_widgets": [
      "921aa999f660484c9e1b4583e7f8c2d3",
      "ccecd861120e4e6cbc4a273f46c41cd4",
      "ce463fde5ff84ac38a2372df5dd6121c",
      "f1c572e7fe534bf8811beb2a5a8e8f1b",
      "a0f9e776689c4eb8ace26b2049ba4a66",
      "722acd5ad7ed47cfa16e3fb65bc72d32",
      "f57e4b43a4a742fd8f36904bc16310cd",
      "39692108153242289c2f3dc30f521150",
      "003278dca52a465ebaf452e4b78d74ad",
      "e5b8c3d60f15479fb929ed7931998a48",
      "0c16e081f15d4bd2a6a48e9f82bfddf2"
     ]
    },
    "id": "Wxe38oqu2Xaz",
    "outputId": "bba7d71c-e86c-4516-e5ad-e5612a09e529"
   },
   "outputs": [],
   "source": [
    "model = Autoencoder(Z_DIM)\n",
    "\n",
    "trainer = pl.Trainer(\n",
    "    devices=1, \n",
    "    accelerator=\"gpu\" if CUDA else \"cpu\",\n",
    "    max_epochs=10,\n",
    ")\n",
    "trainer.fit(\n",
    "    AutoencoderTrainer(model),\n",
    "    train_loader,\n",
    ")"
   ]
  },
  {
   "cell_type": "markdown",
   "metadata": {
    "id": "_SmkAtMA3Yh2"
   },
   "source": [
    "# Result"
   ]
  },
  {
   "cell_type": "code",
   "execution_count": null,
   "metadata": {
    "id": "3jB3QDAnrzuf"
   },
   "outputs": [],
   "source": [
    "def anomaly_score(x, xhat):\n",
    "    abs_diff =  np.abs(x[i] - xhat[i])\n",
    "    return np.sum(abs_diff)"
   ]
  },
  {
   "cell_type": "code",
   "execution_count": null,
   "metadata": {
    "id": "aAIbyjFepYUV"
   },
   "outputs": [],
   "source": [
    "if CUDA:\n",
    "    model = model.to('cuda')\n",
    "\n",
    "# apply model on 1 digit images\n",
    "i = 0\n",
    "digit_1_results = []\n",
    "for img, _ in train_1:\n",
    "    x = img.view(img.size(0), -1)\n",
    "    if CUDA:\n",
    "        x = Variable(x).to('cuda')\n",
    "    else:\n",
    "        x = Variable(x)\n",
    "\n",
    "    xhat = model(x)\n",
    "    x = x.cpu().detach().numpy()\n",
    "    xhat = xhat.cpu().detach().numpy()\n",
    "    x = x/2 + 0.5\n",
    "    xhat = xhat/2 + 0.5\n",
    "\n",
    "    score = anomaly_score(x, xhat)\n",
    "    digit_1_results.append((x, xhat, score))\n",
    "\n",
    "\n",
    "# apply model on 8 digit images\n",
    "i = 0\n",
    "digit_8_results = []\n",
    "for img, _ in test_8:\n",
    "    x = img.view(img.size(0), -1)\n",
    "    if CUDA:\n",
    "        x = Variable(x).to('cuda')\n",
    "    else:\n",
    "        x = Variable(x)\n",
    "\n",
    "    xhat = model(x)\n",
    "    x = x.cpu().detach().numpy()\n",
    "    xhat = xhat.cpu().detach().numpy()\n",
    "    x = x/2 + 0.5\n",
    "    xhat = xhat/2 + 0.5\n",
    "\n",
    "    score = anomaly_score(x, xhat)\n",
    "    digit_8_results.append((x, xhat, score))\n"
   ]
  },
  {
   "cell_type": "code",
   "execution_count": null,
   "metadata": {
    "colab": {
     "base_uri": "https://localhost:8080/"
    },
    "id": "XnlsqFO59oW8",
    "outputId": "96e90304-b43c-4e92-9cfb-19c3f318c33c"
   },
   "outputs": [],
   "source": [
    "average_1_score = np.average([s[2] for s in digit_1_results])\n",
    "average_8_score = np.average([s[2] for s in digit_8_results])\n",
    "print(\"average 1 score:\", average_1_score)\n",
    "print(\"average 8 score:\", average_8_score)\n",
    "assert average_8_score > average_1_score * 5\n",
    "print(f\"great - the average score for digit 8 is {average_8_score/average_1_score:.3f} times higher than for 1!\")"
   ]
  },
  {
   "cell_type": "code",
   "execution_count": null,
   "metadata": {
    "colab": {
     "base_uri": "https://localhost:8080/",
     "height": 1000
    },
    "id": "kBhy4Hm38zVc",
    "outputId": "5e0967cc-b423-4a38-b9f8-9b4ca8e6d287"
   },
   "outputs": [],
   "source": [
    "n = 5\n",
    "\n",
    "for name, results in zip(\n",
    "    [\"digit 1\", \"digit 8\"],\n",
    "    [digit_1_results, digit_8_results]\n",
    "):\n",
    "\n",
    "    plt.figure(figsize=(12, 6))\n",
    "    for i in range(n):\n",
    "        x = results[i][0]\n",
    "        xhat = results[i][1]\n",
    "        score = results[i][2]\n",
    "\n",
    "        # plot x\n",
    "        ax = plt.subplot(3, n, i + 1)\n",
    "        plt.imshow(x.reshape(28, 28))\n",
    "        plt.gray()\n",
    "        if i == 0:\n",
    "            ax.set_ylabel('x')\n",
    "        else:\n",
    "            ax.get_xaxis().set_visible(False)\n",
    "            ax.get_yaxis().set_visible(False)\n",
    "\n",
    "        # plot xhat\n",
    "        ax = plt.subplot(3, n, i + 1 + n)\n",
    "        plt.imshow(xhat.reshape(28, 28))\n",
    "        plt.gray()\n",
    "        if i == 0:\n",
    "            ax.set_ylabel('xhat')\n",
    "        else:\n",
    "            ax.get_xaxis().set_visible(False)\n",
    "            ax.get_yaxis().set_visible(False)\n",
    "\n",
    "        # plot diff\n",
    "        ax = plt.subplot(3, n, i + 1 + n * 2)\n",
    "        diff_img = np.abs(x - xhat)\n",
    "        plt.imshow(diff_img.reshape(28, 28),cmap=\"jet\")\n",
    "        if i == 0:\n",
    "            ax.set_ylabel('diff')\n",
    "        else:\n",
    "            ax.get_xaxis().set_visible(False)\n",
    "            ax.get_yaxis().set_visible(False)\n",
    "\n",
    "        # plot score\n",
    "        ax.get_xaxis().set_visible(True)\n",
    "        ax.get_yaxis().set_visible(True)\n",
    "        ax.set_xlabel(f'score: {score:.3f}')\n",
    "\n",
    "    plt.suptitle(name)\n",
    "    plt.show()\n",
    "    plt.close()"
   ]
  }
 ],
 "metadata": {
  "accelerator": "GPU",
  "colab": {
   "provenance": []
  },
  "gpuClass": "standard",
  "kernelspec": {
   "display_name": "Python 3 (ipykernel)",
   "language": "python",
   "name": "python3"
  },
  "language_info": {
   "codemirror_mode": {
    "name": "ipython",
    "version": 3
   },
   "file_extension": ".py",
   "mimetype": "text/x-python",
   "name": "python",
   "nbconvert_exporter": "python",
   "pygments_lexer": "ipython3",
   "version": "3.9.7"
  },
  "widgets": {
   "application/vnd.jupyter.widget-state+json": {
    "003278dca52a465ebaf452e4b78d74ad": {
     "model_module": "@jupyter-widgets/controls",
     "model_module_version": "1.5.0",
     "model_name": "ProgressStyleModel",
     "state": {
      "_model_module": "@jupyter-widgets/controls",
      "_model_module_version": "1.5.0",
      "_model_name": "ProgressStyleModel",
      "_view_count": null,
      "_view_module": "@jupyter-widgets/base",
      "_view_module_version": "1.2.0",
      "_view_name": "StyleView",
      "bar_color": null,
      "description_width": ""
     }
    },
    "0c16e081f15d4bd2a6a48e9f82bfddf2": {
     "model_module": "@jupyter-widgets/controls",
     "model_module_version": "1.5.0",
     "model_name": "DescriptionStyleModel",
     "state": {
      "_model_module": "@jupyter-widgets/controls",
      "_model_module_version": "1.5.0",
      "_model_name": "DescriptionStyleModel",
      "_view_count": null,
      "_view_module": "@jupyter-widgets/base",
      "_view_module_version": "1.2.0",
      "_view_name": "StyleView",
      "description_width": ""
     }
    },
    "39692108153242289c2f3dc30f521150": {
     "model_module": "@jupyter-widgets/base",
     "model_module_version": "1.2.0",
     "model_name": "LayoutModel",
     "state": {
      "_model_module": "@jupyter-widgets/base",
      "_model_module_version": "1.2.0",
      "_model_name": "LayoutModel",
      "_view_count": null,
      "_view_module": "@jupyter-widgets/base",
      "_view_module_version": "1.2.0",
      "_view_name": "LayoutView",
      "align_content": null,
      "align_items": null,
      "align_self": null,
      "border": null,
      "bottom": null,
      "display": null,
      "flex": "2",
      "flex_flow": null,
      "grid_area": null,
      "grid_auto_columns": null,
      "grid_auto_flow": null,
      "grid_auto_rows": null,
      "grid_column": null,
      "grid_gap": null,
      "grid_row": null,
      "grid_template_areas": null,
      "grid_template_columns": null,
      "grid_template_rows": null,
      "height": null,
      "justify_content": null,
      "justify_items": null,
      "left": null,
      "margin": null,
      "max_height": null,
      "max_width": null,
      "min_height": null,
      "min_width": null,
      "object_fit": null,
      "object_position": null,
      "order": null,
      "overflow": null,
      "overflow_x": null,
      "overflow_y": null,
      "padding": null,
      "right": null,
      "top": null,
      "visibility": null,
      "width": null
     }
    },
    "722acd5ad7ed47cfa16e3fb65bc72d32": {
     "model_module": "@jupyter-widgets/base",
     "model_module_version": "1.2.0",
     "model_name": "LayoutModel",
     "state": {
      "_model_module": "@jupyter-widgets/base",
      "_model_module_version": "1.2.0",
      "_model_name": "LayoutModel",
      "_view_count": null,
      "_view_module": "@jupyter-widgets/base",
      "_view_module_version": "1.2.0",
      "_view_name": "LayoutView",
      "align_content": null,
      "align_items": null,
      "align_self": null,
      "border": null,
      "bottom": null,
      "display": null,
      "flex": null,
      "flex_flow": null,
      "grid_area": null,
      "grid_auto_columns": null,
      "grid_auto_flow": null,
      "grid_auto_rows": null,
      "grid_column": null,
      "grid_gap": null,
      "grid_row": null,
      "grid_template_areas": null,
      "grid_template_columns": null,
      "grid_template_rows": null,
      "height": null,
      "justify_content": null,
      "justify_items": null,
      "left": null,
      "margin": null,
      "max_height": null,
      "max_width": null,
      "min_height": null,
      "min_width": null,
      "object_fit": null,
      "object_position": null,
      "order": null,
      "overflow": null,
      "overflow_x": null,
      "overflow_y": null,
      "padding": null,
      "right": null,
      "top": null,
      "visibility": null,
      "width": null
     }
    },
    "921aa999f660484c9e1b4583e7f8c2d3": {
     "model_module": "@jupyter-widgets/controls",
     "model_module_version": "1.5.0",
     "model_name": "HBoxModel",
     "state": {
      "_dom_classes": [],
      "_model_module": "@jupyter-widgets/controls",
      "_model_module_version": "1.5.0",
      "_model_name": "HBoxModel",
      "_view_count": null,
      "_view_module": "@jupyter-widgets/controls",
      "_view_module_version": "1.5.0",
      "_view_name": "HBoxView",
      "box_style": "",
      "children": [
       "IPY_MODEL_ccecd861120e4e6cbc4a273f46c41cd4",
       "IPY_MODEL_ce463fde5ff84ac38a2372df5dd6121c",
       "IPY_MODEL_f1c572e7fe534bf8811beb2a5a8e8f1b"
      ],
      "layout": "IPY_MODEL_a0f9e776689c4eb8ace26b2049ba4a66"
     }
    },
    "a0f9e776689c4eb8ace26b2049ba4a66": {
     "model_module": "@jupyter-widgets/base",
     "model_module_version": "1.2.0",
     "model_name": "LayoutModel",
     "state": {
      "_model_module": "@jupyter-widgets/base",
      "_model_module_version": "1.2.0",
      "_model_name": "LayoutModel",
      "_view_count": null,
      "_view_module": "@jupyter-widgets/base",
      "_view_module_version": "1.2.0",
      "_view_name": "LayoutView",
      "align_content": null,
      "align_items": null,
      "align_self": null,
      "border": null,
      "bottom": null,
      "display": "inline-flex",
      "flex": null,
      "flex_flow": "row wrap",
      "grid_area": null,
      "grid_auto_columns": null,
      "grid_auto_flow": null,
      "grid_auto_rows": null,
      "grid_column": null,
      "grid_gap": null,
      "grid_row": null,
      "grid_template_areas": null,
      "grid_template_columns": null,
      "grid_template_rows": null,
      "height": null,
      "justify_content": null,
      "justify_items": null,
      "left": null,
      "margin": null,
      "max_height": null,
      "max_width": null,
      "min_height": null,
      "min_width": null,
      "object_fit": null,
      "object_position": null,
      "order": null,
      "overflow": null,
      "overflow_x": null,
      "overflow_y": null,
      "padding": null,
      "right": null,
      "top": null,
      "visibility": null,
      "width": "100%"
     }
    },
    "ccecd861120e4e6cbc4a273f46c41cd4": {
     "model_module": "@jupyter-widgets/controls",
     "model_module_version": "1.5.0",
     "model_name": "HTMLModel",
     "state": {
      "_dom_classes": [],
      "_model_module": "@jupyter-widgets/controls",
      "_model_module_version": "1.5.0",
      "_model_name": "HTMLModel",
      "_view_count": null,
      "_view_module": "@jupyter-widgets/controls",
      "_view_module_version": "1.5.0",
      "_view_name": "HTMLView",
      "description": "",
      "description_tooltip": null,
      "layout": "IPY_MODEL_722acd5ad7ed47cfa16e3fb65bc72d32",
      "placeholder": "​",
      "style": "IPY_MODEL_f57e4b43a4a742fd8f36904bc16310cd",
      "value": "Epoch 9: 100%"
     }
    },
    "ce463fde5ff84ac38a2372df5dd6121c": {
     "model_module": "@jupyter-widgets/controls",
     "model_module_version": "1.5.0",
     "model_name": "FloatProgressModel",
     "state": {
      "_dom_classes": [],
      "_model_module": "@jupyter-widgets/controls",
      "_model_module_version": "1.5.0",
      "_model_name": "FloatProgressModel",
      "_view_count": null,
      "_view_module": "@jupyter-widgets/controls",
      "_view_module_version": "1.5.0",
      "_view_name": "ProgressView",
      "bar_style": "success",
      "description": "",
      "description_tooltip": null,
      "layout": "IPY_MODEL_39692108153242289c2f3dc30f521150",
      "max": 422,
      "min": 0,
      "orientation": "horizontal",
      "style": "IPY_MODEL_003278dca52a465ebaf452e4b78d74ad",
      "value": 422
     }
    },
    "e5b8c3d60f15479fb929ed7931998a48": {
     "model_module": "@jupyter-widgets/base",
     "model_module_version": "1.2.0",
     "model_name": "LayoutModel",
     "state": {
      "_model_module": "@jupyter-widgets/base",
      "_model_module_version": "1.2.0",
      "_model_name": "LayoutModel",
      "_view_count": null,
      "_view_module": "@jupyter-widgets/base",
      "_view_module_version": "1.2.0",
      "_view_name": "LayoutView",
      "align_content": null,
      "align_items": null,
      "align_self": null,
      "border": null,
      "bottom": null,
      "display": null,
      "flex": null,
      "flex_flow": null,
      "grid_area": null,
      "grid_auto_columns": null,
      "grid_auto_flow": null,
      "grid_auto_rows": null,
      "grid_column": null,
      "grid_gap": null,
      "grid_row": null,
      "grid_template_areas": null,
      "grid_template_columns": null,
      "grid_template_rows": null,
      "height": null,
      "justify_content": null,
      "justify_items": null,
      "left": null,
      "margin": null,
      "max_height": null,
      "max_width": null,
      "min_height": null,
      "min_width": null,
      "object_fit": null,
      "object_position": null,
      "order": null,
      "overflow": null,
      "overflow_x": null,
      "overflow_y": null,
      "padding": null,
      "right": null,
      "top": null,
      "visibility": null,
      "width": null
     }
    },
    "f1c572e7fe534bf8811beb2a5a8e8f1b": {
     "model_module": "@jupyter-widgets/controls",
     "model_module_version": "1.5.0",
     "model_name": "HTMLModel",
     "state": {
      "_dom_classes": [],
      "_model_module": "@jupyter-widgets/controls",
      "_model_module_version": "1.5.0",
      "_model_name": "HTMLModel",
      "_view_count": null,
      "_view_module": "@jupyter-widgets/controls",
      "_view_module_version": "1.5.0",
      "_view_name": "HTMLView",
      "description": "",
      "description_tooltip": null,
      "layout": "IPY_MODEL_e5b8c3d60f15479fb929ed7931998a48",
      "placeholder": "​",
      "style": "IPY_MODEL_0c16e081f15d4bd2a6a48e9f82bfddf2",
      "value": " 422/422 [00:01&lt;00:00, 231.21it/s, v_num=13]"
     }
    },
    "f57e4b43a4a742fd8f36904bc16310cd": {
     "model_module": "@jupyter-widgets/controls",
     "model_module_version": "1.5.0",
     "model_name": "DescriptionStyleModel",
     "state": {
      "_model_module": "@jupyter-widgets/controls",
      "_model_module_version": "1.5.0",
      "_model_name": "DescriptionStyleModel",
      "_view_count": null,
      "_view_module": "@jupyter-widgets/base",
      "_view_module_version": "1.2.0",
      "_view_name": "StyleView",
      "description_width": ""
     }
    }
   }
  }
 },
 "nbformat": 4,
 "nbformat_minor": 1
}
