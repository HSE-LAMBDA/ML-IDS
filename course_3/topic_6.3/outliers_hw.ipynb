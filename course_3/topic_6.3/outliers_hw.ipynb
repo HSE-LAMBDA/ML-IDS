{
 "cells": [
  {
   "cell_type": "markdown",
   "id": "b5a58a54",
   "metadata": {},
   "source": [
    "Hi! In this notebook, we will apply algorithms to remove outliers from the data to train a more efficient model."
   ]
  },
  {
   "cell_type": "code",
   "execution_count": null,
   "id": "26dccd77",
   "metadata": {},
   "outputs": [],
   "source": [
    "import numpy as np\n",
    "import matplotlib.pyplot as plt\n",
    "np.random.seed(3)\n",
    "\n",
    "%matplotlib inline\n",
    "import numpy as np\n",
    "import matplotlib as mpl\n",
    "import matplotlib.pyplot as plt\n",
    "import scipy as sp\n",
    "import pandas as pd\n",
    "import seaborn as sns\n",
    "sns.set_style('darkgrid')\n",
    "plotBlue = sns.color_palette()[0]\n",
    "mpl.rcParams.update({'font.size': 14})\n",
    "np.random.seed(3)"
   ]
  },
  {
   "cell_type": "code",
   "execution_count": null,
   "id": "d2ad1daa",
   "metadata": {},
   "outputs": [],
   "source": [
    "from sklearn.linear_model import LinearRegression\n",
    "from sklearn.metrics import mean_squared_error\n",
    "from scipy.stats import iqr"
   ]
  },
  {
   "cell_type": "markdown",
   "id": "f414e242",
   "metadata": {},
   "source": [
    "# Generate data\n",
    "\n",
    "let's generate data with some outliers"
   ]
  },
  {
   "cell_type": "code",
   "execution_count": null,
   "id": "bb252b2e",
   "metadata": {},
   "outputs": [],
   "source": [
    "size = 50\n",
    "sigma = 5\n",
    "space = np.linspace(1, 100, size)\n",
    "x = space + np.random.normal(0, sigma, size)\n",
    "y = (space + np.random.normal(0, sigma, size)) ** 2 + 10\n",
    "\n",
    "# anomaly indecies\n",
    "rnd_idxs = np.random.choice(np.arange(size), size // 15, replace=False)\n",
    "y[rnd_idxs] -= np.random.normal(10000, sigma * 10, len(rnd_idxs))\n",
    "\n",
    "# add extra outliers\n",
    "x[-1] = 120\n",
    "y[-1] = -10000\n",
    "if size - 1 not in rnd_idxs:\n",
    "    rnd_idxs = list(rnd_idxs)\n",
    "    rnd_idxs.append(size - 1)\n",
    "    rnd_idxs = np.array(rnd_idxs)\n",
    "    \n",
    "x[-2] = 200\n",
    "y[-2] = 0\n",
    "if size - 2 not in rnd_idxs:\n",
    "    rnd_idxs = list(rnd_idxs)\n",
    "    rnd_idxs.append(size - 2)\n",
    "    rnd_idxs = np.array(rnd_idxs)\n",
    "    \n",
    "rnd_idxs.sort()\n",
    "\n",
    "plt.figure(figsize=(10,6))\n",
    "plt.scatter(x,y)\n",
    "plt.title('generated data')\n",
    "plt.show()"
   ]
  },
  {
   "cell_type": "code",
   "execution_count": null,
   "id": "9ab77eb2",
   "metadata": {},
   "outputs": [],
   "source": [
    "f, axes = plt.subplots(nrows=2, figsize=(10,6))\n",
    "axes[0].hist(x, bins=50)\n",
    "axes[0].set_title('x hist')\n",
    "axes[1].hist(y, bins=50)\n",
    "axes[1].set_title('y hist')\n",
    "plt.show()"
   ]
  },
  {
   "cell_type": "markdown",
   "id": "27c063ca",
   "metadata": {},
   "source": [
    "We can see our outliers in the histograms. We will remove these outliers."
   ]
  },
  {
   "cell_type": "markdown",
   "id": "faa30937",
   "metadata": {},
   "source": [
    "# LR"
   ]
  },
  {
   "cell_type": "code",
   "execution_count": null,
   "id": "21887219",
   "metadata": {},
   "outputs": [],
   "source": [
    "lr = LinearRegression()\n",
    "lr.fit(x.reshape(-1, 1), y)\n",
    "lr_mean_error = mean_squared_error(lr.predict(x.reshape(-1, 1)), y)"
   ]
  },
  {
   "cell_type": "code",
   "execution_count": null,
   "id": "cab7b58b",
   "metadata": {},
   "outputs": [],
   "source": [
    "plot_space = np.linspace(1, 200, size)\n",
    "plt.figure(figsize=(10,6))\n",
    "plt.scatter(x, y, label='data')\n",
    "plt.plot(plot_space, lr.predict(plot_space.reshape(-1, 1)), color='red', label='LR')\n",
    "plt.legend()\n",
    "plt.title('regression')\n",
    "plt.show()"
   ]
  },
  {
   "cell_type": "markdown",
   "id": "831831d8",
   "metadata": {},
   "source": [
    "We see a very strong slope of the straight line obtained with regression - the outliers do not allow us to get a model with a good generalization."
   ]
  },
  {
   "cell_type": "markdown",
   "id": "5300479e",
   "metadata": {},
   "source": [
    "# Task (1/2 points): detect outliers using three-sigma rule"
   ]
  },
  {
   "cell_type": "code",
   "execution_count": null,
   "id": "7df516a0",
   "metadata": {},
   "outputs": [],
   "source": [
    "# find anomaly indices using the three-sigma rule (separately for x and separately for y)\n",
    "\n",
    "y_std = # your code\n",
    "y_mean = # your code\n",
    "x_std = # your code\n",
    "x_mean = # your code\n",
    "\n",
    "x_outlier_idxs = # your code\n",
    "y_outlier_idxs = # your code"
   ]
  },
  {
   "cell_type": "code",
   "execution_count": null,
   "id": "bff1122a",
   "metadata": {},
   "outputs": [],
   "source": [
    "outlier_idxs = sorted(list(set(list(y_outlier_idxs) + list(x_outlier_idxs))))\n",
    "print('true outlier idxs:       ', list(rnd_idxs))\n",
    "print('x outlier idxs:          ', list(x_outlier_idxs))\n",
    "print('y outlier idxs:          ', list(y_outlier_idxs))\n",
    "print('all founded outlier idxs:', list(outlier_idxs))"
   ]
  },
  {
   "cell_type": "code",
   "execution_count": null,
   "id": "bd3c88de",
   "metadata": {},
   "outputs": [],
   "source": [
    "outlier_idxs = sorted(list(set(list(y_outlier_idxs) + list(x_outlier_idxs))))\n",
    "assert outlier_idxs == rnd_idxs.tolist()"
   ]
  },
  {
   "cell_type": "markdown",
   "id": "e3dcd372",
   "metadata": {},
   "source": [
    "# Task (1/2 points): detect outliers using IQR"
   ]
  },
  {
   "cell_type": "code",
   "execution_count": null,
   "id": "ec4eacb1",
   "metadata": {},
   "outputs": [],
   "source": [
    "# find anomaly indices using the IQR (separately for x and separately for y)\n",
    "# please do not use anything other than numpy from the external libraries\n",
    "\n",
    "x_iqr = # your code\n",
    "x_q1 = # your code\n",
    "x_q3 = # your code\n",
    "\n",
    "y_iqr = # your code\n",
    "y_q1 = # your code\n",
    "y_q3 = # your code\n",
    "\n",
    "assert iqr(x) == x_iqr \n",
    "assert iqr(y) == y_iqr \n",
    "\n",
    "x_outlier_idxs = # your code\n",
    "y_outlier_idxs = # your code"
   ]
  },
  {
   "cell_type": "code",
   "execution_count": null,
   "id": "ee1c847a",
   "metadata": {},
   "outputs": [],
   "source": [
    "outlier_idxs = sorted(list(set(list(y_outlier_idxs) + list(x_outlier_idxs))))\n",
    "print('true outlier idxs:       ', list(rnd_idxs))\n",
    "print('x outlier idxs:          ', list(x_outlier_idxs))\n",
    "print('y outlier idxs:          ', list(y_outlier_idxs))\n",
    "print('all founded outlier idxs:', list(outlier_idxs))"
   ]
  },
  {
   "cell_type": "code",
   "execution_count": null,
   "id": "211db20a",
   "metadata": {},
   "outputs": [],
   "source": [
    "outlier_idxs = sorted(list(set(list(y_outlier_idxs) + list(x_outlier_idxs))))\n",
    "assert outlier_idxs == rnd_idxs.tolist()"
   ]
  },
  {
   "cell_type": "markdown",
   "id": "35434d4a",
   "metadata": {},
   "source": [
    "# LR without outliers"
   ]
  },
  {
   "cell_type": "code",
   "execution_count": null,
   "id": "787a5d3a",
   "metadata": {},
   "outputs": [],
   "source": [
    "mask = np.ones(y.size, dtype=bool)\n",
    "mask[outlier_idxs] = False\n",
    "y_cleaned = y[mask]"
   ]
  },
  {
   "cell_type": "code",
   "execution_count": null,
   "id": "9e134715",
   "metadata": {},
   "outputs": [],
   "source": [
    "lr_cleaned = LinearRegression()\n",
    "lr_cleaned.fit(x.reshape(-1, 1)[mask], y[mask])\n",
    "lr_clean_mean_error = mean_squared_error(lr_cleaned.predict(x.reshape(-1, 1)[mask]), y[mask])"
   ]
  },
  {
   "cell_type": "code",
   "execution_count": null,
   "id": "176c3c2c",
   "metadata": {},
   "outputs": [],
   "source": [
    "plt.figure(figsize=(10,6))\n",
    "plt.scatter(x, y, label='data')\n",
    "plt.plot(plot_space, lr.predict(space.reshape(-1, 1)), color='red', label='LR')\n",
    "plt.plot(plot_space, lr_cleaned.predict(plot_space.reshape(-1, 1)), color='green', label='LR cleaned')\n",
    "plt.legend()\n",
    "plt.title('regression')\n",
    "plt.show()"
   ]
  },
  {
   "cell_type": "markdown",
   "id": "680d7c9a",
   "metadata": {},
   "source": [
    "By detecting and removing the outliers, we have an excellent regression model that is able to generalize the data. Congrats! 🎉"
   ]
  }
 ],
 "metadata": {
  "kernelspec": {
   "display_name": "Python 3 (ipykernel)",
   "language": "python",
   "name": "python3"
  },
  "language_info": {
   "codemirror_mode": {
    "name": "ipython",
    "version": 3
   },
   "file_extension": ".py",
   "mimetype": "text/x-python",
   "name": "python",
   "nbconvert_exporter": "python",
   "pygments_lexer": "ipython3",
   "version": "3.9.7"
  }
 },
 "nbformat": 4,
 "nbformat_minor": 5
}
