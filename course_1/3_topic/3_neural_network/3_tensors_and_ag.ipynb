{
  "nbformat": 4,
  "nbformat_minor": 0,
  "metadata": {
    "accelerator": "GPU",
    "colab": {
      "name": "Tensors and AG",
      "provenance": [],
      "collapsed_sections": [
        "0Z_dTVxKo3mF",
        "giIUtaJGo3mS"
      ]
    },
    "kernelspec": {
      "display_name": "Python 3",
      "language": "python",
      "name": "python3"
    },
    "language_info": {
      "codemirror_mode": {
        "name": "ipython",
        "version": 3
      },
      "file_extension": ".py",
      "mimetype": "text/x-python",
      "name": "python",
      "nbconvert_exporter": "python",
      "pygments_lexer": "ipython3",
      "version": "3.7.6"
    }
  },
  "cells": [
    {
      "cell_type": "markdown",
      "metadata": {
        "id": "hPwhujdjo3k5"
      },
      "source": [
        "# Hello, pytorch\n",
        "\n",
        "![img](https://pytorch.org/tutorials/_static/pytorch-logo-dark.svg)\n",
        "\n",
        "[PyTrorch](http://pytorch.org/) and [TensorFlow](https://www.tensorflow.org/) are two of the most commonly used deep learning frameworks. Both of these tools are notable for their ability to compute gradients automatically and do operations on GPU, which can be by orders of magnitude faster than running on CPU. Both libraries serve the same purpose, choosing between them is a matter of preference.\n",
        "\n",
        "In this school, we'll use PyTorch for our practical examples.\n",
        "\n",
        "We'll start from using the low-level core of PyTorch, and then try out some high-level features."
      ]
    },
    {
      "cell_type": "code",
      "metadata": {
        "id": "NNrNWnHdo3k_",
        "colab": {
          "base_uri": "https://localhost:8080/"
        },
        "outputId": "0fe1d870-8746-4894-d936-1e2019f67e3c"
      },
      "source": [
        "import numpy as np\n",
        "import torch\n",
        "import matplotlib.pyplot as plt\n",
        "\n",
        "print(torch.__version__)"
      ],
      "execution_count": 1,
      "outputs": [
        {
          "output_type": "stream",
          "text": [
            "1.8.1+cu101\n"
          ],
          "name": "stdout"
        }
      ]
    },
    {
      "cell_type": "markdown",
      "metadata": {
        "id": "XnX7zTQQg0Y3"
      },
      "source": [
        "##We have already know how to deal with numpy arrays:"
      ]
    },
    {
      "cell_type": "code",
      "metadata": {
        "id": "IxA0RQjgo3lD",
        "colab": {
          "base_uri": "https://localhost:8080/"
        },
        "outputId": "79ae51a7-1d38-4ee7-a3b7-ce958168d3ff"
      },
      "source": [
        "# numpy world\n",
        "\n",
        "x = np.arange(16).reshape(4, 4)\n",
        "\n",
        "print(f\"X :\\n{             x}\")                 # print an array\n",
        "print(f\"X.shape : {        x.shape}\")           # print a shape of the array\n",
        "print(f\"add 5 :\\n{         x + 5}\")             # add an array filled by 5 with same shape\n",
        "print(f\"X^T :\\n{           x.T}\")               # transpose an matrix\n",
        "print(f\"X*X^T :\\n{         x @ x.T}\")           # multiply to matrices\n",
        "print(f\"mean over rows :\\n{x.mean(axis=-1)}\")   # mean over rows\n",
        "print(f\"cumsum of cols :\\n{x.cumsum(axis=0)}\")  # mean over cols"
      ],
      "execution_count": 6,
      "outputs": [
        {
          "output_type": "stream",
          "text": [
            "X :\n",
            "[[ 0  1  2  3]\n",
            " [ 4  5  6  7]\n",
            " [ 8  9 10 11]\n",
            " [12 13 14 15]]\n",
            "X.shape : (4, 4)\n",
            "add 5 :\n",
            "[[ 5  6  7  8]\n",
            " [ 9 10 11 12]\n",
            " [13 14 15 16]\n",
            " [17 18 19 20]]\n",
            "X^T :\n",
            "[[ 0  4  8 12]\n",
            " [ 1  5  9 13]\n",
            " [ 2  6 10 14]\n",
            " [ 3  7 11 15]]\n",
            "X*X^T :\n",
            "[[ 14  38  62  86]\n",
            " [ 38 126 214 302]\n",
            " [ 62 214 366 518]\n",
            " [ 86 302 518 734]]\n",
            "mean over rows :\n",
            "[ 1.5  5.5  9.5 13.5]\n",
            "cumsum of cols :\n",
            "[[ 0  1  2  3]\n",
            " [ 4  6  8 10]\n",
            " [12 15 18 21]\n",
            " [24 28 32 36]]\n"
          ],
          "name": "stdout"
        }
      ]
    },
    {
      "cell_type": "markdown",
      "metadata": {
        "id": "I2N-lTp0iKfQ"
      },
      "source": [
        "##By the way, when we are training a neural network we deal with multy-dimensional arrays called tensors. Matrix is just  particular case of it. One may imagine tensors as a multy-dimensional matrices. "
      ]
    },
    {
      "cell_type": "code",
      "metadata": {
        "colab": {
          "base_uri": "https://localhost:8080/"
        },
        "id": "4cDrYgRSjSBi",
        "outputId": "a1e4f6ec-2701-4e1e-b31a-bdb00614e0bb"
      },
      "source": [
        "#Set to tensors (matrices) of size 3 by 2\n",
        "\n",
        "A = torch.tensor(np.random.rand(6).reshape(3,2), dtype=torch.float32)\n",
        "B = torch.tensor(np.random.rand(6).reshape(3,2), dtype=torch.float32)\n",
        "\n",
        "print('shape of A:', A.shape)\n",
        "print('shape of B:', B.shape)\n",
        "\n",
        "print('\\n A:', A)\n",
        "print('\\n B:', B)"
      ],
      "execution_count": 33,
      "outputs": [
        {
          "output_type": "stream",
          "text": [
            "shape of A: torch.Size([3, 2])\n",
            "shape of B: torch.Size([3, 2])\n",
            "\n",
            " A: tensor([[0.9249, 0.7348],\n",
            "        [0.6324, 0.8005],\n",
            "        [0.6210, 0.4968]])\n",
            "\n",
            " B: tensor([[0.7819, 0.2063],\n",
            "        [0.4935, 0.9659],\n",
            "        [0.2668, 0.0433]])\n"
          ],
          "name": "stdout"
        }
      ]
    },
    {
      "cell_type": "code",
      "metadata": {
        "colab": {
          "base_uri": "https://localhost:8080/"
        },
        "id": "R_W7LQjdjnNo",
        "outputId": "cadecd85-1599-439f-cf49-8572937ce701"
      },
      "source": [
        "# set a tensor C of zeros with shape of 3 by 2 by 2\n",
        "C = torch.zeros(size=(3,2,2))\n",
        "C.shape"
      ],
      "execution_count": 43,
      "outputs": [
        {
          "output_type": "execute_result",
          "data": {
            "text/plain": [
              "torch.Size([3, 2, 2])"
            ]
          },
          "metadata": {
            "tags": []
          },
          "execution_count": 43
        }
      ]
    },
    {
      "cell_type": "code",
      "metadata": {
        "colab": {
          "base_uri": "https://localhost:8080/"
        },
        "id": "X3XScfo4lAwS",
        "outputId": "99e8e8d6-885d-4f10-a90a-6342e48032e4"
      },
      "source": [
        "# set tensor C be an array of matrices A and B\n",
        "\n",
        "C[:,:,0] = A\n",
        "C[:,:,1] = B\n",
        "\n",
        "print('\\n A:',A)\n",
        "print('\\n B:',B)\n",
        "print('\\n C:', C)"
      ],
      "execution_count": 35,
      "outputs": [
        {
          "output_type": "stream",
          "text": [
            "\n",
            " A: tensor([[0.9249, 0.7348],\n",
            "        [0.6324, 0.8005],\n",
            "        [0.6210, 0.4968]])\n",
            "\n",
            " B: tensor([[0.7819, 0.2063],\n",
            "        [0.4935, 0.9659],\n",
            "        [0.2668, 0.0433]])\n",
            "\n",
            " C: tensor([[[0.9249, 0.7819],\n",
            "         [0.7348, 0.2063]],\n",
            "\n",
            "        [[0.6324, 0.4935],\n",
            "         [0.8005, 0.9659]],\n",
            "\n",
            "        [[0.6210, 0.2668],\n",
            "         [0.4968, 0.0433]]])\n"
          ],
          "name": "stdout"
        }
      ]
    },
    {
      "cell_type": "markdown",
      "metadata": {
        "id": "7GnooHs9nUIb"
      },
      "source": [
        "## Operations with tensors are almost the same as with numpy arrays:"
      ]
    },
    {
      "cell_type": "code",
      "metadata": {
        "id": "IHeXkB2uo3lG",
        "colab": {
          "base_uri": "https://localhost:8080/"
        },
        "outputId": "535375cb-e505-4421-f9cc-b9a523bd30e7"
      },
      "source": [
        "# pytorch world\n",
        "\n",
        "x = np.arange(16).reshape(4, 4)\n",
        "\n",
        "x = torch.tensor(x, dtype=torch.float32)  # or torch.arange(0,16).reshape(4,4).to(torch.float32)\n",
        "\n",
        "print(f\"X :\\n{             x}\")\n",
        "print(f\"X.shape : {        x.shape}\")\n",
        "print(f\"add 5 :\\n{         x + 5}\")\n",
        "print(f\"X*X^T :\\n{         x @ x.T}\")\n",
        "print(f\"mean over rows :\\n{x.mean(axis=-1)}\")\n",
        "print(f\"cumsum of cols :\\n{x.cumsum(axis=0)}\")"
      ],
      "execution_count": 37,
      "outputs": [
        {
          "output_type": "stream",
          "text": [
            "X :\n",
            "tensor([[ 0.,  1.,  2.,  3.],\n",
            "        [ 4.,  5.,  6.,  7.],\n",
            "        [ 8.,  9., 10., 11.],\n",
            "        [12., 13., 14., 15.]])\n",
            "X.shape : torch.Size([4, 4])\n",
            "add 5 :\n",
            "tensor([[ 5.,  6.,  7.,  8.],\n",
            "        [ 9., 10., 11., 12.],\n",
            "        [13., 14., 15., 16.],\n",
            "        [17., 18., 19., 20.]])\n",
            "X*X^T :\n",
            "tensor([[ 14.,  38.,  62.,  86.],\n",
            "        [ 38., 126., 214., 302.],\n",
            "        [ 62., 214., 366., 518.],\n",
            "        [ 86., 302., 518., 734.]])\n",
            "mean over rows :\n",
            "tensor([ 1.5000,  5.5000,  9.5000, 13.5000])\n",
            "cumsum of cols :\n",
            "tensor([[ 0.,  1.,  2.,  3.],\n",
            "        [ 4.,  6.,  8., 10.],\n",
            "        [12., 15., 18., 21.],\n",
            "        [24., 28., 32., 36.]])\n"
          ],
          "name": "stdout"
        }
      ]
    },
    {
      "cell_type": "markdown",
      "metadata": {
        "id": "BocUwPQno6rg"
      },
      "source": [
        "# TASK:\n",
        "# 1. Find A+B\n",
        "# 2. Find mean of C with respect to each axis"
      ]
    },
    {
      "cell_type": "markdown",
      "metadata": {
        "id": "2ilWmbfho3lJ"
      },
      "source": [
        "## NumPy and Pytorch\n",
        "\n",
        "As you can notice, pytorch allows you to hack stuff much the same way you did with numpy. The syntax is in some ways compatible with numpy (as in the example above), [to some extent](https://github.com/pytorch/pytorch/issues/38349).\n",
        "\n",
        "Though original naming conventions in PyTorch are a bit different, so if you look up documentation to various functions you may notice for example patameter name `dim` instead of `axis`.\n",
        "\n",
        "Also type conversions need be done explicitly. So operations that cannot be done on current type will raise an error rather than converting the tensor:"
      ]
    },
    {
      "cell_type": "code",
      "metadata": {
        "id": "ceofy-Ai8nlE",
        "colab": {
          "base_uri": "https://localhost:8080/"
        },
        "outputId": "f9d62101-ec36-4981-f87d-9354a5826808"
      },
      "source": [
        "x = torch.arange(5)\n",
        "x.to(float).mean() # instead try: `x.to(float).mean()`"
      ],
      "execution_count": 38,
      "outputs": [
        {
          "output_type": "execute_result",
          "data": {
            "text/plain": [
              "tensor(2., dtype=torch.float64)"
            ]
          },
          "metadata": {
            "tags": []
          },
          "execution_count": 38
        }
      ]
    },
    {
      "cell_type": "code",
      "metadata": {
        "id": "vBl7ltC1ey8N",
        "colab": {
          "base_uri": "https://localhost:8080/"
        },
        "outputId": "db6cb493-1e6c-4cfd-f49c-ad171ec44f3f"
      },
      "source": [
        "x = torch.tensor([1, 2])\n",
        "x = x.to(float)\n",
        "x /= 2 # instead try: `x /= 2`\n",
        "x"
      ],
      "execution_count": 39,
      "outputs": [
        {
          "output_type": "execute_result",
          "data": {
            "text/plain": [
              "tensor([0.5000, 1.0000], dtype=torch.float64)"
            ]
          },
          "metadata": {
            "tags": []
          },
          "execution_count": 39
        }
      ]
    },
    {
      "cell_type": "markdown",
      "metadata": {
        "id": "rRQWbIVN91cX"
      },
      "source": [
        "Converting tensors back to numpy:"
      ]
    },
    {
      "cell_type": "code",
      "metadata": {
        "id": "l5OX0YoB9zEz",
        "colab": {
          "base_uri": "https://localhost:8080/"
        },
        "outputId": "43db4d96-7e57-4ba1-a96b-177691c1298a"
      },
      "source": [
        "x = torch.ones(size=(3, 5))\n",
        "x.numpy()"
      ],
      "execution_count": null,
      "outputs": [
        {
          "output_type": "execute_result",
          "data": {
            "text/plain": [
              "array([[1., 1., 1., 1., 1.],\n",
              "       [1., 1., 1., 1., 1.],\n",
              "       [1., 1., 1., 1., 1.]], dtype=float32)"
            ]
          },
          "metadata": {
            "tags": []
          },
          "execution_count": 12
        }
      ]
    },
    {
      "cell_type": "markdown",
      "metadata": {
        "id": "ZsoiU8soo3lJ"
      },
      "source": [
        "## Warmup: trigonometric knotwork\n",
        "_inspired by [this post](https://www.quora.com/What-are-the-most-interesting-equation-plots)_\n",
        "\n",
        "There are some simple mathematical functions with cool plots. For one, consider this:\n",
        "\n",
        "$$ x(t) = t - 1.5 * cos( 15 t) $$\n",
        "$$ y(t) = t - 1.5 * sin( 16 t) $$\n"
      ]
    },
    {
      "cell_type": "code",
      "metadata": {
        "deletable": false,
        "id": "idIzhABXo3lK",
        "nbgrader": {
          "cell_type": "code",
          "checksum": "78770e3703fb53c4907d605fb7202d33",
          "grade": false,
          "grade_id": "cell-f25d51ba383f981a",
          "locked": false,
          "schema_version": 3,
          "solution": true,
          "task": false
        },
        "colab": {
          "base_uri": "https://localhost:8080/",
          "height": 265
        },
        "outputId": "ee73fdd3-4c3c-4e95-b690-97d2b4d9c804"
      },
      "source": [
        "import matplotlib.pyplot as plt\n",
        "%matplotlib inline\n",
        "\n",
        "t = torch.linspace(-10, 10, steps=10000)\n",
        "\n",
        "# compute x=x(t) and y=y(t) as defined above\n",
        "# your code here\n",
        "\n",
        "\n",
        "plt.plot(x.numpy(), y.numpy());"
      ],
      "execution_count": 45,
      "outputs": [
        {
          "output_type": "display_data",
          "data": {
            "image/png": "[encoded data removed]",
            "text/plain": [
              "<Figure size 432x288 with 1 Axes>"
            ]
          },
          "metadata": {
            "tags": [],
            "needs_background": "light"
          }
        }
      ]
    },
    {
      "cell_type": "markdown",
      "metadata": {
        "id": "Frw3xwP6o3lN"
      },
      "source": [
        "--------"
      ]
    },
    {
      "cell_type": "markdown",
      "metadata": {
        "id": "REoFWIZDo3lO"
      },
      "source": [
        "# Automatic gradients\n",
        "\n",
        "Any self-respecting DL framework must do your backprop for you. Torch handles this with the `autograd` module.\n",
        "\n",
        "The general pipeline looks like this:\n",
        "* When creating a tensor, you mark it as `requires_grad`:\n",
        "    * __```torch.zeros(5, requires_grad=True)```__\n",
        "    * __```torch.tensor(np.arange(5), dtype=torch.float32, requires_grad=True)```__\n",
        "* Define some differentiable `y = arbitrary_function(x)`\n",
        "* Call `y.backward()`\n",
        "* Gradients are now available as ```x.grad```\n",
        "\n",
        "__Here's a few examples:__"
      ]
    },
    {
      "cell_type": "code",
      "metadata": {
        "id": "gwcTNRj-NXUi",
        "colab": {
          "base_uri": "https://localhost:8080/"
        },
        "outputId": "ef81f8e7-e301-4537-892c-26eb330be8ee"
      },
      "source": [
        "x = torch.tensor(0., requires_grad=True)\n",
        "y = torch.sin(x)\n",
        "y.backward()\n",
        "x.grad"
      ],
      "execution_count": null,
      "outputs": [
        {
          "output_type": "execute_result",
          "data": {
            "text/plain": [
              "tensor(1.)"
            ]
          },
          "metadata": {
            "tags": []
          },
          "execution_count": 13
        }
      ]
    },
    {
      "cell_type": "code",
      "metadata": {
        "id": "T8d1DXhwo3lS",
        "colab": {
          "base_uri": "https://localhost:8080/"
        },
        "outputId": "844ffacd-f781-42dd-9168-944b38036e27"
      },
      "source": [
        "# Remember we defined MSE loss with its gradient last week?\n",
        "# With torch we could've skipped the gradient part:\n",
        "\n",
        "def MSELoss(y, yhat):\n",
        "    return ((y - yhat)**2).mean()\n",
        "\n",
        "y = torch.normal(0., 1., size=(100,))\n",
        "yhat = torch.normal(0., 1., size=(100,), requires_grad=True)\n",
        "\n",
        "loss = MSELoss(y, yhat)\n",
        "loss.backward()\n",
        "\n",
        "print(\"Checking autograd result equals to analytical derivative.\")\n",
        "print(\"    check result:\", torch.allclose(yhat.grad, 2 * (yhat - y) / y.shape[0]))"
      ],
      "execution_count": null,
      "outputs": [
        {
          "output_type": "stream",
          "text": [
            "Checking autograd result equals to analytical derivative.\n",
            "    check result: True\n"
          ],
          "name": "stdout"
        }
      ]
    },
    {
      "cell_type": "markdown",
      "metadata": {
        "id": "Wrxw5I2AOZ2a"
      },
      "source": [
        "__Note:__ calling `backward` multiple times accumulates the sum of gradients:"
      ]
    },
    {
      "cell_type": "code",
      "metadata": {
        "id": "ua1wLiuROb7i",
        "colab": {
          "base_uri": "https://localhost:8080/"
        },
        "outputId": "1b14eff9-332d-43b3-db1f-efc99c4e7495"
      },
      "source": [
        "x = torch.tensor(0., requires_grad=True)\n",
        "y1 = torch.sin(x)\n",
        "y2 = torch.sin(x)\n",
        "\n",
        "print(\"x.grad =\", x.grad)\n",
        "y1.backward()\n",
        "print(\"x.grad =\", x.grad)\n",
        "y2.backward()\n",
        "print(\"x.grad =\", x.grad)"
      ],
      "execution_count": null,
      "outputs": [
        {
          "output_type": "stream",
          "text": [
            "x.grad = None\n",
            "x.grad = tensor(1.)\n",
            "x.grad = tensor(2.)\n"
          ],
          "name": "stdout"
        }
      ]
    },
    {
      "cell_type": "markdown",
      "metadata": {
        "id": "Flu0aZH2PAOz"
      },
      "source": [
        "so typically when using it inside learning loop you want to zero the accumulated gradients between the consequtive `backward()` calls, e.g.:"
      ]
    },
    {
      "cell_type": "code",
      "metadata": {
        "id": "2ueKVXDYPOwJ",
        "colab": {
          "base_uri": "https://localhost:8080/",
          "height": 265
        },
        "outputId": "9eabc43b-8388-406a-9dbb-6e352c0279c4"
      },
      "source": [
        "# Generate linear data:\n",
        "x = torch.tensor(np.random.uniform(-3, 5, 100), dtype=torch.float32)\n",
        "y = 2.5 * x + torch.normal(mean=0., std=0.4, size=x.shape)\n",
        "\n",
        "w = torch.tensor(0., dtype=torch.float32, requires_grad=True)\n",
        "w_values_history = [\n",
        "    w.item() # this returns a python number with the value of the tensor\n",
        "]\n",
        "\n",
        "for _ in range(100):\n",
        "    loss = MSELoss(y, w * x)\n",
        "    loss.backward()\n",
        "    with torch.no_grad(): #  = \"don't calculate gradients in the block below\"\n",
        "        w -= 0.01 * w.grad\n",
        "\n",
        "    w.grad.zero_() # just for the lulz try commenting this out\n",
        "    w_values_history.append(w.item())\n",
        "\n",
        "plt.plot(w_values_history);"
      ],
      "execution_count": null,
      "outputs": [
        {
          "output_type": "display_data",
          "data": {
            "image/png": "[encoded data removed]",
            "text/plain": [
              "<Figure size 432x288 with 1 Axes>"
            ]
          },
          "metadata": {
            "tags": [],
            "needs_background": "light"
          }
        }
      ]
    },
    {
      "cell_type": "markdown",
      "metadata": {
        "id": "Nn3rtUs-WwaF"
      },
      "source": [
        "Calling `backward()` for a tensor:"
      ]
    },
    {
      "cell_type": "code",
      "metadata": {
        "id": "1UMLi0TbIsG7",
        "colab": {
          "base_uri": "https://localhost:8080/",
          "height": 265
        },
        "outputId": "72d0df5f-290f-43e5-ca3a-804d322cf407"
      },
      "source": [
        "x = torch.linspace(-2, 2, 1000, requires_grad=True)\n",
        "y = x**2\n",
        "\n",
        "# Note: since `x` and `y` are both vectors, the derivative is\n",
        "# defined in the form of Jacobian dy/dx.\n",
        "# For such cases `backward()` is implemented to calculate\n",
        "# the Jacobian multiplied by some other vector that you\n",
        "# have to provide as an argument e.g. `y.backward(some_vector)` -\n",
        "# this will return Jacobian dy/dx times `some_vector`.\n",
        "\n",
        "# Since our Jacobian is diagonal, the following code will return\n",
        "# per-element derivative values:\n",
        "y.backward(torch.ones_like(y))\n",
        "\n",
        "plt.plot(x.detach(), y.detach(), label='y = x^2')\n",
        "plt.plot(x.detach(), x.grad, label=\"dy/dx\")\n",
        "plt.legend();\n",
        "plt.grid(True);"
      ],
      "execution_count": null,
      "outputs": [
        {
          "output_type": "display_data",
          "data": {
            "image/png": "[encoded data removed]",
            "text/plain": [
              "<Figure size 432x288 with 1 Axes>"
            ]
          },
          "metadata": {
            "tags": [],
            "needs_background": "light"
          }
        }
      ]
    },
    {
      "cell_type": "markdown",
      "metadata": {
        "id": "GwTeanCqNqsd"
      },
      "source": [
        "Second derivative example:"
      ]
    },
    {
      "cell_type": "code",
      "metadata": {
        "id": "SvyN3zesLbEQ",
        "colab": {
          "base_uri": "https://localhost:8080/",
          "height": 265
        },
        "outputId": "bbc75060-0da6-4fd7-ceaf-5448a747b92e"
      },
      "source": [
        "x = torch.linspace(-2, 2, 1000, requires_grad=True)\n",
        "y = x**3\n",
        "\n",
        "first_derivative, = torch.autograd.grad(\n",
        "    y, x, torch.ones_like(y),\n",
        "    create_graph=True # \"create_graph\" required to be able to calculate derivative of the derivative later\n",
        ")\n",
        "second_derivative, = torch.autograd.grad(first_derivative, x, torch.ones_like(first_derivative))\n",
        "\n",
        "plt.plot(x.detach(), y.detach(), label='y = x^3')\n",
        "plt.plot(x.detach(), first_derivative.detach(), label=\"dy/dx\")\n",
        "plt.plot(x.detach(), second_derivative, label=\"d^2y/dx^2\")\n",
        "plt.legend();\n",
        "plt.grid(True);"
      ],
      "execution_count": null,
      "outputs": [
        {
          "output_type": "display_data",
          "data": {
            "image/png": "[encoded data removed]",
            "text/plain": [
              "<Figure size 432x288 with 1 Axes>"
            ]
          },
          "metadata": {
            "tags": [],
            "needs_background": "light"
          }
        }
      ]
    }
  ]
}
