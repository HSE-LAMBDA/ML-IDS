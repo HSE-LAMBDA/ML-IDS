{
 "cells": [
  {
   "cell_type": "markdown",
   "metadata": {},
   "source": [
    "# Logistic regression"
   ]
  },
  {
   "cell_type": "code",
   "execution_count": null,
   "metadata": {},
   "outputs": [],
   "source": [
    "#import packages\n",
    "\n",
    "from sklearn.linear_model import LogisticRegression      # import LogisticRegression classifier\n",
    "from matplotlib import pyplot as plt                     # package for visualisations\n",
    "import numpy as np                                       # package for linear algebra computations"
   ]
  },
  {
   "cell_type": "code",
   "execution_count": null,
   "metadata": {},
   "outputs": [],
   "source": [
    "# Let us set X and y\n",
    "\n",
    "X1 = np.random.normal(1, 1, (100,3))                     # first set \n",
    "X2 = np.random.normal(3.5, 0.8, (100,3))                 # second set\n",
    "\n",
    "X1[:,2] = 0                                              # labels for the first set\n",
    "X2[:,2] = 1                                              # labels for the second set\n",
    "\n",
    "S = np.vstack([X1,X2])                                   # stack to sets\n",
    "\n",
    "X = S[:,:2]                                              # extract X\n",
    "y = S[:,2]                                               # extract y"
   ]
  },
  {
   "cell_type": "code",
   "execution_count": null,
   "metadata": {},
   "outputs": [],
   "source": [
    "# Visualize a set of pairs of (x,y) on the plane\n",
    "\n",
    "plt.figure(figsize=(6,4))\n",
    "\n",
    "plt.scatter(X[:,0],X[:,1], c=y)\n",
    "\n",
    "plt.xlabel('Feature 1')\n",
    "plt.ylabel('Feature 2')\n",
    "\n",
    "plt.title('Figure 1: The scater plot for data in the plane of features \\n');"
   ]
  },
  {
   "cell_type": "markdown",
   "metadata": {},
   "source": [
    "**Task:** build a classification model for the given data X and y, using *LogisticRegression* from *sklearn*."
   ]
  },
  {
   "cell_type": "markdown",
   "metadata": {},
   "source": [
    "### Logistic Regression Classifier"
   ]
  },
  {
   "cell_type": "code",
   "execution_count": null,
   "metadata": {},
   "outputs": [],
   "source": [
    "# your code here\n",
    "clf = LogisticRegression...\n",
    "y_hat = ..."
   ]
  },
  {
   "cell_type": "code",
   "execution_count": null,
   "metadata": {},
   "outputs": [],
   "source": [
    "# Probability estimates\n",
    "\n",
    "P = clf.predict_proba(X)"
   ]
  },
  {
   "cell_type": "code",
   "execution_count": null,
   "metadata": {},
   "outputs": [],
   "source": [
    "# Let us compute mean accuracy on the given test data and labels\n",
    "\n",
    "clf.score(X, y)"
   ]
  },
  {
   "cell_type": "code",
   "execution_count": null,
   "metadata": {},
   "outputs": [],
   "source": [
    "# Visualize a set of pairs of (x,y) on the plane\n",
    "\n",
    "plt.figure(figsize=(6,4))\n",
    "\n",
    "plt.scatter(X[:,0],X[:,1], c=y_hat)\n",
    "\n",
    "plt.xlabel('Feature 1')\n",
    "plt.ylabel('Feature 2')\n",
    "\n",
    "plt.title('Figure 2: The scater plot for data in the plane of features \\n');"
   ]
  },
  {
   "cell_type": "markdown",
   "metadata": {},
   "source": [
    "Compare Figure 1 and Figure 2. Notice that some point change their color."
   ]
  },
  {
   "cell_type": "code",
   "execution_count": null,
   "metadata": {},
   "outputs": [],
   "source": []
  }
 ],
 "metadata": {
  "kernelspec": {
   "display_name": "Python 3",
   "language": "python",
   "name": "python3"
  },
  "language_info": {
   "codemirror_mode": {
    "name": "ipython",
    "version": 3
   },
   "file_extension": ".py",
   "mimetype": "text/x-python",
   "name": "python",
   "nbconvert_exporter": "python",
   "pygments_lexer": "ipython3",
   "version": "3.8.5"
  }
 },
 "nbformat": 4,
 "nbformat_minor": 4
}
