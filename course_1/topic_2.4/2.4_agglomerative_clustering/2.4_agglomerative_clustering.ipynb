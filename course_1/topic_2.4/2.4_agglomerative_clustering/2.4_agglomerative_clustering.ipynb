{
 "cells": [
  {
   "cell_type": "markdown",
   "metadata": {},
   "source": [
    "# Agglomerative clustering\n",
    "\n",
    "In this practice will use *Agglomerative clustering* algirithm to obtain \"natural\" clusters for several datasets."
   ]
  },
  {
   "cell_type": "code",
   "execution_count": null,
   "metadata": {},
   "outputs": [],
   "source": [
    "#import libraries\n",
    "from sklearn.cluster import AgglomerativeClustering\n",
    "from sklearn.datasets import make_moons, make_circles, make_blobs #import datasets\n",
    "from matplotlib import pyplot as plt"
   ]
  },
  {
   "cell_type": "markdown",
   "metadata": {},
   "source": [
    "### Two moons dataset"
   ]
  },
  {
   "cell_type": "markdown",
   "metadata": {},
   "source": [
    "**Task 1:** Choose hyperparameters of Agglomerative clustering algorithm that describes data the best way:\n",
    "- number of clusters;\n",
    "- affinity (\"euclidean\", \"manhattan\")\n",
    "- linkage (\"ward\", \"complete\", \"average\", \"single\")"
   ]
  },
  {
   "cell_type": "code",
   "execution_count": null,
   "metadata": {},
   "outputs": [],
   "source": [
    "#load the dataset\n",
    "X,y = make_moons(n_samples=200, noise=0.08, random_state = 42)"
   ]
  },
  {
   "cell_type": "code",
   "execution_count": null,
   "metadata": {
    "scrolled": true
   },
   "outputs": [],
   "source": [
    "cluster = AgglomerativeClustering(n_clusters=..., affinity=..., linkage=...)\n",
    "cluster.fit(X)"
   ]
  },
  {
   "cell_type": "code",
   "execution_count": null,
   "metadata": {},
   "outputs": [],
   "source": [
    "\n",
    "fig = plt.figure(figsize=(8,4))\n",
    "\n",
    "ax1,ax2 = fig.subplots(1,2)\n",
    "\n",
    "ax1.scatter(X[:,0],X[:,1])\n",
    "ax2.scatter(X[:,0],X[:,1],c= cluster.labels_)\n",
    "plt.title('Two moons dataset');"
   ]
  },
  {
   "cell_type": "markdown",
   "metadata": {},
   "source": [
    "### Bloobs dataset"
   ]
  },
  {
   "cell_type": "markdown",
   "metadata": {},
   "source": [
    "**Task 2:** Choose hyperparameters of Agglomerative clustering algorithm that describes data the best way:\n",
    "- number of clusters;\n",
    "- affinity (\"euclidean\", \"manhattan\")\n",
    "- linkage (\"ward\", \"complete\", \"average\", \"single\")"
   ]
  },
  {
   "cell_type": "code",
   "execution_count": null,
   "metadata": {},
   "outputs": [],
   "source": [
    "X,y = make_blobs(n_samples=200, cluster_std=2.5, random_state=42)\n",
    "\n",
    "cluster = AgglomerativeClustering(n_clusters=..., affinity=..., linkage=...)\n",
    "cluster.fit(X)\n",
    "\n",
    "fig = plt.figure(figsize=(8,4))\n",
    "\n",
    "ax1,ax2 = fig.subplots(1,2)\n",
    "\n",
    "ax1.scatter(X[:,0],X[:,1])\n",
    "ax2.scatter(X[:,0],X[:,1],c= cluster.labels_)\n",
    "plt.title('Blobs dataset');"
   ]
  },
  {
   "cell_type": "markdown",
   "metadata": {},
   "source": [
    "### Circles dataset"
   ]
  },
  {
   "cell_type": "markdown",
   "metadata": {},
   "source": [
    "**Task 3:** Choose hyperparameters of Agglomerative clustering algorithm that describes data the best way:\n",
    "- number of clusters;\n",
    "- affinity (\"euclidean\", \"manhattan\")\n",
    "- linkage (\"ward\", \"complete\", \"average\", \"single\")"
   ]
  },
  {
   "cell_type": "code",
   "execution_count": null,
   "metadata": {},
   "outputs": [],
   "source": [
    "X,y = make_circles(400, noise=0.07, factor=0.5, random_state=42)\n",
    "\n",
    "cluster = AgglomerativeClustering(n_clusters=..., affinity=..., linkage=...)\n",
    "cluster.fit(X)\n",
    "\n",
    "fig = plt.figure(figsize=(8,4))\n",
    "\n",
    "ax1,ax2 = fig.subplots(1,2)\n",
    "\n",
    "ax1.scatter(X[:,0],X[:,1])\n",
    "ax2.scatter(X[:,0],X[:,1],c= cluster.labels_)\n",
    "plt.title('Circles dataset');"
   ]
  },
  {
   "cell_type": "markdown",
   "metadata": {},
   "source": [
    "**Question:** Are the same hyperparametres *(affinity, linkage)* shows best result for each dataset?"
   ]
  }
 ],
 "metadata": {
  "kernelspec": {
   "display_name": "Python 3",
   "language": "python",
   "name": "python3"
  },
  "language_info": {
   "codemirror_mode": {
    "name": "ipython",
    "version": 3
   },
   "file_extension": ".py",
   "mimetype": "text/x-python",
   "name": "python",
   "nbconvert_exporter": "python",
   "pygments_lexer": "ipython3",
   "version": "3.8.5"
  }
 },
 "nbformat": 4,
 "nbformat_minor": 4
}
