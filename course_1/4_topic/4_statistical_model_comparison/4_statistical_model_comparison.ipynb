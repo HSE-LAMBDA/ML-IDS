{
 "cells": [
  {
   "cell_type": "markdown",
   "metadata": {},
   "source": [
    "# Statistical model comparison\n",
    "\n",
    "In this notebook you will compare two models A and B. We will check that model A is better than B, or not."
   ]
  },
  {
   "cell_type": "code",
   "execution_count": null,
   "metadata": {
    "collapsed": false,
    "jupyter": {
     "outputs_hidden": false
    }
   },
   "outputs": [],
   "source": [
    "%matplotlib inline\n",
    "import pandas as pd\n",
    "import numpy as np\n",
    "import numpy.testing as np_testing\n",
    "import matplotlib.pyplot as plt"
   ]
  },
  {
   "cell_type": "markdown",
   "metadata": {},
   "source": [
    "# Load MAGIC Data Set"
   ]
  },
  {
   "cell_type": "markdown",
   "metadata": {},
   "source": [
    "<center><img src=\"img/magic1.png\" width=\"1000\"></center>\n",
    "\n",
    "Source: https://magic.mpp.mpg.de/"
   ]
  },
  {
   "cell_type": "code",
   "execution_count": null,
   "metadata": {},
   "outputs": [],
   "source": [
    "!wget https://archive.ics.uci.edu/ml/machine-learning-databases/magic/magic04.data"
   ]
  },
  {
   "cell_type": "markdown",
   "metadata": {},
   "source": [
    "Features description:\n",
    "- **Length:** continuous # major axis of ellipse [mm]\n",
    "- **Width:** continuous # minor axis of ellipse [mm]\n",
    "- **Size:** continuous # 10-log of sum of content of all pixels [in #phot]\n",
    "- **Conc:** continuous # ratio of sum of two highest pixels over fSize [ratio]\n",
    "- **Conc1:** continuous # ratio of highest pixel over fSize [ratio]\n",
    "- **Asym:** continuous # distance from highest pixel to center, projected onto major axis [mm]\n",
    "- **M3Long:** continuous # 3rd root of third moment along major axis [mm]\n",
    "- **M3Trans:** continuous # 3rd root of third moment along minor axis [mm]\n",
    "- **Alpha:** continuous # angle of major axis with vector to origin [deg]\n",
    "- **Dist:** continuous # distance from origin to center of ellipse [mm]\n",
    "- **Label:** g,h # gamma (signal), hadron (background)\n",
    "\n",
    "g = gamma (signal): 12332 \\\n",
    "h = hadron (background): 6688"
   ]
  },
  {
   "cell_type": "code",
   "execution_count": null,
   "metadata": {
    "collapsed": false,
    "jupyter": {
     "outputs_hidden": false
    }
   },
   "outputs": [],
   "source": [
    "f_names = np.array([\"Length\", \"Width\", \"Size\", \"Conc\", \"Conc1\", \"Asym\", \"M3Long\", \"M3Trans\", \"Alpha\", \"Dist\"])\n",
    "\n",
    "data = pd.read_csv(\"magic04.data\", header=None, names=list(f_names)+[\"Label\"])\n",
    "data.head()"
   ]
  },
  {
   "cell_type": "markdown",
   "metadata": {},
   "source": [
    "# Data preparation"
   ]
  },
  {
   "cell_type": "code",
   "execution_count": null,
   "metadata": {},
   "outputs": [],
   "source": [
    "# prepare a matrix of input features\n",
    "X = data[f_names].values\n",
    "\n",
    "# prepare a vector of true labels\n",
    "y = 1 * (data['Label'].values == \"g\")\n",
    "\n",
    "# take only 10% of the data for speed up\n",
    "from sklearn.model_selection import train_test_split\n",
    "X, _, y, _ = train_test_split(X, y, train_size=0.1, stratify=y, random_state=11)"
   ]
  },
  {
   "cell_type": "code",
   "execution_count": null,
   "metadata": {},
   "outputs": [],
   "source": [
    "# print sizes of X and y\n",
    "X.shape, y.shape"
   ]
  },
  {
   "cell_type": "code",
   "execution_count": null,
   "metadata": {},
   "outputs": [],
   "source": [
    "X[:2]"
   ]
  },
  {
   "cell_type": "code",
   "execution_count": null,
   "metadata": {},
   "outputs": [],
   "source": [
    "y[:5]"
   ]
  },
  {
   "cell_type": "markdown",
   "metadata": {},
   "source": [
    "# Preprocessing"
   ]
  },
  {
   "cell_type": "markdown",
   "metadata": {},
   "source": [
    "Scale input data using StandardScaler:\n",
    "$$\n",
    "X_{new} = \\frac{X - \\mu}{\\sigma}\n",
    "$$"
   ]
  },
  {
   "cell_type": "code",
   "execution_count": null,
   "metadata": {
    "collapsed": false,
    "jupyter": {
     "outputs_hidden": false
    }
   },
   "outputs": [],
   "source": [
    "# Import StandardScaler\n",
    "from sklearn.preprocessing import StandardScaler\n",
    "\n",
    "# Create object of the class and set up its parameters\n",
    "ss = StandardScaler()\n",
    "\n",
    "# Estimate mean and sigma values\n",
    "ss.fit(X)\n",
    "\n",
    "# Scale the sample\n",
    "X = ss.transform(X)"
   ]
  },
  {
   "cell_type": "markdown",
   "metadata": {},
   "source": [
    "# Define models A and B\n"
   ]
  },
  {
   "cell_type": "markdown",
   "metadata": {},
   "source": [
    "We will compare two models: A and B. Model A will have 12 hidden neurons, and model B - only 10. We would like to check that A is better than B."
   ]
  },
  {
   "cell_type": "code",
   "execution_count": null,
   "metadata": {},
   "outputs": [],
   "source": [
    "#!pip install pytorch-lightning "
   ]
  },
  {
   "cell_type": "code",
   "execution_count": null,
   "metadata": {},
   "outputs": [],
   "source": [
    "import torch\n",
    "from torch.nn import functional as F\n",
    "from torch import nn\n",
    "import pytorch_lightning as pl\n",
    "\n",
    "class Model(pl.LightningModule):\n",
    "\n",
    "    def __init__(self, n_neurons=10):\n",
    "        super().__init__()\n",
    "        \n",
    "        # define all layers of the netwrok\n",
    "        self.net = nn.Sequential(\n",
    "                                nn.Linear(10, n_neurons), \n",
    "                                nn.Tanh(), \n",
    "                                nn.Linear(n_neurons, 1), \n",
    "                                nn.Sigmoid())\n",
    "\n",
    "    \n",
    "    def forward(self, x):\n",
    "        # make a prediction for x\n",
    "        return self.net(x)\n",
    "\n",
    "    # calculate loss function values\n",
    "    def training_step(self, batch, batch_idx):\n",
    "        x, y = batch\n",
    "        y_hat = self(x)\n",
    "        loss = F.binary_cross_entropy(y_hat, y)\n",
    "        return loss\n",
    "\n",
    "    # define optimizer to fit the network\n",
    "    def configure_optimizers(self):\n",
    "        return torch.optim.Adam(self.parameters(), lr=0.02)"
   ]
  },
  {
   "cell_type": "code",
   "execution_count": null,
   "metadata": {},
   "outputs": [],
   "source": [
    "model_A = Model(n_neurons=12)\n",
    "model_A"
   ]
  },
  {
   "cell_type": "code",
   "execution_count": null,
   "metadata": {},
   "outputs": [],
   "source": [
    "model_B = Model(n_neurons=10)\n",
    "model_B"
   ]
  },
  {
   "cell_type": "markdown",
   "metadata": {},
   "source": [
    "# Data loader creation\n",
    "\n",
    "We will define a helping function for converting `X_train` and `y_train` into PyTorch `DataLoader`."
   ]
  },
  {
   "cell_type": "code",
   "execution_count": null,
   "metadata": {},
   "outputs": [],
   "source": [
    "from torch.utils.data import TensorDataset, DataLoader\n",
    "\n",
    "def create_data_loader(X_train, y_train, batch_size=128):\n",
    "    # combine X and y into one pytorch tensor dataset\n",
    "    dataset_train = TensorDataset(torch.tensor(X_train, dtype=torch.float), \n",
    "                                  torch.tensor(y_train.reshape(-1, 1), dtype=torch.float))\n",
    "    # loader divides our train data into batches\n",
    "    train_loader = DataLoader(dataset_train, batch_size=batch_size, num_workers=4)\n",
    "    return train_loader"
   ]
  },
  {
   "cell_type": "code",
   "execution_count": null,
   "metadata": {},
   "outputs": [],
   "source": [
    "# example of usage\n",
    "create_data_loader(X[:5], y[:5], 1)"
   ]
  },
  {
   "cell_type": "markdown",
   "metadata": {},
   "source": [
    "# Quality metrics\n",
    "\n",
    "We will use ROC AUC as a target quality metrics for our models."
   ]
  },
  {
   "cell_type": "code",
   "execution_count": null,
   "metadata": {},
   "outputs": [],
   "source": [
    "from sklearn import metrics\n",
    "\n",
    "# example of usage\n",
    "metrics.roc_auc_score(y_true=[0, 0, 1, 1], \n",
    "                      y_score=[0.1, 0.6, 0.8, 0.9])"
   ]
  },
  {
   "cell_type": "markdown",
   "metadata": {},
   "source": [
    "# Fit models"
   ]
  },
  {
   "cell_type": "markdown",
   "metadata": {},
   "source": [
    "\n",
    "**Algorithm:**\n",
    "- Given two models A and B\n",
    "- Given sample X, y\n",
    "- For i=1, …, k do:\n",
    "    - Randomly split $X$ and $y$ into train and test samples\n",
    "    - Fit models A and B on the train sample\n",
    "    - Compute quality metrics $q_{Ai}$ and $q_{Bi}$ for the models on the test sample\n",
    "    - Calculate the difference $q_i = q_{Ai} - q_{Bi}$\n",
    "\n",
    "Result: we have *k* quality metric differences $\\{q_1, q_2, ..., q_k \\}$"
   ]
  },
  {
   "cell_type": "markdown",
   "metadata": {},
   "source": [
    "# Task 1\n",
    "Using the algorithm above fit models A and B, calculate ROC AUCs for them and estimate the differences q. \n",
    "\n",
    "**Hint:** use `n_neurons=10` for model B. Use `model(torch.tensor(X_test, dtype=torch.float))[:, 0].detach().numpy()` to make predictions for a model."
   ]
  },
  {
   "cell_type": "code",
   "execution_count": null,
   "metadata": {
    "scrolled": true
   },
   "outputs": [],
   "source": [
    "n_iterations = 50\n",
    "    \n",
    "q_A = []\n",
    "q_B = []\n",
    "\n",
    "# go through each iteration of KFold\n",
    "for it in range(n_iterations):\n",
    "\n",
    "    X_train, X_test, y_train, y_test = train_test_split(X, y, test_size=0.5, stratify=y)\n",
    "    \n",
    "    # create pytorch dataloader\n",
    "    train_loader = create_data_loader(X_train, y_train, batch_size=128)\n",
    "    \n",
    "    # init model and trainer for A\n",
    "    model_A = Model(n_neurons=12)\n",
    "    trainer_A = pl.Trainer(max_epochs=10, weights_summary=None, progress_bar_refresh_rate=0)\n",
    "    \n",
    "    ### BEGIN SOLUTION\n",
    "    \n",
    "    ### END SOLUTION\n",
    "    \n",
    "    q_A.append(auc_A)\n",
    "    q_B.append(auc_B)\n",
    "    \n",
    "q = np.array(q_A) - np.array(q_B)"
   ]
  },
  {
   "cell_type": "code",
   "execution_count": null,
   "metadata": {},
   "outputs": [],
   "source": [
    "print(\"Mean value of q: \", q.mean())"
   ]
  },
  {
   "cell_type": "markdown",
   "metadata": {},
   "source": [
    "Expected approximate output:\n",
    "\n",
    "<center>   \n",
    "    \n",
    "```python\n",
    "Mean value of q: 0.00312\n",
    "``` \n",
    "    \n",
    "</center>"
   ]
  },
  {
   "cell_type": "code",
   "execution_count": null,
   "metadata": {},
   "outputs": [],
   "source": [
    "### BEGIN HIDDEN TESTS\n",
    "actual  = np.array([q.mean()])\n",
    "desired = np.array([0.003])\n",
    "np_testing.assert_allclose(actual, desired, atol=0.001)\n",
    "### END HIDDEN TESTS"
   ]
  },
  {
   "cell_type": "code",
   "execution_count": null,
   "metadata": {},
   "outputs": [],
   "source": [
    "q"
   ]
  },
  {
   "cell_type": "markdown",
   "metadata": {},
   "source": [
    "# Hypotheses test\n",
    "\n",
    "We want to test the following hypotheses:\n",
    "$$\n",
    "H_0: A = B\n",
    "$$\n",
    "\n",
    "$$\n",
    "H_1: A \\text{ is better than } B\n",
    "$$\n",
    "\n",
    "We will test them using the bootstrap method.\n",
    "\n",
    "<center><img src=\"img/bootstrap.png\" width=\"600\"></center>"
   ]
  },
  {
   "cell_type": "markdown",
   "metadata": {},
   "source": [
    "**Algorithm:**\n",
    "- For j=1, …, m do:\n",
    "    - (Bootstrap) Sample with **replacement** a subsample with k objects from $\\{q_1, q_2, ..., q_k \\}$\n",
    "    - Calculate mean value $\\bar{q}_j$ for the bootstrap sample\n",
    "- Result: we have m means of the differences $\\{\\bar{q}_1, \\bar{q}_2, ..., \\bar{q}_m \\}$\n",
    "- Estimate the probability P that model A is better than model B. This equals to the probability $P$ that $\\bar{q}_i > 0$:"
   ]
  },
  {
   "cell_type": "markdown",
   "metadata": {},
   "source": [
    "# Task 2\n",
    "Using the algorithm above to estimate means of the differences $\\{\\bar{q}_1, \\bar{q}_2, ..., \\bar{q}_m \\}$. \n",
    "\n",
    "**Hint:** use `resample(q, replace=True, n_samples=len(q))` to make bootstrap samples."
   ]
  },
  {
   "cell_type": "code",
   "execution_count": null,
   "metadata": {},
   "outputs": [],
   "source": [
    "from sklearn.utils import resample\n",
    "\n",
    "n_iterations = 1000\n",
    "\n",
    "q_means = []\n",
    "\n",
    "# go through each iteration of KFold\n",
    "for it in range(n_iterations):\n",
    "    \n",
    "    ### BEGIN SOLUTION\n",
    "    \n",
    "    ### END HIDDEN TESTS\n",
    "    \n",
    "q_means = np.array(q_means)"
   ]
  },
  {
   "cell_type": "code",
   "execution_count": null,
   "metadata": {},
   "outputs": [],
   "source": [
    "print(\"Mean value of q_mean: \", q_means.mean())"
   ]
  },
  {
   "cell_type": "markdown",
   "metadata": {},
   "source": [
    "Expected approximate output:\n",
    "\n",
    "<center>   \n",
    "    \n",
    "```python\n",
    "Mean value of q_mean: 0.00312\n",
    "``` \n",
    "    \n",
    "</center>"
   ]
  },
  {
   "cell_type": "code",
   "execution_count": null,
   "metadata": {},
   "outputs": [],
   "source": [
    "### BEGIN HIDDEN TESTS\n",
    "P = len(q_means[q_means > 0]) / len(q_means)\n",
    "actual  = np.array([P])\n",
    "desired = np.array([0.997])\n",
    "np_testing.assert_allclose(actual, desired, atol=0.05)\n",
    "### END HIDDEN TESTS"
   ]
  },
  {
   "cell_type": "markdown",
   "metadata": {},
   "source": [
    "# Probability that model A is better than model B\n",
    "\n",
    "$$\n",
    "P=\\frac{1}{k} \\sum_{i=1}^{k}I[\\bar{q}_i >0]\n",
    "$$"
   ]
  },
  {
   "cell_type": "code",
   "execution_count": null,
   "metadata": {},
   "outputs": [],
   "source": [
    "plt.hist(q_means, bins=50)\n",
    "plt.xlabel(\"q_means\", size=14)\n",
    "plt.show()"
   ]
  },
  {
   "cell_type": "code",
   "execution_count": null,
   "metadata": {},
   "outputs": [],
   "source": [
    "P = len(q_means[q_means > 0]) / len(q_means)\n",
    "\n",
    "print(\"Probability that model A is better than model B: \", P)"
   ]
  },
  {
   "cell_type": "code",
   "execution_count": null,
   "metadata": {},
   "outputs": [],
   "source": [
    "alpha = 0.05\n",
    "\n",
    "if P > 1 - alpha:\n",
    "    print(\"A is better than B with significance level \", alpha)\n",
    "else:\n",
    "    print(\"We can not say that A is better than B\")"
   ]
  },
  {
   "cell_type": "code",
   "execution_count": null,
   "metadata": {},
   "outputs": [],
   "source": []
  }
 ],
 "metadata": {
  "kernelspec": {
   "display_name": "Python 3",
   "language": "python",
   "name": "python3"
  },
  "language_info": {
   "codemirror_mode": {
    "name": "ipython",
    "version": 3
   },
   "file_extension": ".py",
   "mimetype": "text/x-python",
   "name": "python",
   "nbconvert_exporter": "python",
   "pygments_lexer": "ipython3",
   "version": "3.7.4"
  }
 },
 "nbformat": 4,
 "nbformat_minor": 4
}
