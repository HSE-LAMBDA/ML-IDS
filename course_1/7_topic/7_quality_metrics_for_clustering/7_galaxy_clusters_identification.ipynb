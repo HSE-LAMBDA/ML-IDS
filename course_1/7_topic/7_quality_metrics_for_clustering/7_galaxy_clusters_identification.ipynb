{
 "cells": [
  {
   "cell_type": "markdown",
   "metadata": {},
   "source": [
    "# Galaxy clusters identification"
   ]
  },
  {
   "cell_type": "markdown",
   "metadata": {},
   "source": [
    "So, we have already studied several unsupervised machine learning algorithms for solving the clustering problem. In this notebook, we will select the clustering algorithm and tune the model hyperparameters to get the best result.\n",
    "\n",
    "In this task, we will be dealing with real data from the *Sloan Digital Sky Survey*. "
   ]
  },
  {
   "cell_type": "code",
   "execution_count": null,
   "metadata": {},
   "outputs": [],
   "source": [
    "# Let`s import all libraries and tools we`ll need\n",
    "\n",
    "import pandas as pd\n",
    "from matplotlib import pyplot as plt\n",
    "from sklearn.cluster import KMeans, AgglomerativeClustering, DBSCAN\n",
    "from sklearn.metrics import adjusted_rand_score"
   ]
  },
  {
   "cell_type": "markdown",
   "metadata": {},
   "source": [
    "### Sloan Digital Sky Survey (SDSS)\n",
    "\n",
    "SDSS is a large-scale study of multispectral images and redshift spectra of stars and galaxies using a 2.5-meter wide-angle telescope at Apache Point Observatory in New Mexico. The project is named after the Alfred Sloan Foundation.\n",
    "\n",
    "Research began in 2000, during the work of the project, more than 35% of the celestial sphere was mapped with photometric observations of about 500 million objects and obtaining spectra for more than 3 million objects. The average redshift from galaxy images was 0.1; for bright red galaxies up to *z = 0.4*, for quasars up to *z = 5*. \n",
    "\n"
   ]
  },
  {
   "cell_type": "markdown",
   "metadata": {},
   "source": [
    "### Dataset\n",
    "\n",
    "The dataset consists of 4717 observations (galaxies) and for each galaxy we know three features:\n",
    "\n",
    "- **ra** - the angle of right ascention that may has values from 0 to 360 degrees;\n",
    "- **dec** - the angle of declination that may has values from -90 to 90 degrees;\n",
    "- **z** - the redshift of the galaxy that is positive;\n",
    "- **iGrID** - a ground truth cluster label of a galaxy that we want find.\n",
    "\n",
    "Angles help us to detect the position of a galaxy on a celestial sphere and the redshift we will consider as an analogy of the distance from the observer to a galaxy."
   ]
  },
  {
   "cell_type": "code",
   "execution_count": null,
   "metadata": {},
   "outputs": [],
   "source": [
    "url = 'https://raw.githubusercontent.com/HSE-LAMBDA/ML-IDS-private/main/1_course/7_US/galaxies.csv?token=ANW5UZ2ZZHEYPTEWLIU7BATBRKO3G'\n",
    "data = pd.read_csv(url)"
   ]
  },
  {
   "cell_type": "code",
   "execution_count": null,
   "metadata": {},
   "outputs": [],
   "source": [
    "data.head()"
   ]
  },
  {
   "cell_type": "code",
   "execution_count": null,
   "metadata": {},
   "outputs": [],
   "source": [
    "X = data[['ra','dec','z']]  # the data to detect galaxy clusters \n",
    "y = data.iGrID              # ground truth labels to compare results of clustering"
   ]
  },
  {
   "cell_type": "code",
   "execution_count": null,
   "metadata": {},
   "outputs": [],
   "source": [
    "# Let`s visualize the position of galaxies on a plane (ra, dec)\n",
    "\n",
    "plt.figure(figsize=(14,7))\n",
    "\n",
    "plt.scatter(X.ra, X.dec, s=1)\n",
    "plt.xlim((0,360))\n",
    "plt.ylim((-90,90))\n",
    "plt.xlabel('Right ascension')\n",
    "plt.ylabel('Declination')\n",
    "plt.title('The celestial sphere on plane \\n');"
   ]
  },
  {
   "cell_type": "markdown",
   "metadata": {},
   "source": [
    "### Baseline"
   ]
  },
  {
   "cell_type": "markdown",
   "metadata": {},
   "source": [
    "**K-means**"
   ]
  },
  {
   "cell_type": "code",
   "execution_count": null,
   "metadata": {},
   "outputs": [],
   "source": [
    "algorithm = KMeans(n_clusters=500, random_state=42)\n",
    "pred = algorithm.fit_predict(X)\n",
    "\n",
    "print('ARI:', round(adjusted_rand_score(y,pred),2))"
   ]
  },
  {
   "cell_type": "markdown",
   "metadata": {},
   "source": [
    "**Agglomerative Clustering**"
   ]
  },
  {
   "cell_type": "code",
   "execution_count": null,
   "metadata": {},
   "outputs": [],
   "source": [
    "algorithm = AgglomerativeClustering(n_clusters=1000, affinity='euclidean', linkage = 'single')\n",
    "pred = algorithm.fit_predict(X)\n",
    "\n",
    "print('ARI:', round(adjusted_rand_score(y,pred),2))"
   ]
  },
  {
   "cell_type": "markdown",
   "metadata": {},
   "source": [
    "**DBSCAN**"
   ]
  },
  {
   "cell_type": "code",
   "execution_count": null,
   "metadata": {},
   "outputs": [],
   "source": [
    "algorithm = DBSCAN(eps=1.45, min_samples=3, metric='euclidean')\n",
    "\n",
    "pred = algorithm.fit_predict(X)\n",
    "\n",
    "print('ARI:', round(adjusted_rand_score(y,pred),2))"
   ]
  },
  {
   "cell_type": "markdown",
   "metadata": {},
   "source": [
    "The best score we got on DBSCAN: **0.82**."
   ]
  },
  {
   "cell_type": "markdown",
   "metadata": {},
   "source": [
    "## Task: \n",
    "Tune hyperparameters of algorithms to improve the result of clustering."
   ]
  },
  {
   "cell_type": "code",
   "execution_count": null,
   "metadata": {},
   "outputs": [],
   "source": []
  }
 ],
 "metadata": {
  "kernelspec": {
   "display_name": "Python 3",
   "language": "python",
   "name": "python3"
  },
  "language_info": {
   "codemirror_mode": {
    "name": "ipython",
    "version": 3
   },
   "file_extension": ".py",
   "mimetype": "text/x-python",
   "name": "python",
   "nbconvert_exporter": "python",
   "pygments_lexer": "ipython3",
   "version": "3.8.5"
  }
 },
 "nbformat": 4,
 "nbformat_minor": 4
}
