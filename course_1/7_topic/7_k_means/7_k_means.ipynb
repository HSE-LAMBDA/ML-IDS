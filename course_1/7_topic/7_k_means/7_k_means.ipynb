{
 "cells": [
  {
   "cell_type": "markdown",
   "metadata": {},
   "source": [
    "# k-means algorithm\n",
    "\n",
    "In this practice will use *k-means* algirithm to obtain \"natural\" clusters for several datasets."
   ]
  },
  {
   "cell_type": "code",
   "execution_count": null,
   "metadata": {},
   "outputs": [],
   "source": [
    "#import libraries\n",
    "\n",
    "from sklearn.cluster import KMeans \n",
    "from sklearn.datasets import make_moons, make_circles, make_blobs     #import datasets\n",
    "from matplotlib import pyplot as plt"
   ]
  },
  {
   "cell_type": "markdown",
   "metadata": {},
   "source": [
    "### Two moons dataset"
   ]
  },
  {
   "cell_type": "code",
   "execution_count": null,
   "metadata": {},
   "outputs": [],
   "source": [
    "#import samples \n",
    "\n",
    "X,y = make_moons(n_samples=200, noise=0.08, random_state = 42)"
   ]
  },
  {
   "cell_type": "code",
   "execution_count": null,
   "metadata": {
    "scrolled": true
   },
   "outputs": [],
   "source": [
    "cluster = KMeans(n_clusters=2) #initialize k-means model with two clusters\n",
    "cluster.fit(X)                 #fit the model on samples"
   ]
  },
  {
   "cell_type": "code",
   "execution_count": null,
   "metadata": {},
   "outputs": [],
   "source": [
    "#make scatter plots for samples and for predicted cluster's labels\n",
    "\n",
    "fig = plt.figure(figsize=(8,4))\n",
    "\n",
    "ax1,ax2 = fig.subplots(1,2)\n",
    "\n",
    "ax1.scatter(X[:,0],X[:,1])\n",
    "ax2.scatter(X[:,0],X[:,1],c= cluster.labels_)\n",
    "plt.title('Two moons dataset');"
   ]
  },
  {
   "cell_type": "markdown",
   "metadata": {},
   "source": [
    "### Bloobs dataset"
   ]
  },
  {
   "cell_type": "markdown",
   "metadata": {},
   "source": [
    "**Task 1**: Choose the number of clusters for k-means that describes data the best way."
   ]
  },
  {
   "cell_type": "code",
   "execution_count": null,
   "metadata": {},
   "outputs": [],
   "source": [
    "X,y = make_blobs(n_samples=200, cluster_std=2.5, random_state=42) #load the dataset\n",
    "\n",
    "cluster = KMeans(...)\n",
    "cluster.fit(X)\n",
    "\n",
    "fig = plt.figure(figsize=(8,4))\n",
    "\n",
    "ax1,ax2 = fig.subplots(1,2)\n",
    "\n",
    "ax1.scatter(X[:,0],X[:,1])\n",
    "ax2.scatter(X[:,0],X[:,1], c = ...)\n",
    "plt.title('Blobs dataset');"
   ]
  },
  {
   "cell_type": "markdown",
   "metadata": {},
   "source": [
    "### Circles dataset"
   ]
  },
  {
   "cell_type": "markdown",
   "metadata": {},
   "source": [
    "**Task 2**: Choose the number of clusters for k-means that describes data the best way."
   ]
  },
  {
   "cell_type": "code",
   "execution_count": null,
   "metadata": {},
   "outputs": [],
   "source": [
    "X,y = make_circles(400, noise=0.07, factor=0.5, random_state=42) #load the dataset\n",
    "\n",
    "cluster = KMeans(...)\n",
    "cluster.fit(X)\n",
    "\n",
    "fig = plt.figure(figsize=(8,4))\n",
    "\n",
    "ax1,ax2 = fig.subplots(1,2)\n",
    "\n",
    "ax1.scatter(X[:,0],X[:,1])\n",
    "ax2.scatter(X[:,0],X[:,1],c= cluster.labels_)\n",
    "plt.title('Circles dataset');"
   ]
  }
 ],
 "metadata": {
  "kernelspec": {
   "display_name": "Python 3",
   "language": "python",
   "name": "python3"
  },
  "language_info": {
   "codemirror_mode": {
    "name": "ipython",
    "version": 3
   },
   "file_extension": ".py",
   "mimetype": "text/x-python",
   "name": "python",
   "nbconvert_exporter": "python",
   "pygments_lexer": "ipython3",
   "version": "3.8.5"
  }
 },
 "nbformat": 4,
 "nbformat_minor": 4
}
